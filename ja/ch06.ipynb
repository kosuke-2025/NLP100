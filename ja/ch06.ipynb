{
  "cells": [
    {
      "cell_type": "markdown",
      "id": "8df29512-a5c0-4e06-8c53-91eaab143762",
      "metadata": {
        "editable": true,
        "id": "8df29512-a5c0-4e06-8c53-91eaab143762",
        "tags": []
      },
      "source": [
        "# 第6章: 単語ベクトル"
      ]
    },
    {
      "cell_type": "markdown",
      "id": "b05585fe-de49-4474-b2f9-57888e067319",
      "metadata": {
        "id": "b05585fe-de49-4474-b2f9-57888e067319"
      },
      "source": [
        "単語の意味を実ベクトルで表現する単語ベクトル（単語埋め込み）に関して、以下の処理を行うプログラムを作成せよ。"
      ]
    },
    {
      "cell_type": "code",
      "source": [
        "!pip install gensim\n",
        "\n",
        "import numpy\n",
        "import gensim.downloader as api\n",
        "\n",
        "model=api.load('word2vec-google-news-300')"
      ],
      "metadata": {
        "colab": {
          "base_uri": "https://localhost:8080/"
        },
        "id": "xymFX8UdeEkJ",
        "outputId": "f4afce96-b0fa-4cc2-d06a-719b2d95aef9"
      },
      "id": "xymFX8UdeEkJ",
      "execution_count": 1,
      "outputs": [
        {
          "output_type": "stream",
          "name": "stdout",
          "text": [
            "Requirement already satisfied: gensim in /usr/local/lib/python3.11/dist-packages (4.3.3)\n",
            "Requirement already satisfied: numpy<2.0,>=1.18.5 in /usr/local/lib/python3.11/dist-packages (from gensim) (1.26.4)\n",
            "Requirement already satisfied: scipy<1.14.0,>=1.7.0 in /usr/local/lib/python3.11/dist-packages (from gensim) (1.13.1)\n",
            "Requirement already satisfied: smart-open>=1.8.1 in /usr/local/lib/python3.11/dist-packages (from gensim) (7.1.0)\n",
            "Requirement already satisfied: wrapt in /usr/local/lib/python3.11/dist-packages (from smart-open>=1.8.1->gensim) (1.17.2)\n",
            "[==================================================] 100.0% 1662.8/1662.8MB downloaded\n"
          ]
        }
      ]
    },
    {
      "cell_type": "markdown",
      "id": "c0afdc8e-57f5-4388-a914-1150d846d5da",
      "metadata": {
        "id": "c0afdc8e-57f5-4388-a914-1150d846d5da"
      },
      "source": [
        "## 50. 単語ベクトルの読み込みと表示\n",
        "\n",
        "Google Newsデータセット（約1,000億単語）での[学習済み単語ベクトル](https://drive.google.com/file/d/0B7XkCwpI5KDYNlNUTTlSS21pQmM/edit?usp=sharing)（300万単語・フレーズ、300次元）をダウンロードし、\"United States\"の単語ベクトルを表示せよ。ただし、\"United States\"は内部的には\"United_States\"と表現されていることに注意せよ。"
      ]
    },
    {
      "cell_type": "code",
      "source": [
        "us = model[\"United_States\"]\n",
        "print(us)"
      ],
      "metadata": {
        "id": "VGgULzDeNbNt",
        "colab": {
          "base_uri": "https://localhost:8080/"
        },
        "outputId": "f0b5cb05-7a52-4ebb-de12-677ff0346820"
      },
      "id": "VGgULzDeNbNt",
      "execution_count": 2,
      "outputs": [
        {
          "output_type": "stream",
          "name": "stdout",
          "text": [
            "[-3.61328125e-02 -4.83398438e-02  2.35351562e-01  1.74804688e-01\n",
            " -1.46484375e-01 -7.42187500e-02 -1.01562500e-01 -7.71484375e-02\n",
            "  1.09375000e-01 -5.71289062e-02 -1.48437500e-01 -6.00585938e-02\n",
            "  1.74804688e-01 -7.71484375e-02  2.58789062e-02 -7.66601562e-02\n",
            " -3.80859375e-02  1.35742188e-01  3.75976562e-02 -4.19921875e-02\n",
            " -3.56445312e-02  5.34667969e-02  3.68118286e-04 -1.66992188e-01\n",
            " -1.17187500e-01  1.41601562e-01 -1.69921875e-01 -6.49414062e-02\n",
            " -1.66992188e-01  1.00585938e-01  1.15722656e-01 -2.18750000e-01\n",
            " -9.86328125e-02 -2.56347656e-02  1.23046875e-01 -3.54003906e-02\n",
            " -1.58203125e-01 -1.60156250e-01  2.94189453e-02  8.15429688e-02\n",
            "  6.88476562e-02  1.87500000e-01  6.49414062e-02  1.15234375e-01\n",
            " -2.27050781e-02  3.32031250e-01 -3.27148438e-02  1.77734375e-01\n",
            " -2.08007812e-01  4.54101562e-02 -1.23901367e-02  1.19628906e-01\n",
            "  7.44628906e-03 -9.03320312e-03  1.14257812e-01  1.69921875e-01\n",
            " -2.38281250e-01 -2.79541016e-02 -1.21093750e-01  2.47802734e-02\n",
            "  7.71484375e-02 -2.81982422e-02 -4.71191406e-02  1.78222656e-02\n",
            " -1.23046875e-01 -5.32226562e-02  2.68554688e-02 -3.11279297e-02\n",
            " -5.59082031e-02 -5.00488281e-02 -3.73535156e-02  1.25976562e-01\n",
            "  5.61523438e-02  1.51367188e-01  4.29687500e-02 -2.08007812e-01\n",
            " -4.78515625e-02  2.78320312e-02  1.81640625e-01  2.20703125e-01\n",
            " -3.61328125e-02 -8.39843750e-02 -3.69548798e-05 -9.52148438e-02\n",
            " -1.25000000e-01 -1.95312500e-01 -1.50390625e-01 -4.15039062e-02\n",
            "  1.31835938e-01  1.17675781e-01  1.91650391e-02  5.51757812e-02\n",
            " -9.42382812e-02 -1.08886719e-01  7.32421875e-02 -1.15234375e-01\n",
            "  8.93554688e-02 -1.40625000e-01  1.45507812e-01  4.49218750e-02\n",
            " -1.10473633e-02 -1.62353516e-02  4.05883789e-03  3.75976562e-02\n",
            " -6.98242188e-02 -5.46875000e-02  2.17285156e-02 -9.47265625e-02\n",
            "  4.24804688e-02  1.81884766e-02 -1.73339844e-02  4.63867188e-02\n",
            " -1.42578125e-01  1.99218750e-01  1.10839844e-01  2.58789062e-02\n",
            " -7.08007812e-02 -5.54199219e-02  3.45703125e-01  1.61132812e-01\n",
            " -2.44140625e-01 -2.59765625e-01 -9.71679688e-02  8.00781250e-02\n",
            " -8.78906250e-02 -7.22656250e-02  1.42578125e-01 -8.54492188e-02\n",
            " -3.18359375e-01  8.30078125e-02  6.34765625e-02  1.64062500e-01\n",
            " -1.92382812e-01 -1.17675781e-01 -5.41992188e-02 -1.56250000e-01\n",
            " -1.21582031e-01 -4.95605469e-02  1.20117188e-01 -3.83300781e-02\n",
            "  5.51757812e-02 -8.97216797e-03  4.32128906e-02  6.93359375e-02\n",
            "  8.93554688e-02  2.53906250e-01  1.65039062e-01  1.64062500e-01\n",
            " -1.41601562e-01  4.58984375e-02  1.97265625e-01 -8.98437500e-02\n",
            "  3.90625000e-02 -1.51367188e-01 -8.60595703e-03 -1.17675781e-01\n",
            " -1.97265625e-01 -1.12792969e-01  1.29882812e-01  1.96289062e-01\n",
            "  1.56402588e-03  3.93066406e-02  2.17773438e-01 -1.43554688e-01\n",
            "  6.03027344e-02 -1.35742188e-01  1.16210938e-01 -1.59912109e-02\n",
            "  2.79296875e-01  1.46484375e-01 -1.19628906e-01  1.76757812e-01\n",
            "  1.28906250e-01 -1.49414062e-01  6.93359375e-02 -1.72851562e-01\n",
            "  9.22851562e-02  1.33056641e-02 -2.00195312e-01 -9.76562500e-02\n",
            " -1.65039062e-01 -2.46093750e-01 -2.35595703e-02 -2.11914062e-01\n",
            "  1.84570312e-01 -1.85546875e-02  2.16796875e-01  5.05371094e-02\n",
            "  2.02636719e-02  4.25781250e-01  1.28906250e-01 -2.77099609e-02\n",
            "  1.29882812e-01 -1.15722656e-01 -2.05078125e-02  1.49414062e-01\n",
            "  7.81250000e-03 -2.05078125e-01 -8.05664062e-02 -2.67578125e-01\n",
            " -2.29492188e-02 -8.20312500e-02  8.64257812e-02  7.61718750e-02\n",
            " -3.66210938e-02  5.22460938e-02 -1.22070312e-01 -1.44042969e-02\n",
            " -2.69531250e-01  8.44726562e-02 -2.52685547e-02 -2.96630859e-02\n",
            " -1.68945312e-01  1.93359375e-01 -1.08398438e-01  1.94091797e-02\n",
            " -1.80664062e-01  1.93359375e-01 -7.08007812e-02  5.85937500e-02\n",
            " -1.01562500e-01 -1.31835938e-01  7.51953125e-02 -7.66601562e-02\n",
            "  3.37219238e-03 -8.59375000e-02  1.25000000e-01  2.92968750e-02\n",
            "  1.70898438e-01 -9.37500000e-02 -1.09375000e-01 -2.50244141e-02\n",
            "  2.11914062e-01 -4.44335938e-02  6.12792969e-02  2.62451172e-02\n",
            " -1.77734375e-01  1.23046875e-01 -7.42187500e-02 -1.67968750e-01\n",
            " -1.08886719e-01 -9.04083252e-04 -7.37304688e-02  5.49316406e-02\n",
            "  6.03027344e-02  8.39843750e-02  9.17968750e-02 -1.32812500e-01\n",
            "  1.22070312e-01 -8.78906250e-03  1.19140625e-01 -1.94335938e-01\n",
            " -6.64062500e-02 -2.07031250e-01  7.37304688e-02  8.93554688e-02\n",
            "  1.81884766e-02 -1.20605469e-01 -2.61230469e-02  2.67333984e-02\n",
            "  7.76367188e-02 -8.30078125e-02  6.78710938e-02 -3.54003906e-02\n",
            "  3.10546875e-01 -2.42919922e-02 -1.41601562e-01 -2.08007812e-01\n",
            " -4.57763672e-03 -6.54296875e-02 -4.95605469e-02  2.22656250e-01\n",
            "  1.53320312e-01 -1.38671875e-01 -5.24902344e-02  4.24804688e-02\n",
            " -2.38281250e-01  1.56250000e-01  5.83648682e-04 -1.20605469e-01\n",
            " -9.22851562e-02 -4.44335938e-02  3.61328125e-02 -1.86767578e-02\n",
            " -8.25195312e-02 -8.25195312e-02 -4.05273438e-02  1.19018555e-02\n",
            "  1.69921875e-01 -2.80761719e-02  3.03649902e-03  9.32617188e-02\n",
            " -8.49609375e-02  1.57470703e-02  7.03125000e-02  1.62353516e-02\n",
            " -2.27050781e-02  3.51562500e-02  2.47070312e-01 -2.67333984e-02]\n"
          ]
        }
      ]
    },
    {
      "cell_type": "markdown",
      "id": "c4e3bb10-c37f-4395-9397-ac71e36bf4ed",
      "metadata": {
        "id": "c4e3bb10-c37f-4395-9397-ac71e36bf4ed"
      },
      "source": [
        "## 51. 単語の類似度\n",
        "\n",
        "\"United States\"と\"U.S.\"のコサイン類似度を計算せよ。"
      ]
    },
    {
      "cell_type": "code",
      "source": [
        "print(model.similarity(\"United_States\", \"U.S.\"))"
      ],
      "metadata": {
        "colab": {
          "base_uri": "https://localhost:8080/"
        },
        "id": "r0gqR3uvgbSs",
        "outputId": "fe132704-f793-4a38-d388-33ebf26e3233"
      },
      "id": "r0gqR3uvgbSs",
      "execution_count": 3,
      "outputs": [
        {
          "output_type": "stream",
          "name": "stdout",
          "text": [
            "0.73107743\n"
          ]
        }
      ]
    },
    {
      "cell_type": "markdown",
      "id": "36314a02-d3d8-4121-b310-e800b2d1ce3e",
      "metadata": {
        "id": "36314a02-d3d8-4121-b310-e800b2d1ce3e"
      },
      "source": [
        "## 52. 類似度の高い単語10件\n",
        "\n",
        "\"United States\"とコサイン類似度が高い10語と、その類似度を出力せよ。"
      ]
    },
    {
      "cell_type": "code",
      "source": [
        "print(model.most_similar(positive=[\"United_States\"], topn=10))"
      ],
      "metadata": {
        "colab": {
          "base_uri": "https://localhost:8080/"
        },
        "id": "SmX3YkDQggYg",
        "outputId": "899e4ec7-1af3-4aa8-d238-b75bba51bea4"
      },
      "id": "SmX3YkDQggYg",
      "execution_count": 4,
      "outputs": [
        {
          "output_type": "stream",
          "name": "stdout",
          "text": [
            "[('Unites_States', 0.7877248525619507), ('Untied_States', 0.7541370987892151), ('United_Sates', 0.7400724291801453), ('U.S.', 0.7310774326324463), ('theUnited_States', 0.6404393911361694), ('America', 0.6178410053253174), ('UnitedStates', 0.6167312264442444), ('Europe', 0.6132988929748535), ('countries', 0.6044804453849792), ('Canada', 0.601906955242157)]\n"
          ]
        }
      ]
    },
    {
      "cell_type": "markdown",
      "id": "6de3ff5c-5285-4e96-b8d7-4f995635d146",
      "metadata": {
        "id": "6de3ff5c-5285-4e96-b8d7-4f995635d146"
      },
      "source": [
        "## 53. 加法構成性によるアナロジー\n",
        "\n",
        "\"Spain\"の単語ベクトルから\"Madrid\"のベクトルを引き、\"Athens\"のベクトルを足したベクトルを計算し、そのベクトルと類似度の高い10語とその類似度を出力せよ。"
      ]
    },
    {
      "cell_type": "code",
      "source": [
        "print(model.most_similar(positive=[\"Spain\", \"Athens\"], negative=[\"Madrid\"], topn=10))"
      ],
      "metadata": {
        "colab": {
          "base_uri": "https://localhost:8080/"
        },
        "id": "pFjkAOlag36n",
        "outputId": "165f85c7-aeb3-422c-f390-95b0e8d2ff16"
      },
      "id": "pFjkAOlag36n",
      "execution_count": 5,
      "outputs": [
        {
          "output_type": "stream",
          "name": "stdout",
          "text": [
            "[('Greece', 0.6898480653762817), ('Aristeidis_Grigoriadis', 0.560684859752655), ('Ioannis_Drymonakos', 0.5552908778190613), ('Greeks', 0.545068621635437), ('Ioannis_Christou', 0.5400862097740173), ('Hrysopiyi_Devetzi', 0.5248445272445679), ('Heraklio', 0.5207759737968445), ('Athens_Greece', 0.516880989074707), ('Lithuania', 0.5166865587234497), ('Iraklion', 0.5146791338920593)]\n"
          ]
        }
      ]
    },
    {
      "cell_type": "markdown",
      "id": "d5db38ad-b7f4-40b2-a068-0dea071d23e7",
      "metadata": {
        "id": "d5db38ad-b7f4-40b2-a068-0dea071d23e7"
      },
      "source": [
        "## 54. アナロジーデータでの実験\n",
        "\n",
        "[単語アナロジーの評価データ](http://download.tensorflow.org/data/questions-words.txt)をダウンロードし、国と首都に関する事例（`: capital-common-countries`セクション）に対して、vec(2列目の単語) - vec(1列目の単語) + vec(3列目の単語)を計算し、そのベクトルと類似度が最も高い単語と、その類似度を求めよ。求めた単語と類似度は、各事例と一緒に記録せよ。"
      ]
    },
    {
      "cell_type": "code",
      "source": [
        "!wget http://download.tensorflow.org/data/questions-words.txt\n",
        "\n",
        "with open(\"questions-words.txt\", \"r\") as f:\n",
        "  flag=0\n",
        "  list=[]\n",
        "  for line in f:\n",
        "    if flag==1 and line.startswith(\":\"):\n",
        "      break\n",
        "    if line.startswith(\": capital-common-countries\"):\n",
        "      flag=1\n",
        "      continue\n",
        "    if flag==1:\n",
        "      vec1,vec2,vec3,name=line.split()\n",
        "      predict,score=model.most_similar(positive=[vec2,vec3], negative=[vec1],topn=1)[0]\n",
        "      list.append((name,predict))\n",
        "      print(f\"答え:{name}\\t予想:{predict}({score})\")"
      ],
      "metadata": {
        "colab": {
          "base_uri": "https://localhost:8080/"
        },
        "id": "4SZOe1oDh1uL",
        "outputId": "7c6769ae-02c4-4314-d3f2-a4ce69345542"
      },
      "id": "4SZOe1oDh1uL",
      "execution_count": 7,
      "outputs": [
        {
          "output_type": "stream",
          "name": "stdout",
          "text": [
            "--2025-05-12 04:00:26--  http://download.tensorflow.org/data/questions-words.txt\n",
            "Resolving download.tensorflow.org (download.tensorflow.org)... 173.194.64.207, 74.125.126.207, 74.125.132.207, ...\n",
            "Connecting to download.tensorflow.org (download.tensorflow.org)|173.194.64.207|:80... connected.\n",
            "HTTP request sent, awaiting response... 200 OK\n",
            "Length: 603955 (590K) [text/plain]\n",
            "Saving to: ‘questions-words.txt’\n",
            "\n",
            "\rquestions-words.txt   0%[                    ]       0  --.-KB/s               \rquestions-words.txt 100%[===================>] 589.80K  --.-KB/s    in 0.002s  \n",
            "\n",
            "2025-05-12 04:00:27 (254 MB/s) - ‘questions-words.txt’ saved [603955/603955]\n",
            "\n",
            "答え:Iraq\t予想:Iraqi(0.635187029838562)\n",
            "答え:Thailand\t予想:Thailand(0.7137669324874878)\n",
            "答え:China\t予想:China(0.7235778570175171)\n",
            "答え:Germany\t予想:Germany(0.6734622716903687)\n",
            "答え:Switzerland\t予想:Switzerland(0.4919748306274414)\n",
            "答え:Egypt\t予想:Egypt(0.7527808547019958)\n",
            "答え:Australia\t予想:Australia(0.583732545375824)\n",
            "答え:Vietnam\t予想:Viet_Nam(0.6276341676712036)\n",
            "答え:Cuba\t予想:Cuba(0.6460990905761719)\n",
            "答え:Finland\t予想:Finland(0.68999844789505)\n",
            "答え:Pakistan\t予想:Pakistan(0.7233326435089111)\n",
            "答え:Afghanistan\t予想:Afghan(0.6160916090011597)\n",
            "答え:England\t予想:Britain(0.5646188259124756)\n",
            "答え:Spain\t予想:Spain(0.703661322593689)\n",
            "答え:Russia\t予想:Russia(0.7382973432540894)\n",
            "答え:Norway\t予想:Norway(0.6470744013786316)\n",
            "答え:Canada\t予想:Canada(0.5912168622016907)\n",
            "答え:France\t予想:France(0.6724624633789062)\n",
            "答え:Italy\t予想:Italy(0.6826190948486328)\n",
            "答え:Sweden\t予想:Sweden(0.6757243871688843)\n",
            "答え:Iran\t予想:Iran(0.7671369910240173)\n",
            "答え:Japan\t予想:Japan(0.7256094813346863)\n",
            "答え:Thailand\t予想:Thailand(0.6745355129241943)\n",
            "答え:China\t予想:China(0.6915649175643921)\n",
            "答え:Germany\t予想:Germany(0.6057409048080444)\n",
            "答え:Switzerland\t予想:coach_Bobby_Curlings(0.4347156882286072)\n",
            "答え:Egypt\t予想:Egypt(0.6848487854003906)\n",
            "答え:Australia\t予想:Mr_Rudd(0.6186109185218811)\n",
            "答え:Vietnam\t予想:Vietnam(0.7493551969528198)\n",
            "答え:Cuba\t予想:Cuba(0.7133255004882812)\n",
            "答え:Finland\t予想:Finland(0.5972561836242676)\n",
            "答え:Pakistan\t予想:Pakistan(0.7466936707496643)\n",
            "答え:Afghanistan\t予想:Afghanistan(0.8359360098838806)\n",
            "答え:England\t予想:Britain(0.5853632688522339)\n",
            "答え:Spain\t予想:Spain(0.6144676804542542)\n",
            "答え:Russia\t予想:Russia(0.7236211895942688)\n",
            "答え:Norway\t予想:Norway(0.5987579822540283)\n",
            "答え:Canada\t予想:Prime_Minister_Jean_Chrétien(0.5704856514930725)\n",
            "答え:France\t予想:France(0.6203721761703491)\n",
            "答え:Italy\t予想:Italy(0.5362658500671387)\n",
            "答え:Sweden\t予想:Sweden(0.5907803177833557)\n",
            "答え:Iran\t予想:Iran(0.8114986419677734)\n",
            "答え:Japan\t予想:Japan(0.7056296467781067)\n",
            "答え:Greece\t予想:Greece(0.5793530941009521)\n",
            "答え:China\t予想:China(0.8263983726501465)\n",
            "答え:Germany\t予想:Germany(0.729519784450531)\n",
            "答え:Switzerland\t予想:Switzerland(0.5047769546508789)\n",
            "答え:Egypt\t予想:Egypt(0.8118714094161987)\n",
            "答え:Australia\t予想:Australia(0.7154911160469055)\n",
            "答え:Vietnam\t予想:Viet_Nam(0.7700590491294861)\n",
            "答え:Cuba\t予想:Cuba(0.800740659236908)\n",
            "答え:Finland\t予想:Finland(0.7515274286270142)\n",
            "答え:Pakistan\t予想:Pakistan(0.7976753115653992)\n",
            "答え:Afghanistan\t予想:Afghanistan(0.6666889190673828)\n",
            "答え:England\t予想:Britain(0.6576252579689026)\n",
            "答え:Spain\t予想:Spain(0.765529990196228)\n",
            "答え:Russia\t予想:Russia(0.8613657355308533)\n",
            "答え:Norway\t予想:Norway(0.7142738103866577)\n",
            "答え:Canada\t予想:Canada(0.6684818863868713)\n",
            "答え:France\t予想:France(0.7388160228729248)\n",
            "答え:Italy\t予想:Italy(0.6863130331039429)\n",
            "答え:Sweden\t予想:Sweden(0.7587180733680725)\n",
            "答え:Iran\t予想:Iran(0.8363437652587891)\n",
            "答え:Japan\t予想:Japan(0.8282634615898132)\n",
            "答え:Greece\t予想:Greece(0.6765021681785583)\n",
            "答え:Iraq\t予想:Iraqi(0.6885136365890503)\n",
            "答え:Germany\t予想:Germany(0.7232257723808289)\n",
            "答え:Switzerland\t予想:Bern_NC(0.4655816853046417)\n",
            "答え:Egypt\t予想:Egypt(0.7653075456619263)\n",
            "答え:Australia\t予想:Australia(0.7234394550323486)\n",
            "答え:Vietnam\t予想:Viet_Nam(0.7793145775794983)\n",
            "答え:Cuba\t予想:Cuba(0.7189655900001526)\n",
            "答え:Finland\t予想:Finland(0.7141392827033997)\n",
            "答え:Pakistan\t予想:Pakistan(0.8062407374382019)\n",
            "答え:Afghanistan\t予想:Afghan(0.6770888566970825)\n",
            "答え:England\t予想:UK(0.6304796934127808)\n",
            "答え:Spain\t予想:Spain(0.7320305109024048)\n",
            "答え:Russia\t予想:Russia(0.8579801917076111)\n",
            "答え:Norway\t予想:Norway(0.6628976464271545)\n",
            "答え:Canada\t予想:Canada(0.6537172794342041)\n",
            "答え:France\t予想:France(0.7109121680259705)\n",
            "答え:Italy\t予想:Italy(0.663748562335968)\n",
            "答え:Sweden\t予想:Sweden(0.7026647925376892)\n",
            "答え:Iran\t予想:Iran(0.826274573802948)\n",
            "答え:Japan\t予想:Japan(0.8236702680587769)\n",
            "答え:Greece\t予想:Greece(0.6515147089958191)\n",
            "答え:Iraq\t予想:Mosul(0.7041885852813721)\n",
            "答え:Thailand\t予想:Thailand(0.8047244548797607)\n",
            "答え:Switzerland\t予想:Switzerland(0.609531819820404)\n",
            "答え:Egypt\t予想:Egypt(0.6912306547164917)\n",
            "答え:Australia\t予想:Australia(0.7485095858573914)\n",
            "答え:Vietnam\t予想:Viet_Nam(0.6875089406967163)\n",
            "答え:Cuba\t予想:Cuba(0.6961181163787842)\n",
            "答え:Finland\t予想:Finland(0.7654494047164917)\n",
            "答え:Pakistan\t予想:Pakistan(0.7597626447677612)\n",
            "答え:Afghanistan\t予想:Afghan(0.6450541615486145)\n",
            "答え:England\t予想:UK(0.6597434282302856)\n",
            "答え:Spain\t予想:Spain(0.7768210768699646)\n",
            "答え:Russia\t予想:Russia(0.8107380867004395)\n",
            "答え:Norway\t予想:Norway(0.7291736602783203)\n",
            "答え:Canada\t予想:Canada(0.6773226857185364)\n",
            "答え:France\t予想:France(0.7884092926979065)\n",
            "答え:Italy\t予想:Italy(0.7509608268737793)\n",
            "答え:Sweden\t予想:Sweden(0.8022658228874207)\n",
            "答え:Iran\t予想:Iran(0.7747756838798523)\n",
            "答え:Japan\t予想:Japan(0.7969788312911987)\n",
            "答え:Greece\t予想:Greece(0.6390470862388611)\n",
            "答え:Iraq\t予想:Mosul(0.686406135559082)\n",
            "答え:Thailand\t予想:Thailand(0.7680835127830505)\n",
            "答え:China\t予想:China(0.7755853533744812)\n",
            "答え:Egypt\t予想:Egypt(0.5989274978637695)\n",
            "答え:Australia\t予想:Australia(0.6860506534576416)\n",
            "答え:Vietnam\t予想:Viet_Nam(0.5609371066093445)\n",
            "答え:Cuba\t予想:Cuba(0.6295959949493408)\n",
            "答え:Finland\t予想:Finland(0.6637659072875977)\n",
            "答え:Pakistan\t予想:Pakistan(0.6708024144172668)\n",
            "答え:Afghanistan\t予想:Afghanistan(0.5338183641433716)\n",
            "答え:England\t予想:EURASIAN_NATURAL_RESOURCES_CORP.(0.5463826060295105)\n",
            "答え:Spain\t予想:Spain(0.6423718333244324)\n",
            "答え:Russia\t予想:Russia(0.6487589478492737)\n",
            "答え:Norway\t予想:Norway(0.6448377966880798)\n",
            "答え:Canada\t予想:Canada(0.646811306476593)\n",
            "答え:France\t予想:France(0.6129553914070129)\n",
            "答え:Italy\t予想:Italy(0.6486327052116394)\n",
            "答え:Sweden\t予想:Sweden(0.684966504573822)\n",
            "答え:Iran\t予想:Iran(0.6813835501670837)\n",
            "答え:Japan\t予想:Japan(0.6434275507926941)\n",
            "答え:Greece\t予想:Greece(0.5800099968910217)\n",
            "答え:Iraq\t予想:Iraqi(0.5730240941047668)\n",
            "答え:Thailand\t予想:Thailand(0.6617313623428345)\n",
            "答え:China\t予想:China(0.6225298643112183)\n",
            "答え:Germany\t予想:Germany(0.7138351202011108)\n",
            "答え:Australia\t予想:Australia(0.6811555027961731)\n",
            "答え:Vietnam\t予想:Viet_Nam(0.7589392066001892)\n",
            "答え:Cuba\t予想:Cuba(0.7639017105102539)\n",
            "答え:Finland\t予想:Finland(0.7256742119789124)\n",
            "答え:Pakistan\t予想:Pakistan(0.8155920505523682)\n",
            "答え:Afghanistan\t予想:Afghan(0.6829640865325928)\n",
            "答え:England\t予想:Britain(0.6454267501831055)\n",
            "答え:Spain\t予想:Spain(0.7469132542610168)\n",
            "答え:Russia\t予想:Russia(0.8426570892333984)\n",
            "答え:Norway\t予想:Norway(0.6975642442703247)\n",
            "答え:Canada\t予想:Canada(0.6659149527549744)\n",
            "答え:France\t予想:France(0.7114197611808777)\n",
            "答え:Italy\t予想:Italy(0.6812828779220581)\n",
            "答え:Sweden\t予想:Sweden(0.7365161776542664)\n",
            "答え:Iran\t予想:Iran(0.8531846404075623)\n",
            "答え:Japan\t予想:Japan(0.7753520011901855)\n",
            "答え:Greece\t予想:Greece(0.7355356216430664)\n",
            "答え:Iraq\t予想:Iraqi(0.7208045721054077)\n",
            "答え:Thailand\t予想:Thailand(0.8275744318962097)\n",
            "答え:China\t予想:China(0.806604266166687)\n",
            "答え:Germany\t予想:Germany(0.7016905546188354)\n",
            "答え:Switzerland\t予想:Switzerland(0.4930407404899597)\n",
            "答え:Vietnam\t予想:Viet_Nam(0.6714490652084351)\n",
            "答え:Cuba\t予想:Cuba(0.6964417695999146)\n",
            "答え:Finland\t予想:Finland(0.690654993057251)\n",
            "答え:Pakistan\t予想:Pakistan(0.7743955850601196)\n",
            "答え:Afghanistan\t予想:Afghans(0.5854719877243042)\n",
            "答え:England\t予想:UK(0.6224532723426819)\n",
            "答え:Spain\t予想:Spain(0.7410276532173157)\n",
            "答え:Russia\t予想:Russia(0.7891086339950562)\n",
            "答え:Norway\t予想:Norway(0.6703749299049377)\n",
            "答え:Canada\t予想:Canada(0.7492120265960693)\n",
            "答え:France\t予想:France(0.7159996032714844)\n",
            "答え:Italy\t予想:Italy(0.663947343826294)\n",
            "答え:Sweden\t予想:Sweden(0.7069719433784485)\n",
            "答え:Iran\t予想:Iran(0.7551094889640808)\n",
            "答え:Japan\t予想:Japan(0.7584798336029053)\n",
            "答え:Greece\t予想:Greece(0.5700702667236328)\n",
            "答え:Iraq\t予想:Mosul(0.6397027969360352)\n",
            "答え:Thailand\t予想:Thailand(0.7358657717704773)\n",
            "答え:China\t予想:China(0.7823367714881897)\n",
            "答え:Germany\t予想:Germany(0.7441055774688721)\n",
            "答え:Switzerland\t予想:Switzerland(0.5360245108604431)\n",
            "答え:Egypt\t予想:Egypt(0.6859404444694519)\n",
            "答え:Cuba\t予想:Cuba(0.68318110704422)\n",
            "答え:Finland\t予想:Finland(0.5732652544975281)\n",
            "答え:Pakistan\t予想:Pakistan(0.7073384523391724)\n",
            "答え:Afghanistan\t予想:Afghanistan(0.7566174864768982)\n",
            "答え:England\t予想:Britain(0.5320746302604675)\n",
            "答え:Spain\t予想:Spain(0.6318690180778503)\n",
            "答え:Russia\t予想:Russia(0.6925883293151855)\n",
            "答え:Norway\t予想:Norway(0.5300316214561462)\n",
            "答え:Canada\t予想:Canada(0.5802633166313171)\n",
            "答え:France\t予想:France(0.5821924209594727)\n",
            "答え:Italy\t予想:Italy(0.5208398699760437)\n",
            "答え:Sweden\t予想:Sweden(0.5909289717674255)\n",
            "答え:Iran\t予想:Iran(0.7381366491317749)\n",
            "答え:Japan\t予想:Japan(0.6836793422698975)\n",
            "答え:Greece\t予想:Greece(0.5295498967170715)\n",
            "答え:Iraq\t予想:Iraq(0.7784610986709595)\n",
            "答え:Thailand\t予想:Thailand(0.694861888885498)\n",
            "答え:China\t予想:China(0.7234392762184143)\n",
            "答え:Germany\t予想:Germany(0.5970562100410461)\n",
            "答え:Switzerland\t予想:Bern_NC(0.497576504945755)\n",
            "答え:Egypt\t予想:Egypt(0.70243239402771)\n",
            "答え:Australia\t予想:Australia(0.6169843673706055)\n",
            "答え:Finland\t予想:Finland(0.6971813440322876)\n",
            "答え:Pakistan\t予想:Pakistan(0.812371551990509)\n",
            "答え:Afghanistan\t予想:Afghanistan(0.7092918157577515)\n",
            "答え:England\t予想:Britain(0.6217108368873596)\n",
            "答え:Spain\t予想:Spain(0.6929836869239807)\n",
            "答え:Russia\t予想:Russia(0.8237830400466919)\n",
            "答え:Norway\t予想:Norway(0.7030717134475708)\n",
            "答え:Canada\t予想:Canada(0.656257688999176)\n",
            "答え:France\t予想:France(0.6843083500862122)\n",
            "答え:Italy\t予想:Italy(0.6025851368904114)\n",
            "答え:Sweden\t予想:Sweden(0.7303112745285034)\n",
            "答え:Iran\t予想:Iran(0.8635510206222534)\n",
            "答え:Japan\t予想:Japan(0.7725998759269714)\n",
            "答え:Greece\t予想:Greece(0.6323992013931274)\n",
            "答え:Iraq\t予想:Iraq(0.7371042966842651)\n",
            "答え:Thailand\t予想:Thailand(0.7950247526168823)\n",
            "答え:China\t予想:China(0.7704688906669617)\n",
            "答え:Germany\t予想:Germany(0.6952270865440369)\n",
            "答え:Switzerland\t予想:Switzerland(0.502707302570343)\n",
            "答え:Egypt\t予想:Egypt(0.7647275924682617)\n",
            "答え:Australia\t予想:Australia(0.6877731680870056)\n",
            "答え:Vietnam\t予想:Viet_Nam(0.7109317779541016)\n",
            "答え:Pakistan\t予想:Pakistan(0.7291182279586792)\n",
            "答え:Afghanistan\t予想:Afghan(0.6359645128250122)\n",
            "答え:England\t予想:Britain(0.6623522043228149)\n",
            "答え:Spain\t予想:Spain(0.7539469003677368)\n",
            "答え:Russia\t予想:Russia(0.7918932437896729)\n",
            "答え:Norway\t予想:Norway(0.7523171305656433)\n",
            "答え:Canada\t予想:Canada(0.6696931719779968)\n",
            "答え:France\t予想:France(0.7549224495887756)\n",
            "答え:Italy\t予想:Italy(0.6867628693580627)\n",
            "答え:Sweden\t予想:Sweden(0.8256370425224304)\n",
            "答え:Iran\t予想:Iran(0.7732709646224976)\n",
            "答え:Japan\t予想:Japan(0.80302494764328)\n",
            "答え:Greece\t予想:Greece(0.6566227078437805)\n",
            "答え:Iraq\t予想:Mosul(0.6506971716880798)\n",
            "答え:Thailand\t予想:Thailand(0.752036452293396)\n",
            "答え:China\t予想:China(0.7568844556808472)\n",
            "答え:Germany\t予想:Germany(0.7419473528862)\n",
            "答え:Switzerland\t予想:Switzerland(0.5047451257705688)\n",
            "答え:Egypt\t予想:Egypt(0.7302724719047546)\n",
            "答え:Australia\t予想:Australia(0.6987783312797546)\n",
            "答え:Vietnam\t予想:Viet_Nam(0.6931595206260681)\n",
            "答え:Cuba\t予想:Cuba(0.6899741888046265)\n",
            "答え:Afghanistan\t予想:Afghan(0.7332904934883118)\n",
            "答え:England\t予想:Britain(0.6056548953056335)\n",
            "答え:Spain\t予想:Spain(0.6914529800415039)\n",
            "答え:Russia\t予想:Russia(0.831927478313446)\n",
            "答え:Norway\t予想:Norway(0.6795673370361328)\n",
            "答え:Canada\t予想:Canada(0.6421677470207214)\n",
            "答え:France\t予想:France(0.6944430470466614)\n",
            "答え:Italy\t予想:Italy(0.6518086194992065)\n",
            "答え:Sweden\t予想:Sweden(0.7098784446716309)\n",
            "答え:Iran\t予想:Iran(0.8605972528457642)\n",
            "答え:Japan\t予想:Japan(0.7747603058815002)\n",
            "答え:Greece\t予想:Greece(0.6418431401252747)\n",
            "答え:Iraq\t予想:Iraqi(0.7481117844581604)\n",
            "答え:Thailand\t予想:Thailand(0.7783142328262329)\n",
            "答え:China\t予想:China(0.8079829812049866)\n",
            "答え:Germany\t予想:Germany(0.7216540575027466)\n",
            "答え:Switzerland\t予想:Switzerland(0.4968326687812805)\n",
            "答え:Egypt\t予想:Egypt(0.7879178524017334)\n",
            "答え:Australia\t予想:Australia(0.7616326808929443)\n",
            "答え:Vietnam\t予想:Viet_Nam(0.7534359693527222)\n",
            "答え:Cuba\t予想:Cuba(0.7958503365516663)\n",
            "答え:Finland\t予想:Finland(0.6935102939605713)\n",
            "答え:England\t予想:EURASIAN_NATURAL_RESOURCES_CORP.(0.5547584891319275)\n",
            "答え:Spain\t予想:Spain(0.6156004667282104)\n",
            "答え:Russia\t予想:Russia(0.7199913263320923)\n",
            "答え:Norway\t予想:Norway(0.5757439136505127)\n",
            "答え:Canada\t予想:Ontario(0.551449179649353)\n",
            "答え:France\t予想:France(0.6088168621063232)\n",
            "答え:Italy\t予想:Italy(0.5375438332557678)\n",
            "答え:Sweden\t予想:Sweden(0.5849065184593201)\n",
            "答え:Iran\t予想:Iran(0.7807148098945618)\n",
            "答え:Japan\t予想:Japan(0.6695030927658081)\n",
            "答え:Greece\t予想:Greece(0.5494598746299744)\n",
            "答え:Iraq\t予想:Iraq(0.860798180103302)\n",
            "答え:Thailand\t予想:Thailand(0.6891651153564453)\n",
            "答え:China\t予想:China(0.6837893128395081)\n",
            "答え:Germany\t予想:Germany(0.6105466485023499)\n",
            "答え:Switzerland\t予想:Bern_NC(0.4233846962451935)\n",
            "答え:Egypt\t予想:Egypt(0.6705425977706909)\n",
            "答え:Australia\t予想:Mr_Rudd(0.6034547686576843)\n",
            "答え:Vietnam\t予想:Vietnam(0.7514270544052124)\n",
            "答え:Cuba\t予想:Cuba(0.7205935120582581)\n",
            "答え:Finland\t予想:Finland(0.5768634080886841)\n",
            "答え:Pakistan\t予想:Pakistan(0.7463313341140747)\n",
            "答え:Spain\t予想:Spain(0.6087851524353027)\n",
            "答え:Russia\t予想:Russia(0.6502718329429626)\n",
            "答え:Norway\t予想:Norway(0.5689430236816406)\n",
            "答え:Canada\t予想:Canada(0.5256191492080688)\n",
            "答え:France\t予想:France(0.6676377654075623)\n",
            "答え:Italy\t予想:Italy(0.5715967416763306)\n",
            "答え:Sweden\t予想:Sweden(0.6610991358757019)\n",
            "答え:Iran\t予想:Iran(0.6443779468536377)\n",
            "答え:Japan\t予想:Japan(0.6889491081237793)\n",
            "答え:Greece\t予想:Greece(0.5293722152709961)\n",
            "答え:Iraq\t予想:Iraqi(0.5854012370109558)\n",
            "答え:Thailand\t予想:Thailand(0.6264095306396484)\n",
            "答え:China\t予想:China(0.6181187033653259)\n",
            "答え:Germany\t予想:Germany(0.5952339172363281)\n",
            "答え:Switzerland\t予想:Hanover(0.45303669571876526)\n",
            "答え:Egypt\t予想:Egypt(0.5641492009162903)\n",
            "答え:Australia\t予想:Australia(0.6054890155792236)\n",
            "答え:Vietnam\t予想:Viet_Nam(0.5810424089431763)\n",
            "答え:Cuba\t予想:Cuba(0.5627489686012268)\n",
            "答え:Finland\t予想:Finland(0.621544599533081)\n",
            "答え:Pakistan\t予想:Pakistan(0.6654636859893799)\n",
            "答え:Afghanistan\t予想:Afghan(0.5733119249343872)\n",
            "答え:Russia\t予想:Russia(0.8136780858039856)\n",
            "答え:Norway\t予想:Norway(0.7230186462402344)\n",
            "答え:Canada\t予想:Canada(0.6814808249473572)\n",
            "答え:France\t予想:France(0.7609949111938477)\n",
            "答え:Italy\t予想:Italy(0.7004685997962952)\n",
            "答え:Sweden\t予想:Sweden(0.7822341918945312)\n",
            "答え:Iran\t予想:Iran(0.7588755488395691)\n",
            "答え:Japan\t予想:Japan(0.8010955452919006)\n",
            "答え:Greece\t予想:Greece(0.6898480653762817)\n",
            "答え:Iraq\t予想:Mosul(0.6579502820968628)\n",
            "答え:Thailand\t予想:Thailand(0.7701380252838135)\n",
            "答え:China\t予想:China(0.7744125127792358)\n",
            "答え:Germany\t予想:Germany(0.7501678466796875)\n",
            "答え:Switzerland\t予想:Switzerland(0.4854031801223755)\n",
            "答え:Egypt\t予想:Egypt(0.7326660752296448)\n",
            "答え:Australia\t予想:Australia(0.7068917751312256)\n",
            "答え:Vietnam\t予想:Viet_Nam(0.7359681725502014)\n",
            "答え:Cuba\t予想:Cuba(0.7222689390182495)\n",
            "答え:Finland\t予想:Finland(0.7638068199157715)\n",
            "答え:Pakistan\t予想:Pakistan(0.7176594138145447)\n",
            "答え:Afghanistan\t予想:Herat(0.6163390874862671)\n",
            "答え:England\t予想:Britain(0.6784725189208984)\n",
            "答え:Norway\t予想:Norway(0.7606368660926819)\n",
            "答え:Canada\t予想:Canada(0.7216339707374573)\n",
            "答え:France\t予想:France(0.8050409555435181)\n",
            "答え:Italy\t予想:Italy(0.7074910998344421)\n",
            "答え:Sweden\t予想:Sweden(0.8054226040840149)\n",
            "答え:Iran\t予想:Iran(0.8776857256889343)\n",
            "答え:Japan\t予想:Japan(0.8773881793022156)\n",
            "答え:Greece\t予想:Greece(0.6744523048400879)\n",
            "答え:Iraq\t予想:Mosul(0.7155515551567078)\n",
            "答え:Thailand\t予想:Thailand(0.8425170183181763)\n",
            "答え:China\t予想:China(0.8687476515769958)\n",
            "答え:Germany\t予想:Germany(0.7774251699447632)\n",
            "答え:Switzerland\t予想:Switzerland(0.4851691424846649)\n",
            "答え:Egypt\t予想:Egypt(0.8018569946289062)\n",
            "答え:Australia\t予想:Australia(0.7593482136726379)\n",
            "答え:Vietnam\t予想:Viet_Nam(0.7691516280174255)\n",
            "答え:Cuba\t予想:Cuba(0.7886744141578674)\n",
            "答え:Finland\t予想:Finland(0.7779613733291626)\n",
            "答え:Pakistan\t予想:Pakistan(0.8369842767715454)\n",
            "答え:Afghanistan\t予想:Afghan(0.7208551168441772)\n",
            "答え:England\t予想:Britain(0.7028806805610657)\n",
            "答え:Spain\t予想:Spain(0.7905083894729614)\n",
            "答え:Canada\t予想:Canada(0.6809222102165222)\n",
            "答え:France\t予想:France(0.7315605282783508)\n",
            "答え:Italy\t予想:Italy(0.6817960143089294)\n",
            "答え:Sweden\t予想:Sweden(0.8222189545631409)\n",
            "答え:Iran\t予想:Iran(0.7522602677345276)\n",
            "答え:Japan\t予想:Japan(0.7785906791687012)\n",
            "答え:Greece\t予想:Greece(0.631377100944519)\n",
            "答え:Iraq\t予想:Mosul(0.6509431600570679)\n",
            "答え:Thailand\t予想:Thailand(0.7387948632240295)\n",
            "答え:China\t予想:China(0.7163817286491394)\n",
            "答え:Germany\t予想:Germany(0.7219190001487732)\n",
            "答え:Switzerland\t予想:Switzerland(0.5127913355827332)\n",
            "答え:Egypt\t予想:Egypt(0.6662337779998779)\n",
            "答え:Australia\t予想:Australia(0.6750895977020264)\n",
            "答え:Vietnam\t予想:Viet_Nam(0.6644774675369263)\n",
            "答え:Cuba\t予想:Cuba(0.6874871253967285)\n",
            "答え:Finland\t予想:Finland(0.7806000709533691)\n",
            "答え:Pakistan\t予想:Pakistan(0.7272923588752747)\n",
            "答え:Afghanistan\t予想:Afghan(0.6326095461845398)\n",
            "答え:England\t予想:Britain(0.6456331610679626)\n",
            "答え:Spain\t予想:Spain(0.7302021384239197)\n",
            "答え:Russia\t予想:Russia(0.7961565256118774)\n",
            "答え:France\t予想:France(0.693991482257843)\n",
            "答え:Italy\t予想:Italy(0.6293003559112549)\n",
            "答え:Sweden\t予想:Sweden(0.6766181588172913)\n",
            "答え:Iran\t予想:Iran(0.7350882291793823)\n",
            "答え:Japan\t予想:Japan(0.7678512930870056)\n",
            "答え:Greece\t予想:Greece(0.6065006256103516)\n",
            "答え:Iraq\t予想:Mosul(0.6319441795349121)\n",
            "答え:Thailand\t予想:Thailand(0.7114494442939758)\n",
            "答え:China\t予想:China(0.7349015474319458)\n",
            "答え:Germany\t予想:Germany(0.7051476240158081)\n",
            "答え:Switzerland\t予想:Switzerland(0.504915714263916)\n",
            "答え:Egypt\t予想:Egypt(0.6439141035079956)\n",
            "答え:Australia\t予想:Australia(0.7822460532188416)\n",
            "答え:Vietnam\t予想:Viet_Nam(0.6644910573959351)\n",
            "答え:Cuba\t予想:Cuba(0.6701314449310303)\n",
            "答え:Finland\t予想:Finland(0.6524146795272827)\n",
            "答え:Pakistan\t予想:Pakistan(0.689796507358551)\n",
            "答え:Afghanistan\t予想:Afghan(0.5671026110649109)\n",
            "答え:England\t予想:UK(0.6362294554710388)\n",
            "答え:Spain\t予想:Spain(0.7073505520820618)\n",
            "答え:Russia\t予想:Russia(0.7822917103767395)\n",
            "答え:Norway\t予想:Norway(0.6731111407279968)\n",
            "答え:Italy\t予想:Italy(0.714356005191803)\n",
            "答え:Sweden\t予想:Sweden(0.7924454212188721)\n",
            "答え:Iran\t予想:Iran(0.7771148681640625)\n",
            "答え:Japan\t予想:Japan(0.8167770504951477)\n",
            "答え:Greece\t予想:Greece(0.6378624439239502)\n",
            "答え:Iraq\t予想:Mosul(0.6609416604042053)\n",
            "答え:Thailand\t予想:Thailand(0.7508310079574585)\n",
            "答え:China\t予想:China(0.764479398727417)\n",
            "答え:Germany\t予想:Germany(0.7901254892349243)\n",
            "答え:Switzerland\t予想:Switzerland(0.48789724707603455)\n",
            "答え:Egypt\t予想:Egypt(0.7062106728553772)\n",
            "答え:Australia\t予想:Australia(0.7059869170188904)\n",
            "答え:Vietnam\t予想:Viet_Nam(0.7121440172195435)\n",
            "答え:Cuba\t予想:Cuba(0.7165151834487915)\n",
            "答え:Finland\t予想:Finland(0.7654452323913574)\n",
            "答え:Pakistan\t予想:Pakistan(0.7565770745277405)\n",
            "答え:Afghanistan\t予想:Afghan(0.6692334413528442)\n",
            "答え:England\t予想:Britain(0.7368935346603394)\n",
            "答え:Spain\t予想:Spain(0.7776164412498474)\n",
            "答え:Russia\t予想:Russia(0.834155797958374)\n",
            "答え:Norway\t予想:Norway(0.7406579852104187)\n",
            "答え:Canada\t予想:Canada(0.6765266060829163)\n",
            "答え:Sweden\t予想:Sweden(0.7650185823440552)\n",
            "答え:Iran\t予想:Iran(0.7223957180976868)\n",
            "答え:Japan\t予想:Japan(0.7659537196159363)\n",
            "答え:Greece\t予想:Greece(0.6582207679748535)\n",
            "答え:Iraq\t予想:Iraqi(0.6279987096786499)\n",
            "答え:Thailand\t予想:Thailand(0.736771285533905)\n",
            "答え:China\t予想:China(0.7384491562843323)\n",
            "答え:Germany\t予想:Germany(0.7924450039863586)\n",
            "答え:Switzerland\t予想:Switzerland(0.5860611796379089)\n",
            "答え:Egypt\t予想:Egypt(0.6917356848716736)\n",
            "答え:Australia\t予想:Australia(0.7035335302352905)\n",
            "答え:Vietnam\t予想:Viet_Nam(0.6718668937683105)\n",
            "答え:Cuba\t予想:Cuba(0.6652558445930481)\n",
            "答え:Finland\t予想:Finland(0.7448440194129944)\n",
            "答え:Pakistan\t予想:Pakistan(0.7375874519348145)\n",
            "答え:Afghanistan\t予想:Afghan(0.6492578983306885)\n",
            "答え:England\t予想:UK(0.6230568885803223)\n",
            "答え:Spain\t予想:Spain(0.7485760450363159)\n",
            "答え:Russia\t予想:Russia(0.7561044692993164)\n",
            "答え:Norway\t予想:Norway(0.7140565514564514)\n",
            "答え:Canada\t予想:Canada(0.6508230566978455)\n",
            "答え:France\t予想:France(0.7486129403114319)\n",
            "答え:Iran\t予想:Iran(0.7674084901809692)\n",
            "答え:Japan\t予想:Japan(0.8198505640029907)\n",
            "答え:Greece\t予想:Greece(0.6445162296295166)\n",
            "答え:Iraq\t予想:Mosul(0.6744055151939392)\n",
            "答え:Thailand\t予想:Thailand(0.7606315612792969)\n",
            "答え:China\t予想:China(0.7469374537467957)\n",
            "答え:Germany\t予想:Germany(0.7917512655258179)\n",
            "答え:Switzerland\t予想:Switzerland(0.5347193479537964)\n",
            "答え:Egypt\t予想:Egypt(0.7208700180053711)\n",
            "答え:Australia\t予想:Australia(0.6957680583000183)\n",
            "答え:Vietnam\t予想:Viet_Nam(0.6892715096473694)\n",
            "答え:Cuba\t予想:Cuba(0.730288028717041)\n",
            "答え:Finland\t予想:Finland(0.8304910063743591)\n",
            "答え:Pakistan\t予想:Pakistan(0.7434418797492981)\n",
            "答え:Afghanistan\t予想:Afghan(0.6353626847267151)\n",
            "答え:England\t予想:Britain(0.6828158497810364)\n",
            "答え:Spain\t予想:Spain(0.7796702980995178)\n",
            "答え:Russia\t予想:Russia(0.821164071559906)\n",
            "答え:Norway\t予想:Norway(0.7942281365394592)\n",
            "答え:Canada\t予想:Canada(0.6786275506019592)\n",
            "答え:France\t予想:France(0.7826051712036133)\n",
            "答え:Italy\t予想:Italy(0.7247942090034485)\n",
            "答え:Japan\t予想:Japan(0.7860097885131836)\n",
            "答え:Greece\t予想:Greece(0.6574969291687012)\n",
            "答え:Iraq\t予想:Iraq(0.775810718536377)\n",
            "答え:Thailand\t予想:Thailand(0.8036009073257446)\n",
            "答え:China\t予想:China(0.8198246955871582)\n",
            "答え:Germany\t予想:Germany(0.6948080658912659)\n",
            "答え:Switzerland\t予想:coach_Bobby_Curlings(0.5130249857902527)\n",
            "答え:Egypt\t予想:Egypt(0.8029149174690247)\n",
            "答え:Australia\t予想:Australia(0.7018478512763977)\n",
            "答え:Vietnam\t予想:Viet_Nam(0.7534171938896179)\n",
            "答え:Cuba\t予想:Cuba(0.8335038423538208)\n",
            "答え:Finland\t予想:Finland(0.6951574683189392)\n",
            "答え:Pakistan\t予想:Pakistan(0.8478929996490479)\n",
            "答え:Afghanistan\t予想:Afghan(0.7277183532714844)\n",
            "答え:England\t予想:Britain(0.6258982419967651)\n",
            "答え:Spain\t予想:Spain(0.7075908184051514)\n",
            "答え:Russia\t予想:Russia(0.8626426458358765)\n",
            "答え:Norway\t予想:Norway(0.7017198204994202)\n",
            "答え:Canada\t予想:Canada(0.6508046388626099)\n",
            "答え:France\t予想:France(0.6808172464370728)\n",
            "答え:Italy\t予想:Italy(0.6060930490493774)\n",
            "答え:Sweden\t予想:Sweden(0.7119142413139343)\n",
            "答え:Greece\t予想:Greece(0.6701824069023132)\n",
            "答え:Iraq\t予想:Iraq(0.700536847114563)\n",
            "答え:Thailand\t予想:Thailand(0.8329713940620422)\n",
            "答え:China\t予想:China(0.8427805304527283)\n",
            "答え:Germany\t予想:Germany(0.7607141733169556)\n",
            "答え:Switzerland\t予想:Switzerland(0.48349660634994507)\n",
            "答え:Egypt\t予想:Egypt(0.7604711651802063)\n",
            "答え:Australia\t予想:Australia(0.7408984899520874)\n",
            "答え:Vietnam\t予想:Viet_Nam(0.7667807936668396)\n",
            "答え:Cuba\t予想:Cuba(0.766819417476654)\n",
            "答え:Finland\t予想:Finland(0.7938802242279053)\n",
            "答え:Pakistan\t予想:Pakistan(0.7943655252456665)\n",
            "答え:Afghanistan\t予想:Afghanistan(0.6684215068817139)\n",
            "答え:England\t予想:Britain(0.7236440181732178)\n",
            "答え:Spain\t予想:Spain(0.7904621958732605)\n",
            "答え:Russia\t予想:Russia(0.8863135576248169)\n",
            "答え:Norway\t予想:Norway(0.7558910250663757)\n",
            "答え:Canada\t予想:Canada(0.7142959237098694)\n",
            "答え:France\t予想:France(0.7889978885650635)\n",
            "答え:Italy\t予想:Italy(0.6944941878318787)\n",
            "答え:Sweden\t予想:Sweden(0.8109343647956848)\n",
            "答え:Iran\t予想:Iran(0.8259533047676086)\n"
          ]
        }
      ]
    },
    {
      "cell_type": "markdown",
      "id": "dbc1fcff-5555-44da-8b4c-12d97ede10e8",
      "metadata": {
        "id": "dbc1fcff-5555-44da-8b4c-12d97ede10e8"
      },
      "source": [
        "## 55. アナロジータスクでの正解率\n",
        "\n",
        "54の実行結果を用い、意味的アナロジー（semantic analogy）と文法的アナロジー（syntactic analogy）の正解率を測定せよ。"
      ]
    },
    {
      "cell_type": "code",
      "source": [
        "count=0\n",
        "\n",
        "for name,predict in list:\n",
        "  if name==predict:\n",
        "    count+=1\n",
        "\n",
        "print(f\"意味的アナロジー:　{count} / {len(list)} ({count/len(list)*100}%)\")"
      ],
      "metadata": {
        "colab": {
          "base_uri": "https://localhost:8080/"
        },
        "id": "1VwMjS9dAasf",
        "outputId": "d9317b98-0067-4a36-f615-394dabb1d23a"
      },
      "id": "1VwMjS9dAasf",
      "execution_count": 8,
      "outputs": [
        {
          "output_type": "stream",
          "name": "stdout",
          "text": [
            "意味的アナロジー:　421 / 506 (83.20158102766798%)\n"
          ]
        }
      ]
    },
    {
      "cell_type": "markdown",
      "id": "b62a9077-45e9-4cf2-8546-5e5b226b4cb6",
      "metadata": {
        "id": "b62a9077-45e9-4cf2-8546-5e5b226b4cb6"
      },
      "source": [
        "## 56. WordSimilarity-353での評価\n",
        "\n",
        "[The WordSimilarity-353 Test Collection](http://www.gabrilovich.com/resources/data/wordsim353/wordsim353.html)の評価データをダウンロードし、単語ベクトルにより計算される類似度のランキングと、人間の類似度判定のランキングの間のスピアマン相関係数を計算せよ。"
      ]
    },
    {
      "cell_type": "code",
      "source": [
        "import pandas as pd\n",
        "from scipy.stats import spearmanr\n",
        "\n",
        "df=pd.read_csv(\"combined.csv\")\n",
        "score=[]\n",
        "human_score=[]\n",
        "\n",
        "for _,i in df.iterrows():\n",
        "  w1,w2=i.iloc[0],i.iloc[1]\n",
        "  human_score.append(i.iloc[2])\n",
        "  score.append(model.similarity(w1,w2))\n",
        "\n",
        "rho,_=spearmanr(human_score,score)\n",
        "\n",
        "print(f\"スピアマン相関係数: {rho}\")"
      ],
      "metadata": {
        "colab": {
          "base_uri": "https://localhost:8080/"
        },
        "id": "8aNgB7BaDPT-",
        "outputId": "d81b31cd-bc89-4b17-ac08-f2965568805d"
      },
      "id": "8aNgB7BaDPT-",
      "execution_count": 10,
      "outputs": [
        {
          "output_type": "stream",
          "name": "stdout",
          "text": [
            "スピアマン相関係数: 0.7000166486272194\n"
          ]
        }
      ]
    },
    {
      "cell_type": "markdown",
      "id": "4e45f26a-5896-453b-a11b-a97ef3b3900c",
      "metadata": {
        "id": "4e45f26a-5896-453b-a11b-a97ef3b3900c"
      },
      "source": [
        "## 57. k-meansクラスタリング\n",
        "\n",
        "国名に関する単語ベクトルを抽出し、k-meansクラスタリングをクラスタ数k=5として実行せよ。"
      ]
    },
    {
      "cell_type": "code",
      "source": [
        "from sklearn.cluster import KMeans\n",
        "import numpy as np\n",
        "\n",
        "with open(\"questions-words.txt\", \"r\") as f:\n",
        "  flag=0\n",
        "  list=set()\n",
        "  for line in f:\n",
        "    if flag==1 and line.startswith(\":\"):\n",
        "      break\n",
        "    if line.startswith(\": capital-common-countries\"):\n",
        "      flag=1\n",
        "      continue\n",
        "    if flag==1:\n",
        "      _,name1,_,name2=line.split()\n",
        "      list.update((name1,name2))\n",
        "\n",
        "ans=[]\n",
        "countryVec = []\n",
        "for c in list:\n",
        "  countryVec.append(model[c])\n",
        "\n",
        "a=np.array(countryVec)\n",
        "km=KMeans(n_clusters=5, random_state=0)\n",
        "y_km=km.fit_predict(a)\n",
        "\n",
        "for i in range(5):\n",
        "  print(f\"クラスタ{i}:\")\n",
        "  for j,k in zip(list,y_km):\n",
        "    if k==i:\n",
        "      print(j)\n",
        "  print(\"\")"
      ],
      "metadata": {
        "colab": {
          "base_uri": "https://localhost:8080/"
        },
        "id": "3c2KTuxQJp3_",
        "outputId": "9470c4a6-939a-4f1e-d22e-ad6bd44b4aaa"
      },
      "id": "3c2KTuxQJp3_",
      "execution_count": 11,
      "outputs": [
        {
          "output_type": "stream",
          "name": "stdout",
          "text": [
            "クラスタ0:\n",
            "Finland\n",
            "Sweden\n",
            "Norway\n",
            "Canada\n",
            "\n",
            "クラスタ1:\n",
            "Russia\n",
            "Thailand\n",
            "Japan\n",
            "Vietnam\n",
            "China\n",
            "Cuba\n",
            "Egypt\n",
            "\n",
            "クラスタ2:\n",
            "Switzerland\n",
            "\n",
            "クラスタ3:\n",
            "Iraq\n",
            "Afghanistan\n",
            "Pakistan\n",
            "Iran\n",
            "\n",
            "クラスタ4:\n",
            "Australia\n",
            "Spain\n",
            "Italy\n",
            "Greece\n",
            "Germany\n",
            "France\n",
            "England\n",
            "\n"
          ]
        }
      ]
    },
    {
      "cell_type": "markdown",
      "id": "c63cb16e-7cbe-49e8-8f66-d703600128fa",
      "metadata": {
        "id": "c63cb16e-7cbe-49e8-8f66-d703600128fa"
      },
      "source": [
        "## 58. Ward法によるクラスタリング\n",
        "\n",
        "国名に関する単語ベクトルに対し、Ward法による階層型クラスタリングを実行せよ。さらに、クラスタリング結果をデンドログラムとして可視化せよ。"
      ]
    },
    {
      "cell_type": "code",
      "source": [
        "import matplotlib.pyplot as plt\n",
        "from scipy.cluster.hierarchy import dendrogram, linkage\n",
        "\n",
        "with open(\"questions-words.txt\", \"r\") as f:\n",
        "  flag=0\n",
        "  list=set()\n",
        "  for line in f:\n",
        "    if flag==1 and line.startswith(\":\"):\n",
        "      break\n",
        "    if line.startswith(\": capital-common-countries\"):\n",
        "      flag=1\n",
        "      continue\n",
        "    if flag==1:\n",
        "      _,name1,_,name2=line.split()\n",
        "      list.update((name1,name2))\n",
        "\n",
        "ans=[]\n",
        "list=sorted(list)\n",
        "countryVec = []\n",
        "for c in list:\n",
        "  countryVec.append(model[c])\n",
        "\n",
        "X = np.array(countryVec)\n",
        "linkage_result = linkage(X, method=\"ward\", metric=\"euclidean\")\n",
        "plt.figure(num=None, figsize=(16, 9), dpi=200, facecolor=\"w\", edgecolor=\"k\")\n",
        "dendrogram(linkage_result, labels=list)\n",
        "plt.show()"
      ],
      "metadata": {
        "id": "ri9dN9JiW9yK",
        "outputId": "863d29f3-10dd-4a76-b17c-204c2a77b636",
        "colab": {
          "base_uri": "https://localhost:8080/",
          "height": 804
        }
      },
      "id": "ri9dN9JiW9yK",
      "execution_count": 12,
      "outputs": [
        {
          "output_type": "display_data",
          "data": {
            "text/plain": [
              "<Figure size 3200x1800 with 1 Axes>"
            ],
            "image/png": "[encoded data removed]"
          },
          "metadata": {}
        }
      ]
    },
    {
      "cell_type": "markdown",
      "id": "epeDPNhuFoEY",
      "metadata": {
        "id": "epeDPNhuFoEY"
      },
      "source": [
        "## 59. t-SNEによる可視化\n",
        "\n",
        "ベクトル空間上の国名に関する単語ベクトルをt-SNEで可視化せよ。"
      ]
    },
    {
      "cell_type": "code",
      "source": [
        "from sklearn.manifold import TSNE\n",
        "\n",
        "X = np.array(countryVec)\n",
        "tsne = TSNE(random_state=0, max_iter=15000, metric=\"cosine\",perplexity=5)\n",
        "embs = tsne.fit_transform(X)\n",
        "plt.scatter(embs[:, 0], embs[:, 1])\n",
        "plt.show()"
      ],
      "metadata": {
        "id": "ElmKaG8UiQp7",
        "outputId": "562fb5bc-323b-4755-ba6a-624cd7fd370f",
        "colab": {
          "base_uri": "https://localhost:8080/",
          "height": 430
        }
      },
      "id": "ElmKaG8UiQp7",
      "execution_count": 13,
      "outputs": [
        {
          "output_type": "display_data",
          "data": {
            "text/plain": [
              "<Figure size 640x480 with 1 Axes>"
            ],
            "image/png": "[encoded data removed]"
          },
          "metadata": {}
        }
      ]
    }
  ],
  "metadata": {
    "colab": {
      "provenance": []
    },
    "kernelspec": {
      "display_name": "Python 3 (ipykernel)",
      "language": "python",
      "name": "python3"
    },
    "language_info": {
      "codemirror_mode": {
        "name": "ipython",
        "version": 3
      },
      "file_extension": ".py",
      "mimetype": "text/x-python",
      "name": "python",
      "nbconvert_exporter": "python",
      "pygments_lexer": "ipython3",
      "version": "3.12.3"
    }
  },
  "nbformat": 4,
  "nbformat_minor": 5
}