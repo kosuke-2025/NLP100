{
  "cells": [
    {
      "cell_type": "markdown",
      "id": "5d2e8296-0efe-488a-9303-c53e0aac5573",
      "metadata": {
        "editable": true,
        "id": "5d2e8296-0efe-488a-9303-c53e0aac5573",
        "tags": []
      },
      "source": [
        "# 第1章: 準備運動"
      ]
    },
    {
      "cell_type": "markdown",
      "id": "b25a842d-828c-4fcd-b23e-62fcdbabc4dd",
      "metadata": {
        "editable": true,
        "id": "b25a842d-828c-4fcd-b23e-62fcdbabc4dd",
        "tags": []
      },
      "source": [
        "## 00. パタトクカシーー\n",
        "2つの文字列「パトカー」と「タクシー」の文字を先頭から交互に連結し、文字列「パタトクカシーー」を得よ。"
      ]
    },
    {
      "cell_type": "code",
      "source": [
        "a=\"パトカー\"\n",
        "b=\"タクシー\"\n",
        "c=\"\"\n",
        "\n",
        "for i in range(4):\n",
        "  c=c+a[i]+b[i]\n",
        "\n",
        "print(c)"
      ],
      "metadata": {
        "colab": {
          "base_uri": "https://localhost:8080/"
        },
        "id": "tg4pECk90GWg",
        "outputId": "0a92dd70-2c62-45d2-81ad-7763e741e5bd"
      },
      "id": "tg4pECk90GWg",
      "execution_count": 1,
      "outputs": [
        {
          "output_type": "stream",
          "name": "stdout",
          "text": [
            "パタトクカシーー\n"
          ]
        }
      ]
    },
    {
      "cell_type": "markdown",
      "id": "552596a9-f286-49b1-8443-ceb3454889e0",
      "metadata": {
        "editable": true,
        "id": "552596a9-f286-49b1-8443-ceb3454889e0",
        "tags": []
      },
      "source": [
        "## 01. タクシー\n",
        "文字列「パタトクカシーー」の2, 4, 6, 8文字目を取り出し、それらを連結した文字列を得よ。"
      ]
    },
    {
      "cell_type": "code",
      "source": [
        "a=\"パタトクカシーー\"\n",
        "print(a[1]+a[3]+a[5]+a[7])"
      ],
      "metadata": {
        "colab": {
          "base_uri": "https://localhost:8080/"
        },
        "id": "vnJEBiVbiIu1",
        "outputId": "6d3a1560-afab-4847-d7dd-40a9be2cb956"
      },
      "id": "vnJEBiVbiIu1",
      "execution_count": null,
      "outputs": [
        {
          "output_type": "stream",
          "name": "stdout",
          "text": [
            "タクシー\n"
          ]
        }
      ]
    },
    {
      "cell_type": "markdown",
      "id": "1c0a9a7c-4ade-4023-9f44-fc9cf394978b",
      "metadata": {
        "editable": true,
        "id": "1c0a9a7c-4ade-4023-9f44-fc9cf394978b",
        "tags": []
      },
      "source": [
        "## 02. 文字列の逆順\n",
        "文字列\"stressed\"の文字を逆に（末尾から先頭に向かって）並べた文字列を得よ。"
      ]
    },
    {
      "cell_type": "code",
      "source": [
        "a=\"stressed\"\n",
        "b=\"\"\n",
        "\n",
        "for i in range(len(a)):\n",
        "  b+=a[len(a)-i-1]\n",
        "\n",
        "print(b)"
      ],
      "metadata": {
        "colab": {
          "base_uri": "https://localhost:8080/"
        },
        "id": "yvZ8qJO3jGgU",
        "outputId": "e1372a73-6453-4b98-9567-33ad34c6047a"
      },
      "id": "yvZ8qJO3jGgU",
      "execution_count": null,
      "outputs": [
        {
          "output_type": "stream",
          "name": "stdout",
          "text": [
            "desserts\n"
          ]
        }
      ]
    },
    {
      "cell_type": "markdown",
      "id": "4161bcb5-5baf-4172-b2a6-7c14f1907d54",
      "metadata": {
        "id": "4161bcb5-5baf-4172-b2a6-7c14f1907d54"
      },
      "source": [
        "## 03. 円周率\n",
        "\"Now I need a drink, alcoholic of course, after the heavy lectures involving quantum mechanics.\"という文を単語に分解し、各単語の（アルファベットの）文字数を先頭から出現順に並べたリストを作成せよ。"
      ]
    },
    {
      "cell_type": "code",
      "source": [
        "text=\"Now I need a drink, alcoholic of course, after the heavy lectures involving quantum mechanics.\"\n",
        "text1=text.replace(\",\",\"\")\n",
        "text2=text1.replace(\".\",\"\")\n",
        "words=text2.split()\n",
        "a=[]\n",
        "for i in words:\n",
        "  a.append(len(i))\n",
        "print(a)"
      ],
      "metadata": {
        "colab": {
          "base_uri": "https://localhost:8080/"
        },
        "id": "od0NXp7CHJBF",
        "outputId": "55189838-2b36-40d2-f1a9-0aca7f0db327"
      },
      "id": "od0NXp7CHJBF",
      "execution_count": 6,
      "outputs": [
        {
          "output_type": "stream",
          "name": "stdout",
          "text": [
            "[3, 1, 4, 1, 5, 9, 2, 6, 5, 3, 5, 8, 9, 7, 9]\n"
          ]
        }
      ]
    },
    {
      "cell_type": "markdown",
      "id": "8e56c958-d6fb-411c-9dc6-77992c515637",
      "metadata": {
        "id": "8e56c958-d6fb-411c-9dc6-77992c515637"
      },
      "source": [
        "## 04. 元素記号\n",
        "\"Hi He Lied Because Boron Could Not Oxidize Fluorine. New Nations Might Also Sign Peace Security Clause. Arthur King Can.\"という文を単語に分解し、1, 5, 6, 7, 8, 9, 15, 16, 19番目の単語は先頭の1文字、それ以外の単語は先頭の2文字を取り出し、取り出した文字列から単語の位置（先頭から何番目の単語か）への連想配列（辞書型もしくはマップ型）を作成せよ。"
      ]
    },
    {
      "cell_type": "code",
      "source": [
        "text=\"Hi He Lied Because Boron Could Not Oxidize Fluorine. New Nations Might Also Sign Peace Security Clause. Arthur King Can.\"\n",
        "\n",
        "words=text.split()\n",
        "a={}\n",
        "\n",
        "for i in range(0,len(words)):\n",
        "  if i+1 in [1,5,6,7,8,9,15,16,19]:\n",
        "    a[words[i][0]]=i+1\n",
        "  else:\n",
        "    a[words[i][0:2]]=i+1\n",
        "\n",
        "print(a)"
      ],
      "metadata": {
        "id": "U_WqXy8A1Yx6",
        "outputId": "40f30878-623e-4b50-dd24-8f35b0dbe600",
        "colab": {
          "base_uri": "https://localhost:8080/"
        }
      },
      "id": "U_WqXy8A1Yx6",
      "execution_count": 2,
      "outputs": [
        {
          "output_type": "stream",
          "name": "stdout",
          "text": [
            "{'H': 1, 'He': 2, 'Li': 3, 'Be': 4, 'B': 5, 'C': 6, 'N': 7, 'O': 8, 'F': 9, 'Ne': 10, 'Na': 11, 'Mi': 12, 'Al': 13, 'Si': 14, 'P': 15, 'S': 16, 'Cl': 17, 'Ar': 18, 'K': 19, 'Ca': 20}\n"
          ]
        }
      ]
    },
    {
      "cell_type": "markdown",
      "id": "5269dd34-1b19-4a99-9e3d-593e978f3361",
      "metadata": {
        "id": "5269dd34-1b19-4a99-9e3d-593e978f3361"
      },
      "source": [
        "## 05. n-gram\n",
        "与えられたシーケンス（文字列やリストなど）からn-gramを作る関数を作成せよ。この関数を用い、\"I am an NLPer\"という文から文字tri-gram、単語bi-gramを得よ。"
      ]
    },
    {
      "cell_type": "code",
      "source": [
        "def n_gram(n,text):\n",
        "  a=text.replace(\" \",\"\")\n",
        "  b=text.split()\n",
        "  char=[]\n",
        "  words=[]\n",
        "  for i in range(len(a)):\n",
        "    char.append(a[i:i+n])\n",
        "  for i in range(len(b)):\n",
        "    words.append(b[i:i+n])\n",
        "  print(f\"文字:{char}\\n単語:{words}\\n\")\n",
        "\n",
        "n_gram(3,\"I am an NLPer\")\n",
        "n_gram(2,\"I am an NLPer\")"
      ],
      "metadata": {
        "colab": {
          "base_uri": "https://localhost:8080/"
        },
        "id": "4fC27pfiIbDS",
        "outputId": "28164092-07d9-46ee-ae35-cd228a3640fd"
      },
      "id": "4fC27pfiIbDS",
      "execution_count": 11,
      "outputs": [
        {
          "output_type": "stream",
          "name": "stdout",
          "text": [
            "文字:['Iam', 'ama', 'man', 'anN', 'nNL', 'NLP', 'LPe', 'Per', 'er', 'r']\n",
            "単語:[['I', 'am', 'an'], ['am', 'an', 'NLPer'], ['an', 'NLPer'], ['NLPer']]\n",
            "\n",
            "文字:['Ia', 'am', 'ma', 'an', 'nN', 'NL', 'LP', 'Pe', 'er', 'r']\n",
            "単語:[['I', 'am'], ['am', 'an'], ['an', 'NLPer'], ['NLPer']]\n",
            "\n"
          ]
        }
      ]
    },
    {
      "cell_type": "markdown",
      "id": "15df1a31-7906-4562-b5c5-b52194487ea9",
      "metadata": {
        "id": "15df1a31-7906-4562-b5c5-b52194487ea9"
      },
      "source": [
        "## 06. 集合\n",
        "\"paraparaparadise\"と\"paragraph\"に含まれる文字bi-gramの集合を、それぞれ, $X$ と $Y$ として求め、$X$ と $Y$ の和集合（$X \\cup Y$）、積集合（$X \\cap Y$）、差集合（$X \\setminus Y$）を求めよ。さらに、'se'というbi-gramがXおよびYに含まれるかどうかを調べよ。"
      ]
    },
    {
      "cell_type": "code",
      "source": [
        "def bi_gram(text):\n",
        "  char=[]\n",
        "  for i in range(len(text)):\n",
        "    char.append(text[i:i+2])\n",
        "  return char\n",
        "\n",
        "a=\"paraparaparadise\"\n",
        "b=\"paragraph\"\n",
        "X=set(bi_gram(a))\n",
        "Y=set(bi_gram(b))\n",
        "\n",
        "print(f\"和集合:{X|Y}\")\n",
        "print(f\"積集合:{X&Y}\")\n",
        "print(f\"差集合:{X-Y}\")\n",
        "print(f\"'se'はXに含まれるか?:{'se' in X}\")\n",
        "print(f\"'se'はYに含まれるか?:{'se' in Y}\")"
      ],
      "metadata": {
        "colab": {
          "base_uri": "https://localhost:8080/"
        },
        "id": "BW9wGJ0BNia0",
        "outputId": "35533e9a-f361-4b67-83dc-0078231a2b30"
      },
      "id": "BW9wGJ0BNia0",
      "execution_count": 16,
      "outputs": [
        {
          "output_type": "stream",
          "name": "stdout",
          "text": [
            "和集合:{'pa', 'gr', 'ag', 'is', 'ra', 'ad', 'ap', 'se', 'ar', 'ph', 'h', 'e', 'di'}\n",
            "積集合:{'pa', 'ap', 'ar', 'ra'}\n",
            "差集合:{'is', 'ad', 'se', 'e', 'di'}\n",
            "'se'はXに含まれるか?:True\n",
            "'se'はYに含まれるか?:False\n"
          ]
        }
      ]
    },
    {
      "cell_type": "markdown",
      "id": "90b9bdde-e35c-4dc5-a46d-f7a8dd6d6513",
      "metadata": {
        "id": "90b9bdde-e35c-4dc5-a46d-f7a8dd6d6513"
      },
      "source": [
        "## 07. テンプレートによる文生成\n",
        "引数x, y, zを受け取り「x時のyはz」という文字列を返す関数を実装せよ。さらに、x=12, y=\"気温\", z=22.4として、実行結果を確認せよ。"
      ]
    },
    {
      "cell_type": "code",
      "source": [
        "def a(x,y,z):\n",
        "  print(str(x)+\"時の\"+str(y)+\"は\"+str(z))\n",
        "\n",
        "a(12,\"気温\",22.4)"
      ],
      "metadata": {
        "colab": {
          "base_uri": "https://localhost:8080/"
        },
        "id": "ay1HutxvMh3G",
        "outputId": "102428c9-d660-45e0-c78a-ebc9e6a9b19a"
      },
      "id": "ay1HutxvMh3G",
      "execution_count": 14,
      "outputs": [
        {
          "output_type": "stream",
          "name": "stdout",
          "text": [
            "12時の気温は22.4\n"
          ]
        }
      ]
    },
    {
      "cell_type": "markdown",
      "id": "215bd86b-1b3c-4446-98ae-af5d671fba12",
      "metadata": {
        "id": "215bd86b-1b3c-4446-98ae-af5d671fba12"
      },
      "source": [
        "## 08. 暗号文\n",
        "与えられた文字列の各文字を、以下の仕様で変換する関数cipherを実装せよ。\n",
        "\n",
        "* 英小文字ならば (219 - 文字コード) のASCIIコードに対応する文字に置換\n",
        "* その他の文字はそのまま出力\n",
        "\n",
        "この関数を用い、英語のメッセージを暗号化・復号化せよ。"
      ]
    },
    {
      "cell_type": "code",
      "source": [
        "def cipher(text):\n",
        "  a=\"\"\n",
        "  for i in range(len(text)):\n",
        "    if 97<=ord(text[i]) & ord(text[i])<=122 & text[i].isalpha()==True:\n",
        "      a+=chr(219-ord(text[i]))\n",
        "    else:\n",
        "      a+=text[i]\n",
        "  return a\n",
        "\n",
        "t=input(\"入力した文字列：\")\n",
        "print(\"暗号化された文字列：\"+cipher(t))\n",
        "print(\"復号化された文字列：\"+cipher(cipher(t)))"
      ],
      "metadata": {
        "id": "Ps8zieDZYZX3",
        "outputId": "26bfa1d5-aa98-47ac-a577-c2c436778833",
        "colab": {
          "base_uri": "https://localhost:8080/"
        }
      },
      "id": "Ps8zieDZYZX3",
      "execution_count": null,
      "outputs": [
        {
          "output_type": "stream",
          "name": "stdout",
          "text": [
            "入力した文字列：さｋさ\n",
            "暗号化された文字列：さｋさ\n",
            "復号化された文字列：さｋさ\n"
          ]
        }
      ]
    },
    {
      "cell_type": "markdown",
      "id": "64c1bdae-5ce3-4128-86be-23ce079a2d98",
      "metadata": {
        "id": "64c1bdae-5ce3-4128-86be-23ce079a2d98"
      },
      "source": [
        "## 09. Typoglycemia\n",
        "スペースで区切られた単語列に対して、各単語の先頭と末尾の文字は残し、それ以外の文字の順序をランダムに並び替えるプログラムを作成せよ。ただし、長さが４以下の単語は並び替えないこととする。適当な英語の文（例えば\"I couldn't believe that I could actually understand what I was reading : the phenomenal power of the human mind .\"）を与え、その実行結果を確認せよ。"
      ]
    },
    {
      "cell_type": "code",
      "source": [
        "import random\n",
        "\n",
        "text=\"I couldn't believe that I could actually understand what I was reading : the phenomenal power of the human mind .\"\n",
        "a=text.split()\n",
        "b=\"\"\n",
        "for word in a:\n",
        "  if len(word)>=5:\n",
        "    k=list(word)\n",
        "    k=k[1:-1]\n",
        "    random.shuffle(k)\n",
        "    b+=word[0]+\"\".join(k)+word[-1]\n",
        "  else:\n",
        "    b+=word\n",
        "  b+=\" \"\n",
        "print(b)"
      ],
      "metadata": {
        "id": "zHSaHdoiO7v7",
        "outputId": "3065fc6b-2724-4189-ddea-970a33631802",
        "colab": {
          "base_uri": "https://localhost:8080/"
        }
      },
      "id": "zHSaHdoiO7v7",
      "execution_count": 41,
      "outputs": [
        {
          "output_type": "stream",
          "name": "stdout",
          "text": [
            "I cdl'nout beievle that I cloud allactuy untndserad what I was radenig : the poeneahmnl pewor of the haumn mind . \n"
          ]
        }
      ]
    }
  ],
  "metadata": {
    "colab": {
      "provenance": []
    },
    "kernelspec": {
      "display_name": "Python 3",
      "name": "python3"
    },
    "language_info": {
      "codemirror_mode": {
        "name": "ipython",
        "version": 3
      },
      "file_extension": ".py",
      "mimetype": "text/x-python",
      "name": "python",
      "nbconvert_exporter": "python",
      "pygments_lexer": "ipython3",
      "version": "3.12.3"
    }
  },
  "nbformat": 4,
  "nbformat_minor": 5
}