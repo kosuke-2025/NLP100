{
  "cells": [
    {
      "cell_type": "markdown",
      "id": "bf8022b0-6a02-44e3-b2da-ef2efca867e7",
      "metadata": {
        "editable": true,
        "id": "bf8022b0-6a02-44e3-b2da-ef2efca867e7",
        "tags": []
      },
      "source": [
        "# 第5章: 大規模言語モデル\n",
        "\n",
        "この章では、大規模言語モデル (LLM; Large Language Model) の利用し、様々なタスクに取り組む。大規模言語モデルをプログラムからAPI経由で呼び出すことを想定しており、そのAPIの利用で費用が発生する可能性があることに留意せよ。"
      ]
    },
    {
      "cell_type": "code",
      "source": [
        "from google.colab import userdata\n",
        "import google.generativeai as gemini\n",
        "\n",
        "ai=userdata.get('GOOGLE_API_KEY')\n",
        "gemini.configure(api_key=ai)\n",
        "model=gemini.GenerativeModel(\"gemini-1.5-flash\")"
      ],
      "metadata": {
        "id": "CpUgKdZn0Yt-"
      },
      "id": "CpUgKdZn0Yt-",
      "execution_count": 1,
      "outputs": []
    },
    {
      "cell_type": "markdown",
      "id": "1cb183db-021f-41f5-b719-15f34fe14da2",
      "metadata": {
        "id": "1cb183db-021f-41f5-b719-15f34fe14da2"
      },
      "source": [
        "## 40. Zero-Shot推論\n",
        "\n",
        "以下の問題の解答を作成せよ。ただし、解答生成はzero-shot推論とせよ。\n",
        "\n",
        "```\n",
        "9世紀に活躍した人物に関係するできごとについて述べた次のア～ウを年代の古い順に正しく並べよ。\n",
        "\n",
        "ア　藤原時平は，策謀を用いて菅原道真を政界から追放した。\n",
        "イ　嵯峨天皇は，藤原冬嗣らを蔵人頭に任命した。\n",
        "ウ　藤原良房は，承和の変後，藤原氏の中での北家の優位を確立した。\n",
        "```\n",
        "\n",
        "出典: [令和5年度第1回高等学校卒業程度認定試験問題](https://www.mext.go.jp/a_menu/koutou/shiken/kakomon/1411255_00010.htm) [日本史AB 問題](https://www.mext.go.jp/content/20240523-mxt_syogai02-mext_000031286_03nihonshi.pdf) 日本史B 1 問3"
      ]
    },
    {
      "cell_type": "code",
      "source": [
        "res=model.generate_content(\"9世紀に活躍した人物に関係するできごとについて述べた次のア～ウを年代の古い順に正しく並べよ。\\n\\ア　藤原時平は，策謀を用いて菅原道真を政界から追放した。\\nイ　嵯峨天皇は，藤原冬嗣らを蔵人頭に任命した。\\nウ　藤原良房は，承和の変後，藤原氏の中での北家の優位を確立した。\")\n",
        "print(res.text)"
      ],
      "metadata": {
        "colab": {
          "base_uri": "https://localhost:8080/",
          "height": 208
        },
        "id": "7KshwuCrzFF7",
        "outputId": "1665d225-539e-4288-c7bd-04dbc3563b36"
      },
      "id": "7KshwuCrzFF7",
      "execution_count": null,
      "outputs": [
        {
          "output_type": "stream",
          "name": "stdout",
          "text": [
            "この3つの出来事を年代順に並べると以下のようになります。\n",
            "\n",
            "1. **イ　嵯峨天皇は，藤原冬嗣らを蔵人頭に任命した。**　嵯峨天皇の治世は809年から823年です。藤原冬嗣は嵯峨天皇の時代に活躍した人物です。\n",
            "\n",
            "2. **ウ　藤原良房は，承和の変後，藤原氏の中での北家の優位を確立した。**　承和の変は842年です。この変の後、藤原良房は権力を掌握し、北家の優位を確立しました。\n",
            "\n",
            "3. **ア　藤原時平は，策謀を用いて菅原道真を政界から追放した。**　菅原道真の左遷は894年です。藤原時平はこの事件の中心人物でした。\n",
            "\n",
            "\n",
            "したがって、年代順はイ→ウ→アとなります。\n",
            "\n"
          ]
        }
      ]
    },
    {
      "cell_type": "markdown",
      "id": "608f75ea-f00f-4365-b642-bf55fe98fa9c",
      "metadata": {
        "id": "608f75ea-f00f-4365-b642-bf55fe98fa9c"
      },
      "source": [
        "## 41. Few-Shot推論\n",
        "\n",
        "以下の問題と解答を与え、問題40で示した質問の解答をfew-shot推論（この場合は4-shot推論）で生成せよ。\n",
        "\n",
        "```\n",
        "日本の近代化に関連するできごとについて述べた次のア～ウを年代の古い順に正しく並べよ。\n",
        "\n",
        "ア　府知事・県令からなる地方官会議が設置された。\n",
        "イ　廃藩置県が実施され，中央から府知事・県令が派遣される体制になった。\n",
        "ウ　すべての藩主が，天皇に領地と領民を返還した。\n",
        "\n",
        "解答: ウ→イ→ア\n",
        "```\n",
        "\n",
        "出典: [令和5年度第1回高等学校卒業程度認定試験問題](https://www.mext.go.jp/a_menu/koutou/shiken/kakomon/1411255_00010.htm) [日本史AB 問題](https://www.mext.go.jp/content/20240523-mxt_syogai02-mext_000031286_03nihonshi.pdf) 日本史A 1 問8\n",
        "\n",
        "\n",
        "```\n",
        "江戸幕府の北方での対外的な緊張について述べた次の文ア～ウを年代の古い順に正しく並べよ。\n",
        "\n",
        "ア　レザノフが長崎に来航したが，幕府が冷淡な対応をしたため，ロシア船が樺太や択捉島を攻撃した。\n",
        "イ　ゴローウニンが国後島に上陸し，幕府の役人に捕らえられ抑留された。\n",
        "ウ　ラクスマンが根室に来航し，漂流民を届けるとともに通商を求めた。\n",
        "\n",
        "解答: ウ→ア→イ\n",
        "```\n",
        "\n",
        "出典: [令和5年度第1回高等学校卒業程度認定試験問題](https://www.mext.go.jp/a_menu/koutou/shiken/kakomon/1411255_00010.htm) [日本史AB 問題](https://www.mext.go.jp/content/20240523-mxt_syogai02-mext_000031286_03nihonshi.pdf) 日本史B 3 問3\n",
        "\n",
        "```\n",
        "中居屋重兵衛の生涯の期間におこったできごとについて述べた次のア～ウを，年代の古い順に正しく並べよ。\n",
        "\n",
        "ア　アヘン戦争がおこり，清がイギリスに敗北した。\n",
        "イ　異国船打払令が出され，外国船を撃退することが命じられた。\n",
        "ウ　桜田門外の変がおこり，大老の井伊直弼が暗殺された。\n",
        "\n",
        "解答: イ→ア→ウ\n",
        "```\n",
        "\n",
        "出典: [令和4年度第1回高等学校卒業程度認定試験問題](https://www.mext.go.jp/a_menu/koutou/shiken/kakomon/1411255_00007.htm) [日本史 問題](https://www.mext.go.jp/content/20240513-mxt_syogai02-mext_00002452_03nihonshi.pdf) 日本史A 1 問1\n",
        "\n",
        "\n",
        "```\n",
        "加藤高明が外務大臣として提言を行ってから、内閣総理大臣となり演説を行うまでの時期のできごとについて述べた次のア～ウを，年代の古い順に正しく並べよ。\n",
        "\n",
        "ア　朝鮮半島において，独立を求める大衆運動である三・一独立運動が展開された。\n",
        "イ　関東大震災後の混乱のなかで，朝鮮人や中国人に対する殺傷事件がおきた。\n",
        "ウ　日本政府が，袁世凱政府に対して二十一カ条の要求を突き付けた。\n",
        "\n",
        "解答: ウ→ア→イ\n",
        "```\n",
        "\n",
        "出典: [令和4年度第1回高等学校卒業程度認定試験問題](https://www.mext.go.jp/a_menu/koutou/shiken/kakomon/1411255_00007.htm) [日本史 問題](https://www.mext.go.jp/content/20240513-mxt_syogai02-mext_00002452_03nihonshi.pdf) 日本史A 2 問4\n"
      ]
    },
    {
      "cell_type": "code",
      "source": [
        "shot1=\"日本の近代化に関連するできごとについて述べた次のア～ウを年代の古い順に正しく並べよ。\\n\\nア　府知事・県令からなる地方官会議が設置された。\\nイ　廃藩置県が実施され，中央から府知事・県令が派遣される体制になった。\\nウ　すべての藩主が，天皇に領地と領民を返還した。\\n\\n解答: ウ→イ→ア\"\n",
        "shot2=\"江戸幕府の北方での対外的な緊張について述べた次の文ア～ウを年代の古い順に正しく並べよ。\\n\\nア　レザノフが長崎に来航したが，幕府が冷淡な対応をしたため，ロシア船が樺太や択捉島を攻撃した。\\nイ　ゴローウニンが国後島に上陸し，幕府の役人に捕らえられ抑留された。\\nウ　ラクスマンが根室に来航し，漂流民を届けるとともに通商を求めた。\\n\\n解答: ウ→ア→イ\"\n",
        "shot3=\"中居屋重兵衛の生涯の期間におこったできごとについて述べた次のア～ウを，年代の古い順に正しく並べよ。\\n\\nア　アヘン戦争がおこり，清がイギリスに敗北した。\\nイ　異国船打払令が出され，外国船を撃退することが命じられた。\\nウ　桜田門外の変がおこり，大老の井伊直弼が暗殺された。\\n\\n解答: イ→ア→ウ\"\n",
        "shot4=\"加藤高明が外務大臣として提言を行ってから、内閣総理大臣となり演説を行うまでの時期のできごとについて述べた次のア～ウを，年代の古い順に正しく並べよ。\\n\\nア　朝鮮半島において，独立を求める大衆運動である三・一独立運動が展開された。\\nイ　関東大震災後の混乱のなかで，朝鮮人や中国人に対する殺傷事件がおきた。\\nウ　日本政府が，袁世凱政府に対して二十一カ条の要求を突き付けた。\\n\\n解答: ウ→ア→イ\"\n",
        "question=\"9世紀に活躍した人物に関係するできごとについて述べた次のア～ウを年代の古い順に正しく並べよ。\\n\\ア　藤原時平は，策謀を用いて菅原道真を政界から追放した。\\nイ　嵯峨天皇は，藤原冬嗣らを蔵人頭に任命した。\\nウ　藤原良房は，承和の変後，藤原氏の中での北家の優位を確立した。\"\n",
        "\n",
        "prompt=shot1+shot2+shot3+shot4+question\n",
        "res=model.generate_content(prompt)\n",
        "print(res.text)"
      ],
      "metadata": {
        "id": "IUtVpyvi4_eg",
        "colab": {
          "base_uri": "https://localhost:8080/",
          "height": 35
        },
        "outputId": "e7cc5162-d5f8-4bd6-eec7-ed1735b07551"
      },
      "id": "IUtVpyvi4_eg",
      "execution_count": null,
      "outputs": [
        {
          "output_type": "stream",
          "name": "stdout",
          "text": [
            "解答: イ→ア→ウ\n"
          ]
        }
      ]
    },
    {
      "cell_type": "markdown",
      "id": "ba5b3390-fe20-460a-b6ba-fee5d64def0d",
      "metadata": {
        "id": "ba5b3390-fe20-460a-b6ba-fee5d64def0d"
      },
      "source": [
        "## 42. 多肢選択問題の正解率\n",
        "\n",
        "[JMMLU](https://github.com/nlp-waseda/JMMLU) のいずれかの科目を大規模言語モデルに解答させ、その正解率を求めよ。"
      ]
    },
    {
      "cell_type": "code",
      "source": [
        "import csv\n",
        "\n",
        "def question_sentence(q,c):\n",
        "  prompt=f\"\"\"\n",
        "  以下の問題の解答を解答せよ．選択肢はa,b,c,dの4種類から構成されており，解答はアルファベットのみ解答せよ．\n",
        "\n",
        "  問題：\n",
        "  {q}\n",
        "\n",
        "  選択肢：\n",
        "  A：{c[0]}\n",
        "  B：{c[1]}\n",
        "  C：{c[2]}\n",
        "  D：{c[3]}\n",
        "  \"\"\"\n",
        "\n",
        "  return prompt\n",
        "\n",
        "\n",
        "question=[]\n",
        "choice=[]\n",
        "answer=[]\n",
        "count=0\n",
        "\n",
        "with open(\"high_school_geography.csv\",\"r\",encoding=\"utf-8\") as f:\n",
        "  csv=csv.reader(f)\n",
        "\n",
        "  for i in csv:\n",
        "    question.append(i[0])\n",
        "    choice.append(i[1:5])\n",
        "    answer.append(i[5])\n",
        "    count+=1\n",
        "\n",
        "\n",
        "score=0\n",
        "for i in range(count):\n",
        "  res=model.generate_content(question_sentence(question[i],choice[i]))\n",
        "  a=res.text.replace(\"\\n\",\"\")\n",
        "  if a==answer[i]:\n",
        "    score+=1\n",
        "\n",
        "print(f\"問題数：{count}\\t正解数：{score}\\t正解率：{score/count*100}％\")"
      ],
      "metadata": {
        "colab": {
          "base_uri": "https://localhost:8080/",
          "height": 34
        },
        "id": "Oua-K7DUhBcV",
        "outputId": "a3e17dc5-f481-472f-d60a-7b766bc73686"
      },
      "id": "Oua-K7DUhBcV",
      "execution_count": 6,
      "outputs": [
        {
          "output_type": "stream",
          "name": "stdout",
          "text": [
            "問題数：150\t正解数：115\t正解率：76.66666666666667％\n"
          ]
        }
      ]
    },
    {
      "cell_type": "markdown",
      "id": "e12fc22a-24a5-4bd0-881f-27ea99120cce",
      "metadata": {
        "id": "e12fc22a-24a5-4bd0-881f-27ea99120cce"
      },
      "source": [
        "## 43. 応答のバイアス\n",
        "\n",
        "問題42において、実験設定を変化させると正解率が変化するかどうかを調べよ。実験設定の例としては、大規模言語モデルの温度パラメータ、プロンプト、多肢選択肢の順番、多肢選択肢の記号などが考えられる。"
      ]
    },
    {
      "cell_type": "markdown",
      "id": "rwHMH3_y6vGI",
      "metadata": {
        "id": "rwHMH3_y6vGI"
      },
      "source": [
        "正解の選択肢を全てDに入れ替えて解答させる例。"
      ]
    },
    {
      "cell_type": "code",
      "source": [
        "import csv\n",
        "\n",
        "def question_sentence(q,c):\n",
        "  prompt=f\"\"\"\n",
        "  以下の問題の解答を解答せよ．選択肢はa,b,c,dの4種類から構成されており，解答はアルファベットのみ解答せよ．\n",
        "\n",
        "  問題：\n",
        "  {q}\n",
        "\n",
        "  選択肢：\n",
        "  A：{c[0]}\n",
        "  B：{c[1]}\n",
        "  C：{c[2]}\n",
        "  D：{c[3]}\n",
        "  \"\"\"\n",
        "\n",
        "  return prompt\n",
        "\n",
        "\n",
        "question=[]\n",
        "choice=[]\n",
        "answer=[]\n",
        "count=0\n",
        "\n",
        "with open(\"high_school_geography.csv\",\"r\",encoding=\"utf-8\") as f:\n",
        "  csv=csv.reader(f)\n",
        "\n",
        "  for i in csv:\n",
        "    question.append(i[0])\n",
        "    choice.append(i[1:5])\n",
        "    answer.append(i[5])\n",
        "    count+=1\n",
        "\n",
        "for c,a in zip(choice,answer):\n",
        "  if a==\"A\":\n",
        "    temp=c[0]\n",
        "    c[0]=c[3]\n",
        "    c[3]=temp\n",
        "\n",
        "  if a==\"B\":\n",
        "    temp=c[1]\n",
        "    c[1]=c[3]\n",
        "    c[3]=temp\n",
        "\n",
        "  if a==\"C\":\n",
        "    temp=c[2]\n",
        "    c[2]=c[3]\n",
        "    c[3]=temp\n",
        "\n",
        "\n",
        "score=0\n",
        "for i in range(count):\n",
        "  res=model.generate_content(question_sentence(question[i],choice[i]))\n",
        "  a=res.text.replace(\"\\n\",\"\")\n",
        "  if a==answer[i]:\n",
        "    score+=1\n",
        "\n",
        "print(f\"問題数：{count}\\t正解数：{score}\\t正解率：{score/count*100}％\")"
      ],
      "metadata": {
        "colab": {
          "base_uri": "https://localhost:8080/",
          "height": 34
        },
        "id": "kwJYETyv8s1v",
        "outputId": "bb837a2c-7706-4fd6-bf7b-81ad27a4e9a2"
      },
      "id": "kwJYETyv8s1v",
      "execution_count": 8,
      "outputs": [
        {
          "output_type": "stream",
          "name": "stdout",
          "text": [
            "問題数：150\t正解数：48\t正解率：32.0％\n"
          ]
        }
      ]
    },
    {
      "cell_type": "markdown",
      "id": "68b9f58d-d6bf-41cb-9601-1dc50799f21a",
      "metadata": {
        "id": "68b9f58d-d6bf-41cb-9601-1dc50799f21a"
      },
      "source": [
        "## 44. 対話\n",
        "\n",
        "以下の問いかけに対する応答を生成せよ。\n",
        "\n",
        "> つばめちゃんは渋谷駅から東急東横線に乗り、自由が丘駅で乗り換えました。東急大井町線の大井町方面の電車に乗り換えたとき、各駅停車に乗車すべきところ、間違えて急行に乗車してしまったことに気付きました。自由が丘の次の急行停車駅で降車し、反対方向の電車で一駅戻った駅がつばめちゃんの目的地でした。目的地の駅の名前を答えてください。\n",
        "\n",
        "参考: [東急線・みなとみらい線路線案内](https://www.tokyu.co.jp/railway/station/map.html)"
      ]
    },
    {
      "cell_type": "code",
      "source": [
        "chat = model.start_chat(history=[])\n",
        "res=chat.send_message(\"つばめちゃんは渋谷駅から東急東横線に乗り、自由が丘駅で乗り換えました。東急大井町線の大井町方面の電車に乗り換えたとき、各駅停車に乗車すべきところ、間違えて急行に乗車してしまったことに気付きました。自由が丘の次の急行停車駅で降車し、反対方向の電車で一駅戻った駅がつばめちゃんの目的地でした。目的地の駅の名前を答えてください。\")\n",
        "print(res.text)"
      ],
      "metadata": {
        "colab": {
          "base_uri": "https://localhost:8080/",
          "height": 106
        },
        "id": "ovjj5c905o5n",
        "outputId": "e51fe474-5631-46f5-bbc9-803e4451ce16"
      },
      "id": "ovjj5c905o5n",
      "execution_count": null,
      "outputs": [
        {
          "output_type": "stream",
          "name": "stdout",
          "text": [
            "つばめちゃんは急行で自由が丘を出て、次の急行停車駅で降りています。東急大井町線の自由が丘駅から大井町方面の急行停車駅は「二子玉川」です。そこから反対方向の電車で一駅戻ると「田園調布」になります。\n",
            "\n",
            "よって、つばめちゃんの目的地の駅は**田園調布**です。\n",
            "\n"
          ]
        }
      ]
    },
    {
      "cell_type": "markdown",
      "id": "90e21f41-e016-40f5-94e7-da332111226c",
      "metadata": {
        "id": "90e21f41-e016-40f5-94e7-da332111226c"
      },
      "source": [
        "## 45. マルチターン対話"
      ]
    },
    {
      "cell_type": "markdown",
      "id": "3a9bdee2-8bac-43a9-98a0-e8af0c600c2a",
      "metadata": {
        "id": "3a9bdee2-8bac-43a9-98a0-e8af0c600c2a"
      },
      "source": [
        "先ほどの応答に続けて、以下の追加の問いかけに対する応答を生成せよ。\n",
        "\n",
        "> さらに、つばめちゃんが自由が丘駅で乗り換えたとき、先ほどとは反対方向の急行電車に間違って乗車してしまった場合を考えます。目的地の駅に向かうため、自由が丘の次の急行停車駅で降車した後、反対方向の各駅停車に乗車した場合、何駅先の駅で降りれば良いでしょうか？"
      ]
    },
    {
      "cell_type": "code",
      "source": [
        "res=chat.send_message(\"さらに、つばめちゃんが自由が丘駅で乗り換えたとき、先ほどとは反対方向の急行電車に間違って乗車してしまった場合を考えます。目的地の駅に向かうため、自由が丘の次の急行停車駅で降車した後、反対方向の各駅停車に乗車した場合、何駅先の駅で降りれば良いでしょうか？\")\n",
        "print(res.text)"
      ],
      "metadata": {
        "id": "YBNPpQzL6v9o",
        "outputId": "57a72abb-0ac4-4ef8-b068-68d740421448",
        "colab": {
          "base_uri": "https://localhost:8080/",
          "height": 106
        }
      },
      "id": "YBNPpQzL6v9o",
      "execution_count": null,
      "outputs": [
        {
          "output_type": "stream",
          "name": "stdout",
          "text": [
            "自由が丘駅から大井町線下り（反対方向）の急行に乗車した場合、次の急行停車駅は「武蔵小山」です。そこから各駅停車で自由が丘方面に戻ると、各駅停車は「旗の台」「荏原町」「中目黒」と停車します。\n",
            "\n",
            "したがって、自由が丘駅に戻るには**3駅**乗る必要があります。\n",
            "\n"
          ]
        }
      ]
    },
    {
      "cell_type": "markdown",
      "id": "lJXGYVdnKQOu",
      "metadata": {
        "id": "lJXGYVdnKQOu"
      },
      "source": [
        "## 46. 川柳の生成\n",
        "\n",
        "適当なお題を設定し、川柳の案を10個作成せよ。"
      ]
    },
    {
      "cell_type": "code",
      "source": [
        "res1=model.generate_content(\"運動会というお題で川柳の案を10個作成せよ．\")\n",
        "print(res1.text)"
      ],
      "metadata": {
        "id": "rlasohjO7Scd",
        "outputId": "8b2fd4bb-9529-4a31-e625-e8ed49159838",
        "colab": {
          "base_uri": "https://localhost:8080/",
          "height": 216
        }
      },
      "id": "rlasohjO7Scd",
      "execution_count": null,
      "outputs": [
        {
          "output_type": "stream",
          "name": "stdout",
          "text": [
            "1. 汗と涙　走れ青春　秋の空\n",
            "2. 父母の　熱い視線に　力湧く\n",
            "3. バトン繋ぎ　笑顔弾ける　勝利の瞬間\n",
            "4. 惜敗も　胸に刻んで　次へ進む\n",
            "5. 記録より　思い出作り　友達と\n",
            "6. 徒競走　小さな一歩　大きな夢\n",
            "7. 応援席　声援飛び交う　一体感\n",
            "8. リレーの　アンカー走り出す　ハラハラドキドキ\n",
            "9. みんなで笑う　最高の思い出　運動会\n",
            "10. 青空の下　全力疾走　心ひとつに\n",
            "\n"
          ]
        }
      ]
    },
    {
      "cell_type": "markdown",
      "id": "6a8207e1-4084-47eb-8533-c5371f795b16",
      "metadata": {
        "id": "6a8207e1-4084-47eb-8533-c5371f795b16"
      },
      "source": [
        "## 47. LLMによる評価\n",
        "\n",
        "大規模言語モデルを評価者（ジャッジ）として、問題46の川柳の面白さを10段階で評価せよ。"
      ]
    },
    {
      "cell_type": "code",
      "source": [
        "res=model.generate_content(\"以下の10個の川柳の面白さを10段階で評価せよ\\n\"+res1.text)\n",
        "print(res.text)"
      ],
      "metadata": {
        "id": "9eQMuUFR8Thi",
        "outputId": "f4aba8e9-1afc-40ad-bf26-c484e29c5670",
        "colab": {
          "base_uri": "https://localhost:8080/",
          "height": 490
        }
      },
      "id": "9eQMuUFR8Thi",
      "execution_count": null,
      "outputs": [
        {
          "output_type": "stream",
          "name": "stdout",
          "text": [
            "川柳の面白さは主観的なものなので、絶対的な評価は難しいですが、以下の基準で10段階評価をしてみました。基準は「ユーモラスさ」「意外性」「言葉の選び方」「情景描写の鮮やかさ」「五七五のリズム感の良さ」などを考慮しています。  数字が高いほど面白いです。\n",
            "\n",
            "1. 汗と涙　走れ青春　秋の空  (5点)  :  秋の空との対比が少し意外性があり、青春の情景はよく描けている。しかし、川柳として特に突出した面白さはない。\n",
            "\n",
            "2. 父母の　熱い視線に　力湧く (4点) :  よくある情景だが、平凡で面白みに欠ける。\n",
            "\n",
            "3. バトン繋ぎ　笑顔弾ける　勝利の瞬間 (3点) :  ストレートで、感情は伝わるが、言葉の選び方が平凡で、面白みは少ない。\n",
            "\n",
            "4. 惜敗も　胸に刻んで　次へ進む (4点) :  前向きな姿勢は伝わるが、川柳としてはやや淡白。\n",
            "\n",
            "5. 記録より　思い出作り　友達と (6点) :  現代的な感覚で、記録よりも友情を重視する価値観がユーモラスに感じられる。\n",
            "\n",
            "6. 徒競走　小さな一歩　大きな夢 (5点) :  定番のテーマだが、対比が効果的で、悪くはない。\n",
            "\n",
            "7. 応援席　声援飛び交う　一体感 (3点) :  情景描写は良いが、面白みに欠ける。\n",
            "\n",
            "8. リレーの　アンカー走り出す　ハラハラドキドキ (7点) :  ハラハラドキドキという擬音語が効果的で、臨場感が伝わる。意外性はないが、読者に感情移入させるところが良い。\n",
            "\n",
            "9. みんなで笑う　最高の思い出　運動会 (4点) :  素直で分かりやすいが、面白みは少ない。\n",
            "\n",
            "10. 青空の下　全力疾走　心ひとつに (5点) :  爽やかな情景が描かれていて、悪くはない。しかし、特に面白い点はない。\n",
            "\n",
            "\n",
            "総合的に見て、最も面白いのは8番で、次に5番です。他の川柳は、悪くはないものの、特筆するほどの面白さはないと言えるでしょう。  評価はあくまで個人的な感想です。\n",
            "\n"
          ]
        }
      ]
    },
    {
      "cell_type": "markdown",
      "id": "9e33b5a2-d9e0-43c7-9cc6-b8b642458be2",
      "metadata": {
        "id": "9e33b5a2-d9e0-43c7-9cc6-b8b642458be2"
      },
      "source": [
        "## 48. LLMによる評価の頑健性\n",
        "\n",
        "問題47で行ったLLMによるテキストの評価に関して、その頑健さ（脆弱さ）を調査せよ。最も単純な方法は、同じ評価を何回か繰り返した時のスコアの分散を調べることであろう。また、川柳の末尾に特定のメッセージを追加することで、評価スコアを恣意的に操作することも可能であろう。"
      ]
    },
    {
      "cell_type": "code",
      "source": [
        "import numpy as np\n",
        "\n",
        "senryu=\"父母の　熱い視線に　力湧く\"\n",
        "score=[]\n",
        "\n",
        "for _ in range(10):\n",
        "  res=model.generate_content(\"以下の川柳の面白さを10段階で評価し，数値のみ出力せよ\\n\\n\"+senryu)\n",
        "  a=res.text.replace(\"\\n\",\"\")\n",
        "  score.append(a)\n",
        "\n",
        "for s in score:\n",
        "  score_float=float(s)\n",
        "\n",
        "print(f\"川柳の点数：{score}\\n平均:{np.mean(score_float)}\\t分散:{np.var(score_float)}\")"
      ],
      "metadata": {
        "id": "fqKMRokMUFMa",
        "outputId": "c2d380e9-6a99-454e-9c6b-ed9b5f96cf7a",
        "colab": {
          "base_uri": "https://localhost:8080/",
          "height": 52
        }
      },
      "id": "fqKMRokMUFMa",
      "execution_count": 36,
      "outputs": [
        {
          "output_type": "stream",
          "name": "stdout",
          "text": [
            "川柳の点数：['7', '7', '7', '7', '7', '7', '7', '7', '7', '7']\n",
            "平均:7.0\t分散:0.0\n"
          ]
        }
      ]
    },
    {
      "cell_type": "markdown",
      "id": "fbb81de5-8434-4738-89d8-a79f46663857",
      "metadata": {
        "id": "fbb81de5-8434-4738-89d8-a79f46663857"
      },
      "source": [
        "## 49. トークン化\n",
        "\n",
        "以下の文章（夏目漱石の『吾輩は猫である』の冒頭部分）のトークン数を計測せよ。\n",
        "\n",
        ">　吾輩は猫である。名前はまだ無い。\n",
        ">\n",
        ">　どこで生れたかとんと見当がつかぬ。何でも薄暗いじめじめした所でニャーニャー泣いていた事だけは記憶している。吾輩はここで始めて人間というものを見た。しかもあとで聞くとそれは書生という人間中で一番獰悪な種族であったそうだ。この書生というのは時々我々を捕えて煮て食うという話である。しかしその当時は何という考もなかったから別段恐しいとも思わなかった。ただ彼の掌に載せられてスーと持ち上げられた時何だかフワフワした感じがあったばかりである。掌の上で少し落ちついて書生の顔を見たのがいわゆる人間というものの見始であろう。この時妙なものだと思った感じが今でも残っている。第一毛をもって装飾されべきはずの顔がつるつるしてまるで薬缶だ。その後猫にもだいぶ逢ったがこんな片輪には一度も出会わした事がない。のみならず顔の真中があまりに突起している。そうしてその穴の中から時々ぷうぷうと煙を吹く。どうも咽せぽくて実に弱った。これが人間の飲む煙草というものである事はようやくこの頃知った。\n"
      ]
    },
    {
      "cell_type": "code",
      "source": [
        "res=model.count_tokens(\"吾輩は猫である。名前はまだ無い。\\n どこで生れたかとんと見当がつかぬ。何でも薄暗いじめじめした所でニャーニャー泣いていた事だけは記憶している。吾輩はここで始めて人間というものを見た。しかもあとで聞くとそれは書生という人間中で一番獰悪な種族であったそうだ。この書生というのは時々我々を捕えて煮て食うという話である。しかしその当時は何という考もなかったから別段恐しいとも思わなかった。ただ彼の掌に載せられてスーと持ち上げられた時何だかフワフワした感じがあったばかりである。掌の上で少し落ちついて書生の顔を見たのがいわゆる人間というものの見始であろう。この時妙なものだと思った感じが今でも残っている。第一毛をもって装飾されべきはずの顔がつるつるしてまるで薬缶だ。その後猫にもだいぶ逢ったがこんな片輪には一度も出会わした事がない。のみならず顔の真中があまりに突起している。そうしてその穴の中から時々ぷうぷうと煙を吹く。どうも咽せぽくて実に弱った。これが人間の飲む煙草というものである事はようやくこの頃知った。\")\n",
        "print(f\"トークン数：{res.total_tokens}\")"
      ],
      "metadata": {
        "colab": {
          "base_uri": "https://localhost:8080/",
          "height": 35
        },
        "id": "M_RBWMSiQAbw",
        "outputId": "9bcde223-eac3-4a4f-e313-b5534a98744e"
      },
      "id": "M_RBWMSiQAbw",
      "execution_count": null,
      "outputs": [
        {
          "output_type": "stream",
          "name": "stdout",
          "text": [
            "トークン数：251\n"
          ]
        }
      ]
    }
  ],
  "metadata": {
    "colab": {
      "provenance": []
    },
    "kernelspec": {
      "display_name": "Python 3 (ipykernel)",
      "language": "python",
      "name": "python3"
    },
    "language_info": {
      "codemirror_mode": {
        "name": "ipython",
        "version": 3
      },
      "file_extension": ".py",
      "mimetype": "text/x-python",
      "name": "python",
      "nbconvert_exporter": "python",
      "pygments_lexer": "ipython3",
      "version": "3.12.3"
    }
  },
  "nbformat": 4,
  "nbformat_minor": 5
}