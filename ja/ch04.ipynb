{
  "cells": [
    {
      "cell_type": "markdown",
      "id": "4d5cd462-0ddc-48c0-848c-bc46be0af9fd",
      "metadata": {
        "editable": true,
        "id": "4d5cd462-0ddc-48c0-848c-bc46be0af9fd",
        "tags": []
      },
      "source": [
        "# 第4章: 言語解析\n",
        "\n",
        "問題30から問題35までは、以下の文章`text`（太宰治の『走れメロス』の冒頭部分）に対して、言語解析を実施せよ。問題36から問題39までは、国家を説明した文書群（日本語版ウィキペディア記事から抽出したテキスト群）をコーパスとして、言語解析を実施せよ。"
      ]
    },
    {
      "cell_type": "code",
      "execution_count": 44,
      "id": "7e6766b0-630b-4b78-8312-27e6f8104e7b",
      "metadata": {
        "editable": true,
        "id": "7e6766b0-630b-4b78-8312-27e6f8104e7b",
        "tags": [],
        "outputId": "3d45b39f-45a3-4186-cac1-45666da5f8cc",
        "colab": {
          "base_uri": "https://localhost:8080/"
        }
      },
      "outputs": [
        {
          "output_type": "stream",
          "name": "stdout",
          "text": [
            "Requirement already satisfied: mecab-python3 in /usr/local/lib/python3.11/dist-packages (1.0.10)\n",
            "Requirement already satisfied: ipadic in /usr/local/lib/python3.11/dist-packages (1.0.0)\n",
            "Requirement already satisfied: spacy in /usr/local/lib/python3.11/dist-packages (3.8.5)\n",
            "Requirement already satisfied: spacy-legacy<3.1.0,>=3.0.11 in /usr/local/lib/python3.11/dist-packages (from spacy) (3.0.12)\n",
            "Requirement already satisfied: spacy-loggers<2.0.0,>=1.0.0 in /usr/local/lib/python3.11/dist-packages (from spacy) (1.0.5)\n",
            "Requirement already satisfied: murmurhash<1.1.0,>=0.28.0 in /usr/local/lib/python3.11/dist-packages (from spacy) (1.0.12)\n",
            "Requirement already satisfied: cymem<2.1.0,>=2.0.2 in /usr/local/lib/python3.11/dist-packages (from spacy) (2.0.11)\n",
            "Requirement already satisfied: preshed<3.1.0,>=3.0.2 in /usr/local/lib/python3.11/dist-packages (from spacy) (3.0.9)\n",
            "Requirement already satisfied: thinc<8.4.0,>=8.3.4 in /usr/local/lib/python3.11/dist-packages (from spacy) (8.3.6)\n",
            "Requirement already satisfied: wasabi<1.2.0,>=0.9.1 in /usr/local/lib/python3.11/dist-packages (from spacy) (1.1.3)\n",
            "Requirement already satisfied: srsly<3.0.0,>=2.4.3 in /usr/local/lib/python3.11/dist-packages (from spacy) (2.5.1)\n",
            "Requirement already satisfied: catalogue<2.1.0,>=2.0.6 in /usr/local/lib/python3.11/dist-packages (from spacy) (2.0.10)\n",
            "Requirement already satisfied: weasel<0.5.0,>=0.1.0 in /usr/local/lib/python3.11/dist-packages (from spacy) (0.4.1)\n",
            "Requirement already satisfied: typer<1.0.0,>=0.3.0 in /usr/local/lib/python3.11/dist-packages (from spacy) (0.15.2)\n",
            "Requirement already satisfied: tqdm<5.0.0,>=4.38.0 in /usr/local/lib/python3.11/dist-packages (from spacy) (4.67.1)\n",
            "Requirement already satisfied: numpy>=1.19.0 in /usr/local/lib/python3.11/dist-packages (from spacy) (2.0.2)\n",
            "Requirement already satisfied: requests<3.0.0,>=2.13.0 in /usr/local/lib/python3.11/dist-packages (from spacy) (2.32.3)\n",
            "Requirement already satisfied: pydantic!=1.8,!=1.8.1,<3.0.0,>=1.7.4 in /usr/local/lib/python3.11/dist-packages (from spacy) (2.11.3)\n",
            "Requirement already satisfied: jinja2 in /usr/local/lib/python3.11/dist-packages (from spacy) (3.1.6)\n",
            "Requirement already satisfied: setuptools in /usr/local/lib/python3.11/dist-packages (from spacy) (75.2.0)\n",
            "Requirement already satisfied: packaging>=20.0 in /usr/local/lib/python3.11/dist-packages (from spacy) (24.2)\n",
            "Requirement already satisfied: langcodes<4.0.0,>=3.2.0 in /usr/local/lib/python3.11/dist-packages (from spacy) (3.5.0)\n",
            "Requirement already satisfied: language-data>=1.2 in /usr/local/lib/python3.11/dist-packages (from langcodes<4.0.0,>=3.2.0->spacy) (1.3.0)\n",
            "Requirement already satisfied: annotated-types>=0.6.0 in /usr/local/lib/python3.11/dist-packages (from pydantic!=1.8,!=1.8.1,<3.0.0,>=1.7.4->spacy) (0.7.0)\n",
            "Requirement already satisfied: pydantic-core==2.33.1 in /usr/local/lib/python3.11/dist-packages (from pydantic!=1.8,!=1.8.1,<3.0.0,>=1.7.4->spacy) (2.33.1)\n",
            "Requirement already satisfied: typing-extensions>=4.12.2 in /usr/local/lib/python3.11/dist-packages (from pydantic!=1.8,!=1.8.1,<3.0.0,>=1.7.4->spacy) (4.13.2)\n",
            "Requirement already satisfied: typing-inspection>=0.4.0 in /usr/local/lib/python3.11/dist-packages (from pydantic!=1.8,!=1.8.1,<3.0.0,>=1.7.4->spacy) (0.4.0)\n",
            "Requirement already satisfied: charset-normalizer<4,>=2 in /usr/local/lib/python3.11/dist-packages (from requests<3.0.0,>=2.13.0->spacy) (3.4.1)\n",
            "Requirement already satisfied: idna<4,>=2.5 in /usr/local/lib/python3.11/dist-packages (from requests<3.0.0,>=2.13.0->spacy) (3.10)\n",
            "Requirement already satisfied: urllib3<3,>=1.21.1 in /usr/local/lib/python3.11/dist-packages (from requests<3.0.0,>=2.13.0->spacy) (2.4.0)\n",
            "Requirement already satisfied: certifi>=2017.4.17 in /usr/local/lib/python3.11/dist-packages (from requests<3.0.0,>=2.13.0->spacy) (2025.1.31)\n",
            "Requirement already satisfied: blis<1.4.0,>=1.3.0 in /usr/local/lib/python3.11/dist-packages (from thinc<8.4.0,>=8.3.4->spacy) (1.3.0)\n",
            "Requirement already satisfied: confection<1.0.0,>=0.0.1 in /usr/local/lib/python3.11/dist-packages (from thinc<8.4.0,>=8.3.4->spacy) (0.1.5)\n",
            "Requirement already satisfied: click>=8.0.0 in /usr/local/lib/python3.11/dist-packages (from typer<1.0.0,>=0.3.0->spacy) (8.1.8)\n",
            "Requirement already satisfied: shellingham>=1.3.0 in /usr/local/lib/python3.11/dist-packages (from typer<1.0.0,>=0.3.0->spacy) (1.5.4)\n",
            "Requirement already satisfied: rich>=10.11.0 in /usr/local/lib/python3.11/dist-packages (from typer<1.0.0,>=0.3.0->spacy) (13.9.4)\n",
            "Requirement already satisfied: cloudpathlib<1.0.0,>=0.7.0 in /usr/local/lib/python3.11/dist-packages (from weasel<0.5.0,>=0.1.0->spacy) (0.21.0)\n",
            "Requirement already satisfied: smart-open<8.0.0,>=5.2.1 in /usr/local/lib/python3.11/dist-packages (from weasel<0.5.0,>=0.1.0->spacy) (7.1.0)\n",
            "Requirement already satisfied: MarkupSafe>=2.0 in /usr/local/lib/python3.11/dist-packages (from jinja2->spacy) (3.0.2)\n",
            "Requirement already satisfied: marisa-trie>=1.1.0 in /usr/local/lib/python3.11/dist-packages (from language-data>=1.2->langcodes<4.0.0,>=3.2.0->spacy) (1.2.1)\n",
            "Requirement already satisfied: markdown-it-py>=2.2.0 in /usr/local/lib/python3.11/dist-packages (from rich>=10.11.0->typer<1.0.0,>=0.3.0->spacy) (3.0.0)\n",
            "Requirement already satisfied: pygments<3.0.0,>=2.13.0 in /usr/local/lib/python3.11/dist-packages (from rich>=10.11.0->typer<1.0.0,>=0.3.0->spacy) (2.19.1)\n",
            "Requirement already satisfied: wrapt in /usr/local/lib/python3.11/dist-packages (from smart-open<8.0.0,>=5.2.1->weasel<0.5.0,>=0.1.0->spacy) (1.17.2)\n",
            "Requirement already satisfied: mdurl~=0.1 in /usr/local/lib/python3.11/dist-packages (from markdown-it-py>=2.2.0->rich>=10.11.0->typer<1.0.0,>=0.3.0->spacy) (0.1.2)\n",
            "Collecting ja_ginza\n",
            "  Downloading ja_ginza-5.2.0-py3-none-any.whl.metadata (5.8 kB)\n",
            "Requirement already satisfied: spacy<4.0.0,>=3.4.4 in /usr/local/lib/python3.11/dist-packages (from ja_ginza) (3.8.5)\n",
            "Requirement already satisfied: sudachipy<0.7.0,>=0.6.2 in /usr/local/lib/python3.11/dist-packages (from ja_ginza) (0.6.10)\n",
            "Requirement already satisfied: sudachidict-core>=20210802 in /usr/local/lib/python3.11/dist-packages (from ja_ginza) (20250129)\n",
            "Requirement already satisfied: ginza<5.3.0,>=5.2.0 in /usr/local/lib/python3.11/dist-packages (from ja_ginza) (5.2.0)\n",
            "Requirement already satisfied: plac>=1.3.3 in /usr/local/lib/python3.11/dist-packages (from ginza<5.3.0,>=5.2.0->ja_ginza) (1.4.5)\n",
            "Requirement already satisfied: spacy-legacy<3.1.0,>=3.0.11 in /usr/local/lib/python3.11/dist-packages (from spacy<4.0.0,>=3.4.4->ja_ginza) (3.0.12)\n",
            "Requirement already satisfied: spacy-loggers<2.0.0,>=1.0.0 in /usr/local/lib/python3.11/dist-packages (from spacy<4.0.0,>=3.4.4->ja_ginza) (1.0.5)\n",
            "Requirement already satisfied: murmurhash<1.1.0,>=0.28.0 in /usr/local/lib/python3.11/dist-packages (from spacy<4.0.0,>=3.4.4->ja_ginza) (1.0.12)\n",
            "Requirement already satisfied: cymem<2.1.0,>=2.0.2 in /usr/local/lib/python3.11/dist-packages (from spacy<4.0.0,>=3.4.4->ja_ginza) (2.0.11)\n",
            "Requirement already satisfied: preshed<3.1.0,>=3.0.2 in /usr/local/lib/python3.11/dist-packages (from spacy<4.0.0,>=3.4.4->ja_ginza) (3.0.9)\n",
            "Requirement already satisfied: thinc<8.4.0,>=8.3.4 in /usr/local/lib/python3.11/dist-packages (from spacy<4.0.0,>=3.4.4->ja_ginza) (8.3.6)\n",
            "Requirement already satisfied: wasabi<1.2.0,>=0.9.1 in /usr/local/lib/python3.11/dist-packages (from spacy<4.0.0,>=3.4.4->ja_ginza) (1.1.3)\n",
            "Requirement already satisfied: srsly<3.0.0,>=2.4.3 in /usr/local/lib/python3.11/dist-packages (from spacy<4.0.0,>=3.4.4->ja_ginza) (2.5.1)\n",
            "Requirement already satisfied: catalogue<2.1.0,>=2.0.6 in /usr/local/lib/python3.11/dist-packages (from spacy<4.0.0,>=3.4.4->ja_ginza) (2.0.10)\n",
            "Requirement already satisfied: weasel<0.5.0,>=0.1.0 in /usr/local/lib/python3.11/dist-packages (from spacy<4.0.0,>=3.4.4->ja_ginza) (0.4.1)\n",
            "Requirement already satisfied: typer<1.0.0,>=0.3.0 in /usr/local/lib/python3.11/dist-packages (from spacy<4.0.0,>=3.4.4->ja_ginza) (0.15.2)\n",
            "Requirement already satisfied: tqdm<5.0.0,>=4.38.0 in /usr/local/lib/python3.11/dist-packages (from spacy<4.0.0,>=3.4.4->ja_ginza) (4.67.1)\n",
            "Requirement already satisfied: numpy>=1.19.0 in /usr/local/lib/python3.11/dist-packages (from spacy<4.0.0,>=3.4.4->ja_ginza) (2.0.2)\n",
            "Requirement already satisfied: requests<3.0.0,>=2.13.0 in /usr/local/lib/python3.11/dist-packages (from spacy<4.0.0,>=3.4.4->ja_ginza) (2.32.3)\n",
            "Requirement already satisfied: pydantic!=1.8,!=1.8.1,<3.0.0,>=1.7.4 in /usr/local/lib/python3.11/dist-packages (from spacy<4.0.0,>=3.4.4->ja_ginza) (2.11.3)\n",
            "Requirement already satisfied: jinja2 in /usr/local/lib/python3.11/dist-packages (from spacy<4.0.0,>=3.4.4->ja_ginza) (3.1.6)\n",
            "Requirement already satisfied: setuptools in /usr/local/lib/python3.11/dist-packages (from spacy<4.0.0,>=3.4.4->ja_ginza) (75.2.0)\n",
            "Requirement already satisfied: packaging>=20.0 in /usr/local/lib/python3.11/dist-packages (from spacy<4.0.0,>=3.4.4->ja_ginza) (24.2)\n",
            "Requirement already satisfied: langcodes<4.0.0,>=3.2.0 in /usr/local/lib/python3.11/dist-packages (from spacy<4.0.0,>=3.4.4->ja_ginza) (3.5.0)\n",
            "Requirement already satisfied: language-data>=1.2 in /usr/local/lib/python3.11/dist-packages (from langcodes<4.0.0,>=3.2.0->spacy<4.0.0,>=3.4.4->ja_ginza) (1.3.0)\n",
            "Requirement already satisfied: annotated-types>=0.6.0 in /usr/local/lib/python3.11/dist-packages (from pydantic!=1.8,!=1.8.1,<3.0.0,>=1.7.4->spacy<4.0.0,>=3.4.4->ja_ginza) (0.7.0)\n",
            "Requirement already satisfied: pydantic-core==2.33.1 in /usr/local/lib/python3.11/dist-packages (from pydantic!=1.8,!=1.8.1,<3.0.0,>=1.7.4->spacy<4.0.0,>=3.4.4->ja_ginza) (2.33.1)\n",
            "Requirement already satisfied: typing-extensions>=4.12.2 in /usr/local/lib/python3.11/dist-packages (from pydantic!=1.8,!=1.8.1,<3.0.0,>=1.7.4->spacy<4.0.0,>=3.4.4->ja_ginza) (4.13.2)\n",
            "Requirement already satisfied: typing-inspection>=0.4.0 in /usr/local/lib/python3.11/dist-packages (from pydantic!=1.8,!=1.8.1,<3.0.0,>=1.7.4->spacy<4.0.0,>=3.4.4->ja_ginza) (0.4.0)\n",
            "Requirement already satisfied: charset-normalizer<4,>=2 in /usr/local/lib/python3.11/dist-packages (from requests<3.0.0,>=2.13.0->spacy<4.0.0,>=3.4.4->ja_ginza) (3.4.1)\n",
            "Requirement already satisfied: idna<4,>=2.5 in /usr/local/lib/python3.11/dist-packages (from requests<3.0.0,>=2.13.0->spacy<4.0.0,>=3.4.4->ja_ginza) (3.10)\n",
            "Requirement already satisfied: urllib3<3,>=1.21.1 in /usr/local/lib/python3.11/dist-packages (from requests<3.0.0,>=2.13.0->spacy<4.0.0,>=3.4.4->ja_ginza) (2.4.0)\n",
            "Requirement already satisfied: certifi>=2017.4.17 in /usr/local/lib/python3.11/dist-packages (from requests<3.0.0,>=2.13.0->spacy<4.0.0,>=3.4.4->ja_ginza) (2025.1.31)\n",
            "Requirement already satisfied: blis<1.4.0,>=1.3.0 in /usr/local/lib/python3.11/dist-packages (from thinc<8.4.0,>=8.3.4->spacy<4.0.0,>=3.4.4->ja_ginza) (1.3.0)\n",
            "Requirement already satisfied: confection<1.0.0,>=0.0.1 in /usr/local/lib/python3.11/dist-packages (from thinc<8.4.0,>=8.3.4->spacy<4.0.0,>=3.4.4->ja_ginza) (0.1.5)\n",
            "Requirement already satisfied: click>=8.0.0 in /usr/local/lib/python3.11/dist-packages (from typer<1.0.0,>=0.3.0->spacy<4.0.0,>=3.4.4->ja_ginza) (8.1.8)\n",
            "Requirement already satisfied: shellingham>=1.3.0 in /usr/local/lib/python3.11/dist-packages (from typer<1.0.0,>=0.3.0->spacy<4.0.0,>=3.4.4->ja_ginza) (1.5.4)\n",
            "Requirement already satisfied: rich>=10.11.0 in /usr/local/lib/python3.11/dist-packages (from typer<1.0.0,>=0.3.0->spacy<4.0.0,>=3.4.4->ja_ginza) (13.9.4)\n",
            "Requirement already satisfied: cloudpathlib<1.0.0,>=0.7.0 in /usr/local/lib/python3.11/dist-packages (from weasel<0.5.0,>=0.1.0->spacy<4.0.0,>=3.4.4->ja_ginza) (0.21.0)\n",
            "Requirement already satisfied: smart-open<8.0.0,>=5.2.1 in /usr/local/lib/python3.11/dist-packages (from weasel<0.5.0,>=0.1.0->spacy<4.0.0,>=3.4.4->ja_ginza) (7.1.0)\n",
            "Requirement already satisfied: MarkupSafe>=2.0 in /usr/local/lib/python3.11/dist-packages (from jinja2->spacy<4.0.0,>=3.4.4->ja_ginza) (3.0.2)\n",
            "Requirement already satisfied: marisa-trie>=1.1.0 in /usr/local/lib/python3.11/dist-packages (from language-data>=1.2->langcodes<4.0.0,>=3.2.0->spacy<4.0.0,>=3.4.4->ja_ginza) (1.2.1)\n",
            "Requirement already satisfied: markdown-it-py>=2.2.0 in /usr/local/lib/python3.11/dist-packages (from rich>=10.11.0->typer<1.0.0,>=0.3.0->spacy<4.0.0,>=3.4.4->ja_ginza) (3.0.0)\n",
            "Requirement already satisfied: pygments<3.0.0,>=2.13.0 in /usr/local/lib/python3.11/dist-packages (from rich>=10.11.0->typer<1.0.0,>=0.3.0->spacy<4.0.0,>=3.4.4->ja_ginza) (2.19.1)\n",
            "Requirement already satisfied: wrapt in /usr/local/lib/python3.11/dist-packages (from smart-open<8.0.0,>=5.2.1->weasel<0.5.0,>=0.1.0->spacy<4.0.0,>=3.4.4->ja_ginza) (1.17.2)\n",
            "Requirement already satisfied: mdurl~=0.1 in /usr/local/lib/python3.11/dist-packages (from markdown-it-py>=2.2.0->rich>=10.11.0->typer<1.0.0,>=0.3.0->spacy<4.0.0,>=3.4.4->ja_ginza) (0.1.2)\n",
            "Downloading ja_ginza-5.2.0-py3-none-any.whl (59.1 MB)\n",
            "\u001b[2K   \u001b[90m━━━━━━━━━━━━━━━━━━━━━━━━━━━━━━━━━━━━━━━━\u001b[0m \u001b[32m59.1/59.1 MB\u001b[0m \u001b[31m20.2 MB/s\u001b[0m eta \u001b[36m0:00:00\u001b[0m\n",
            "\u001b[?25hInstalling collected packages: ja_ginza\n",
            "Successfully installed ja_ginza-5.2.0\n"
          ]
        }
      ],
      "source": [
        "text = \"\"\"\n",
        "メロスは激怒した。\n",
        "必ず、かの邪智暴虐の王を除かなければならぬと決意した。\n",
        "メロスには政治がわからぬ。\n",
        "メロスは、村の牧人である。\n",
        "笛を吹き、羊と遊んで暮して来た。\n",
        "けれども邪悪に対しては、人一倍に敏感であった。\n",
        "\"\"\"\n",
        "\n",
        "!pip install mecab-python3\n",
        "\n",
        "!pip install ipadic\n",
        "\n",
        "!pip install spacy\n",
        "!pip install -U ja_ginza"
      ]
    },
    {
      "cell_type": "markdown",
      "id": "80e3790d-077d-453a-b981-964f609fc4be",
      "metadata": {
        "id": "80e3790d-077d-453a-b981-964f609fc4be"
      },
      "source": [
        "## 30. 動詞\n",
        "文章`text`に含まれる動詞をすべて表示せよ。"
      ]
    },
    {
      "cell_type": "code",
      "source": [
        "import MeCab\n",
        "import ipadic\n",
        "\n",
        "mecab=MeCab.Tagger(ipadic.MECAB_ARGS)\n",
        "node=mecab.parseToNode(text)\n",
        "while node:\n",
        "  if node.feature.split(\",\")[0]==\"動詞\":\n",
        "    print(node.surface)\n",
        "  node=node.next"
      ],
      "metadata": {
        "id": "1lEenK6euIOV",
        "outputId": "7863fdd0-4150-4717-8130-604857ea2c23",
        "colab": {
          "base_uri": "https://localhost:8080/"
        }
      },
      "id": "1lEenK6euIOV",
      "execution_count": 31,
      "outputs": [
        {
          "output_type": "stream",
          "name": "stdout",
          "text": [
            "し\n",
            "除か\n",
            "なら\n",
            "し\n",
            "わから\n",
            "吹き\n",
            "遊ん\n",
            "暮し\n",
            "来\n"
          ]
        }
      ]
    },
    {
      "cell_type": "markdown",
      "id": "5fd1d613-8375-4837-b534-a01451eddf98",
      "metadata": {
        "id": "5fd1d613-8375-4837-b534-a01451eddf98"
      },
      "source": [
        "## 31. 動詞の原型\n",
        "文章`text`に含まれる動詞と、その原型をすべて表示せよ。"
      ]
    },
    {
      "cell_type": "code",
      "source": [
        "mecab=MeCab.Tagger(ipadic.MECAB_ARGS)\n",
        "node=mecab.parseToNode(text)\n",
        "while node:\n",
        "  f=node.feature.split(\",\")\n",
        "  if f[0]==\"動詞\":\n",
        "    print(f\"動詞:{node.surface}\\t原型:{f[6]}\")\n",
        "  node=node.next"
      ],
      "metadata": {
        "id": "sPeTAiT40uvZ",
        "outputId": "daae93dd-c2eb-4080-ea7f-30cb3d9b7873",
        "colab": {
          "base_uri": "https://localhost:8080/"
        }
      },
      "id": "sPeTAiT40uvZ",
      "execution_count": 48,
      "outputs": [
        {
          "output_type": "stream",
          "name": "stdout",
          "text": [
            "動詞:し\t原型:する\n",
            "動詞:除か\t原型:除く\n",
            "動詞:なら\t原型:なる\n",
            "動詞:し\t原型:する\n",
            "動詞:わから\t原型:わかる\n",
            "動詞:吹き\t原型:吹く\n",
            "動詞:遊ん\t原型:遊ぶ\n",
            "動詞:暮し\t原型:暮す\n",
            "動詞:来\t原型:来る\n"
          ]
        }
      ]
    },
    {
      "cell_type": "markdown",
      "id": "34558343-a286-429b-b3ee-b1e6b3ca4561",
      "metadata": {
        "id": "34558343-a286-429b-b3ee-b1e6b3ca4561"
      },
      "source": [
        "## 32. 「AのB」\n",
        "文章`text`において、2つの名詞が「の」で連結されている名詞句をすべて抽出せよ。"
      ]
    },
    {
      "cell_type": "code",
      "source": [
        "mecab=MeCab.Tagger(ipadic.MECAB_ARGS)\n",
        "node=mecab.parseToNode(text)\n",
        "token=[]\n",
        "while node:\n",
        "  f=node.feature.split(\",\")\n",
        "  token.append((node.surface,f[0]))\n",
        "  node=node.next\n",
        "\n",
        "for i in range(len(token)-2):\n",
        "  if token[i][1]==\"名詞\" and token[i+1][0]==\"の\" and token[i+2][1]==\"名詞\":\n",
        "    print(token[i][0]+token[i+1][0]+token[i+2][0])"
      ],
      "metadata": {
        "id": "6rPHDHzv4Kg1",
        "outputId": "69bbd61a-d890-4fc4-be75-988987529e9a",
        "colab": {
          "base_uri": "https://localhost:8080/"
        }
      },
      "id": "6rPHDHzv4Kg1",
      "execution_count": 39,
      "outputs": [
        {
          "output_type": "stream",
          "name": "stdout",
          "text": [
            "暴虐の王\n",
            "村の牧人\n"
          ]
        }
      ]
    },
    {
      "cell_type": "markdown",
      "id": "7cac9c74-cd83-42d3-8cde-a4a0f4200094",
      "metadata": {
        "id": "7cac9c74-cd83-42d3-8cde-a4a0f4200094"
      },
      "source": [
        "## 33. 係り受け解析\n",
        "\n",
        "文章`text`に係り受け解析を適用し、係り元と係り先のトークン（形態素や文節などの単位）をタブ区切り形式ですべて抽出せよ。"
      ]
    },
    {
      "cell_type": "code",
      "source": [
        "import ginza\n",
        "import spacy\n",
        "\n",
        "nlp = spacy.load(\"ja_ginza\")\n",
        "doc = nlp(text)\n",
        "for token in doc:\n",
        "  print(f\"{token.text}\\t{token.head.text}\")"
      ],
      "metadata": {
        "id": "cEzQhKX29r21",
        "outputId": "aa899861-c6ab-48ab-fab0-e016fac2fe75",
        "colab": {
          "base_uri": "https://localhost:8080/"
        }
      },
      "id": "cEzQhKX29r21",
      "execution_count": 46,
      "outputs": [
        {
          "output_type": "stream",
          "name": "stdout",
          "text": [
            "\n",
            "\tメロス\n",
            "メロス\t激怒\n",
            "は\tメロス\n",
            "激怒\t激怒\n",
            "し\t激怒\n",
            "た\t激怒\n",
            "。\t激怒\n",
            "\n",
            "\t\n",
            "\n",
            "必ず\t除か\n",
            "、\t必ず\n",
            "かの\t暴虐\n",
            "邪智\t暴虐\n",
            "暴虐\t王\n",
            "の\t暴虐\n",
            "王\t除か\n",
            "を\t王\n",
            "除か\t決意\n",
            "なけれ\t除か\n",
            "ば\tなけれ\n",
            "なら\tなけれ\n",
            "ぬ\tなけれ\n",
            "と\t除か\n",
            "決意\t決意\n",
            "し\t決意\n",
            "た\t決意\n",
            "。\t決意\n",
            "\n",
            "\tメロス\n",
            "メロス\tわから\n",
            "に\tメロス\n",
            "は\tメロス\n",
            "政治\tわから\n",
            "が\t政治\n",
            "わから\tわから\n",
            "ぬ\tわから\n",
            "。\tわから\n",
            "\n",
            "\tメロス\n",
            "メロス\t牧人\n",
            "は\tメロス\n",
            "、\tメロス\n",
            "村\t牧人\n",
            "の\t村\n",
            "牧人\t牧人\n",
            "で\t牧人\n",
            "ある\tで\n",
            "。\t牧人\n",
            "\n",
            "\t笛\n",
            "笛\t吹き\n",
            "を\t笛\n",
            "吹き\t暮し\n",
            "、\t吹き\n",
            "羊\t遊ん\n",
            "と\t羊\n",
            "遊ん\t暮し\n",
            "で\t遊ん\n",
            "暮し\t暮し\n",
            "て\t暮し\n",
            "来\tて\n",
            "た\t暮し\n",
            "。\t暮し\n",
            "\n",
            "\t邪悪\n",
            "けれど\t\n",
            "\n",
            "も\t\n",
            "\n",
            "邪悪\t敏感\n",
            "に\t邪悪\n",
            "対し\tに\n",
            "ては\tに\n",
            "、\t邪悪\n",
            "人\t倍\n",
            "一\t倍\n",
            "倍\t敏感\n",
            "に\t倍\n",
            "敏感\t敏感\n",
            "で\t敏感\n",
            "あっ\tで\n",
            "た\t敏感\n",
            "。\t敏感\n",
            "\n",
            "\t\n",
            "\n"
          ]
        }
      ]
    },
    {
      "cell_type": "markdown",
      "id": "eb49b4d2-9869-4f43-9cd8-9e79e0c1b40f",
      "metadata": {
        "id": "eb49b4d2-9869-4f43-9cd8-9e79e0c1b40f"
      },
      "source": [
        "## 34. 主述の関係\n",
        "文章`text`において、「メロス」が主語であるときの述語を抽出せよ。"
      ]
    },
    {
      "cell_type": "markdown",
      "id": "ec8ba153-85e7-4cbe-bcc0-bb659409d494",
      "metadata": {
        "id": "ec8ba153-85e7-4cbe-bcc0-bb659409d494"
      },
      "source": [
        "## 35. 係り受け木\n",
        "「メロスは激怒した。」の係り受け木を可視化せよ。"
      ]
    },
    {
      "cell_type": "markdown",
      "id": "b880d760-ea6c-4722-9a65-5b97a02ed192",
      "metadata": {
        "id": "b880d760-ea6c-4722-9a65-5b97a02ed192"
      },
      "source": [
        "## 36. 単語の出現頻度\n",
        "\n",
        "問題36から39までは、Wikipediaの記事を以下のフォーマットで書き出したファイル[jawiki-country.json.gz](/data/jawiki-country.json.gz)をコーパスと見なし、統計的な分析を行う。\n",
        "\n",
        "* 1行に1記事の情報がJSON形式で格納される\n",
        "* 各行には記事名が\"title\"キーに、記事本文が\"text\"キーの辞書オブジェクトに格納され、そのオブジェクトがJSON形式で書き出される\n",
        "* ファイル全体はgzipで圧縮される\n",
        "\n",
        "まず、第3章の処理内容を参考に、Wikipedia記事からマークアップを除去し、各記事のテキストを抽出せよ。そして、コーパスにおける単語（形態素）の出現頻度を求め、出現頻度の高い20語とその出現頻度を表示せよ。"
      ]
    },
    {
      "cell_type": "markdown",
      "id": "e38bd27c-0644-4468-8b4d-99318b91c0cb",
      "metadata": {
        "id": "e38bd27c-0644-4468-8b4d-99318b91c0cb"
      },
      "source": [
        "## 37. 名詞の出現頻度\n",
        "コーパスにおける名詞の出現頻度を求め、出現頻度の高い20語とその出現頻度を表示せよ。"
      ]
    },
    {
      "cell_type": "markdown",
      "id": "8a64fda0-5ee3-48ad-9071-f37f805951d3",
      "metadata": {
        "id": "8a64fda0-5ee3-48ad-9071-f37f805951d3"
      },
      "source": [
        "## 38. TF・IDF\n",
        "日本に関する記事における名詞のTF・IDFスコアを求め、TF・IDFスコア上位20語とそのTF, IDF, TF・IDFを表示せよ。"
      ]
    },
    {
      "cell_type": "markdown",
      "id": "5f3b60e9-5d8e-4c2e-a68d-385c91713113",
      "metadata": {
        "id": "5f3b60e9-5d8e-4c2e-a68d-385c91713113"
      },
      "source": [
        "## 39. Zipfの法則\n",
        "コーパスにおける単語の出現頻度順位を横軸、その出現頻度を縦軸として、両対数グラフをプロットせよ。"
      ]
    }
  ],
  "metadata": {
    "colab": {
      "provenance": []
    },
    "kernelspec": {
      "display_name": "Python 3 (ipykernel)",
      "language": "python",
      "name": "python3"
    },
    "language_info": {
      "codemirror_mode": {
        "name": "ipython",
        "version": 3
      },
      "file_extension": ".py",
      "mimetype": "text/x-python",
      "name": "python",
      "nbconvert_exporter": "python",
      "pygments_lexer": "ipython3",
      "version": "3.12.3"
    }
  },
  "nbformat": 4,
  "nbformat_minor": 5
}