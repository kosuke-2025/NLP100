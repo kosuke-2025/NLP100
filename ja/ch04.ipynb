{
  "cells": [
    {
      "cell_type": "markdown",
      "id": "4d5cd462-0ddc-48c0-848c-bc46be0af9fd",
      "metadata": {
        "editable": true,
        "id": "4d5cd462-0ddc-48c0-848c-bc46be0af9fd",
        "tags": []
      },
      "source": [
        "# 第4章: 言語解析\n",
        "\n",
        "問題30から問題35までは、以下の文章`text`（太宰治の『走れメロス』の冒頭部分）に対して、言語解析を実施せよ。問題36から問題39までは、国家を説明した文書群（日本語版ウィキペディア記事から抽出したテキスト群）をコーパスとして、言語解析を実施せよ。"
      ]
    },
    {
      "cell_type": "code",
      "execution_count": 4,
      "id": "7e6766b0-630b-4b78-8312-27e6f8104e7b",
      "metadata": {
        "editable": true,
        "id": "7e6766b0-630b-4b78-8312-27e6f8104e7b",
        "tags": []
      },
      "outputs": [],
      "source": [
        "text = \"\"\"\n",
        "メロスは激怒した。\n",
        "必ず、かの邪智暴虐の王を除かなければならぬと決意した。\n",
        "メロスには政治がわからぬ。\n",
        "メロスは、村の牧人である。\n",
        "笛を吹き、羊と遊んで暮して来た。\n",
        "けれども邪悪に対しては、人一倍に敏感であった。\n",
        "\"\"\""
      ]
    },
    {
      "cell_type": "code",
      "source": [
        "!pip install mecab-python3"
      ],
      "metadata": {
        "id": "7GpUMXVEs31J",
        "outputId": "31a5bbe7-7124-45d8-cf96-24b9d346f9ae",
        "colab": {
          "base_uri": "https://localhost:8080/"
        }
      },
      "id": "7GpUMXVEs31J",
      "execution_count": 1,
      "outputs": [
        {
          "output_type": "stream",
          "name": "stdout",
          "text": [
            "Requirement already satisfied: mecab-python3 in /usr/local/lib/python3.11/dist-packages (1.0.10)\n"
          ]
        }
      ]
    },
    {
      "cell_type": "code",
      "source": [
        "!pip install unidic-lite"
      ],
      "metadata": {
        "id": "3aUDld5j1Z0n",
        "outputId": "c560d270-7e37-4578-9e24-701204dc7f2d",
        "colab": {
          "base_uri": "https://localhost:8080/"
        }
      },
      "id": "3aUDld5j1Z0n",
      "execution_count": 2,
      "outputs": [
        {
          "output_type": "stream",
          "name": "stdout",
          "text": [
            "Requirement already satisfied: unidic-lite in /usr/local/lib/python3.11/dist-packages (1.0.8)\n"
          ]
        }
      ]
    },
    {
      "cell_type": "markdown",
      "id": "80e3790d-077d-453a-b981-964f609fc4be",
      "metadata": {
        "id": "80e3790d-077d-453a-b981-964f609fc4be"
      },
      "source": [
        "## 30. 動詞\n",
        "文章`text`に含まれる動詞をすべて表示せよ。"
      ]
    },
    {
      "cell_type": "code",
      "source": [
        "import MeCab\n",
        "\n",
        "mecab=MeCab.Tagger()\n",
        "result=mecab.parse(text)\n",
        "print(result)"
      ],
      "metadata": {
        "id": "1lEenK6euIOV",
        "outputId": "7cbd0487-f8af-4e7a-d33b-c7da45cc89ee",
        "colab": {
          "base_uri": "https://localhost:8080/"
        }
      },
      "id": "1lEenK6euIOV",
      "execution_count": 5,
      "outputs": [
        {
          "output_type": "stream",
          "name": "stdout",
          "text": [
            "メロス\tメロス\tメロス\tメロス-melos\t名詞-普通名詞-一般\t\t\t1\n",
            "は\tワ\tハ\tは\t助詞-係助詞\t\t\t\n",
            "激怒\tゲキド\tゲキド\t激怒\t名詞-普通名詞-サ変可能\t\t\t1\n",
            "し\tシ\tスル\t為る\t動詞-非自立可能\tサ行変格\t連用形-一般\t0\n",
            "た\tタ\tタ\tた\t助動詞\t助動詞-タ\t終止形-一般\t\n",
            "。\t\t\t。\t補助記号-句点\t\t\t\n",
            "必ず\tカナラズ\tカナラズ\t必ず\t副詞\t\t\t0\n",
            "、\t\t\t、\t補助記号-読点\t\t\t\n",
            "かの\tカノ\tカノ\t彼の\t連体詞\t\t\t1\n",
            "邪智\tジャチ\tジャチ\t邪知\t名詞-普通名詞-一般\t\t\t1\n",
            "暴虐\tボーギャク\tボウギャク\t暴虐\t名詞-普通名詞-形状詞可能\t\t\t0\n",
            "の\tノ\tノ\tの\t助詞-格助詞\t\t\t\n",
            "王\tオー\tオウ\t王\t名詞-普通名詞-一般\t\t\t1\n",
            "を\tオ\tヲ\tを\t助詞-格助詞\t\t\t\n",
            "除か\tノゾカ\tノゾク\t除く\t動詞-一般\t五段-カ行\t未然形-一般\t0\n",
            "なけれ\tナケレ\tナイ\tない\t助動詞\t助動詞-ナイ\t仮定形-一般\t\n",
            "ば\tバ\tバ\tば\t助詞-接続助詞\t\t\t\n",
            "なら\tナラ\tナル\t成る\t動詞-非自立可能\t五段-ラ行\t未然形-一般\t1\n",
            "ぬ\tヌ\tズ\tず\t助動詞\t助動詞-ヌ\t終止形-一般\t\n",
            "と\tト\tト\tと\t助詞-格助詞\t\t\t\n",
            "決意\tケツイ\tケツイ\t決意\t名詞-普通名詞-サ変可能\t\t\t1,2\n",
            "し\tシ\tスル\t為る\t動詞-非自立可能\tサ行変格\t連用形-一般\t0\n",
            "た\tタ\tタ\tた\t助動詞\t助動詞-タ\t終止形-一般\t\n",
            "。\t\t\t。\t補助記号-句点\t\t\t\n",
            "メロス\tメロス\tメロス\tメロス-melos\t名詞-普通名詞-一般\t\t\t1\n",
            "に\tニ\tニ\tに\t助詞-格助詞\t\t\t\n",
            "は\tワ\tハ\tは\t助詞-係助詞\t\t\t\n",
            "政治\tセージ\tセイジ\t政治\t名詞-普通名詞-一般\t\t\t0\n",
            "が\tガ\tガ\tが\t助詞-格助詞\t\t\t\n",
            "わから\tワカラ\tワカル\t分かる\t動詞-一般\t五段-ラ行\t未然形-一般\t2\n",
            "ぬ\tヌ\tズ\tず\t助動詞\t助動詞-ヌ\t終止形-一般\t\n",
            "。\t\t\t。\t補助記号-句点\t\t\t\n",
            "メロス\tメロス\tメロス\tメロス-melos\t名詞-普通名詞-一般\t\t\t1\n",
            "は\tワ\tハ\tは\t助詞-係助詞\t\t\t\n",
            "、\t\t\t、\t補助記号-読点\t\t\t\n",
            "村\tムラ\tムラ\t村\t名詞-普通名詞-一般\t\t\t2\n",
            "の\tノ\tノ\tの\t助詞-格助詞\t\t\t\n",
            "牧人\tボクジン\tボクジン\t牧人\t名詞-普通名詞-一般\t\t\t0\n",
            "で\tデ\tダ\tだ\t助動詞\t助動詞-ダ\t連用形-一般\t\n",
            "ある\tアル\tアル\t有る\t動詞-非自立可能\t五段-ラ行\t終止形-一般\t1\n",
            "。\t\t\t。\t補助記号-句点\t\t\t\n",
            "笛\tフエ\tフエ\t笛\t名詞-普通名詞-一般\t\t\t0\n",
            "を\tオ\tヲ\tを\t助詞-格助詞\t\t\t\n",
            "吹き\tフキ\tフク\t吹く\t動詞-一般\t五段-カ行\t連用形-一般\t1,2\n",
            "、\t\t\t、\t補助記号-読点\t\t\t\n",
            "羊\tヒツジ\tヒツジ\t羊\t名詞-普通名詞-一般\t\t\t0\n",
            "と\tト\tト\tと\t助詞-格助詞\t\t\t\n",
            "遊ん\tアソン\tアソブ\t遊ぶ\t動詞-一般\t五段-バ行\t連用形-撥音便\t0\n",
            "で\tデ\tテ\tて\t助詞-接続助詞\t\t\t\n",
            "暮し\tクラシ\tクラス\t暮らす\t動詞-一般\t五段-サ行\t連用形-一般\t0\n",
            "て\tテ\tテ\tて\t助詞-接続助詞\t\t\t\n",
            "来\tキ\tクル\t来る\t動詞-非自立可能\tカ行変格\t連用形-一般\t1\n",
            "た\tタ\tタ\tた\t助動詞\t助動詞-タ\t終止形-一般\t\n",
            "。\t\t\t。\t補助記号-句点\t\t\t\n",
            "けれど\tケレド\tケレド\tけれど\t接続詞\t\t\t1\n",
            "も\tモ\tモ\tも\t助詞-係助詞\t\t\t\n",
            "邪悪\tジャアク\tジャアク\t邪悪\t名詞-普通名詞-形状詞可能\t\t\t0,1\n",
            "に\tニ\tニ\tに\t助詞-格助詞\t\t\t\n",
            "対し\tタイシ\tタイスル\t対する\t動詞-一般\tサ行変格\t連用形-一般\t3\n",
            "て\tテ\tテ\tて\t助詞-接続助詞\t\t\t\n",
            "は\tワ\tハ\tは\t助詞-係助詞\t\t\t\n",
            "、\t\t\t、\t補助記号-読点\t\t\t\n",
            "人\tヒト\tヒト\t人\t名詞-普通名詞-一般\t\t\t0\n",
            "一\tイチ\tイチ\t一\t名詞-数詞\t\t\t2\n",
            "倍\tバイ\tバイ\t倍\t名詞-普通名詞-助数詞可能\t\t\t0,1\n",
            "に\tニ\tニ\tに\t助詞-格助詞\t\t\t\n",
            "敏感\tビンカン\tビンカン\t敏感\t名詞-普通名詞-形状詞可能\t\t\t0\n",
            "で\tデ\tダ\tだ\t助動詞\t助動詞-ダ\t連用形-一般\t\n",
            "あっ\tアッ\tアル\t有る\t動詞-非自立可能\t五段-ラ行\t連用形-促音便\t1\n",
            "た\tタ\tタ\tた\t助動詞\t助動詞-タ\t終止形-一般\t\n",
            "。\t\t\t。\t補助記号-句点\t\t\t\n",
            "EOS\n",
            "\n"
          ]
        }
      ]
    },
    {
      "cell_type": "markdown",
      "id": "5fd1d613-8375-4837-b534-a01451eddf98",
      "metadata": {
        "id": "5fd1d613-8375-4837-b534-a01451eddf98"
      },
      "source": [
        "## 31. 動詞の原型\n",
        "文章`text`に含まれる動詞と、その原型をすべて表示せよ。"
      ]
    },
    {
      "cell_type": "markdown",
      "id": "34558343-a286-429b-b3ee-b1e6b3ca4561",
      "metadata": {
        "id": "34558343-a286-429b-b3ee-b1e6b3ca4561"
      },
      "source": [
        "## 32. 「AのB」\n",
        "文章`text`において、2つの名詞が「の」で連結されている名詞句をすべて抽出せよ。"
      ]
    },
    {
      "cell_type": "markdown",
      "id": "7cac9c74-cd83-42d3-8cde-a4a0f4200094",
      "metadata": {
        "id": "7cac9c74-cd83-42d3-8cde-a4a0f4200094"
      },
      "source": [
        "## 33. 係り受け解析\n",
        "\n",
        "文章`text`に係り受け解析を適用し、係り元と係り先のトークン（形態素や文節などの単位）をタブ区切り形式ですべて抽出せよ。"
      ]
    },
    {
      "cell_type": "markdown",
      "id": "eb49b4d2-9869-4f43-9cd8-9e79e0c1b40f",
      "metadata": {
        "id": "eb49b4d2-9869-4f43-9cd8-9e79e0c1b40f"
      },
      "source": [
        "## 34. 主述の関係\n",
        "文章`text`において、「メロス」が主語であるときの述語を抽出せよ。"
      ]
    },
    {
      "cell_type": "markdown",
      "id": "ec8ba153-85e7-4cbe-bcc0-bb659409d494",
      "metadata": {
        "id": "ec8ba153-85e7-4cbe-bcc0-bb659409d494"
      },
      "source": [
        "## 35. 係り受け木\n",
        "「メロスは激怒した。」の係り受け木を可視化せよ。"
      ]
    },
    {
      "cell_type": "markdown",
      "id": "b880d760-ea6c-4722-9a65-5b97a02ed192",
      "metadata": {
        "id": "b880d760-ea6c-4722-9a65-5b97a02ed192"
      },
      "source": [
        "## 36. 単語の出現頻度\n",
        "\n",
        "問題36から39までは、Wikipediaの記事を以下のフォーマットで書き出したファイル[jawiki-country.json.gz](/data/jawiki-country.json.gz)をコーパスと見なし、統計的な分析を行う。\n",
        "\n",
        "* 1行に1記事の情報がJSON形式で格納される\n",
        "* 各行には記事名が\"title\"キーに、記事本文が\"text\"キーの辞書オブジェクトに格納され、そのオブジェクトがJSON形式で書き出される\n",
        "* ファイル全体はgzipで圧縮される\n",
        "\n",
        "まず、第3章の処理内容を参考に、Wikipedia記事からマークアップを除去し、各記事のテキストを抽出せよ。そして、コーパスにおける単語（形態素）の出現頻度を求め、出現頻度の高い20語とその出現頻度を表示せよ。"
      ]
    },
    {
      "cell_type": "markdown",
      "id": "e38bd27c-0644-4468-8b4d-99318b91c0cb",
      "metadata": {
        "id": "e38bd27c-0644-4468-8b4d-99318b91c0cb"
      },
      "source": [
        "## 37. 名詞の出現頻度\n",
        "コーパスにおける名詞の出現頻度を求め、出現頻度の高い20語とその出現頻度を表示せよ。"
      ]
    },
    {
      "cell_type": "markdown",
      "id": "8a64fda0-5ee3-48ad-9071-f37f805951d3",
      "metadata": {
        "id": "8a64fda0-5ee3-48ad-9071-f37f805951d3"
      },
      "source": [
        "## 38. TF・IDF\n",
        "日本に関する記事における名詞のTF・IDFスコアを求め、TF・IDFスコア上位20語とそのTF, IDF, TF・IDFを表示せよ。"
      ]
    },
    {
      "cell_type": "markdown",
      "id": "5f3b60e9-5d8e-4c2e-a68d-385c91713113",
      "metadata": {
        "id": "5f3b60e9-5d8e-4c2e-a68d-385c91713113"
      },
      "source": [
        "## 39. Zipfの法則\n",
        "コーパスにおける単語の出現頻度順位を横軸、その出現頻度を縦軸として、両対数グラフをプロットせよ。"
      ]
    }
  ],
  "metadata": {
    "colab": {
      "provenance": []
    },
    "kernelspec": {
      "display_name": "Python 3 (ipykernel)",
      "language": "python",
      "name": "python3"
    },
    "language_info": {
      "codemirror_mode": {
        "name": "ipython",
        "version": 3
      },
      "file_extension": ".py",
      "mimetype": "text/x-python",
      "name": "python",
      "nbconvert_exporter": "python",
      "pygments_lexer": "ipython3",
      "version": "3.12.3"
    }
  },
  "nbformat": 4,
  "nbformat_minor": 5
}