{
  "cells": [
    {
      "cell_type": "markdown",
      "id": "4d5cd462-0ddc-48c0-848c-bc46be0af9fd",
      "metadata": {
        "editable": true,
        "id": "4d5cd462-0ddc-48c0-848c-bc46be0af9fd",
        "tags": []
      },
      "source": [
        "# 第4章: 言語解析\n",
        "\n",
        "問題30から問題35までは、以下の文章`text`（太宰治の『走れメロス』の冒頭部分）に対して、言語解析を実施せよ。問題36から問題39までは、国家を説明した文書群（日本語版ウィキペディア記事から抽出したテキスト群）をコーパスとして、言語解析を実施せよ。"
      ]
    },
    {
      "cell_type": "code",
      "execution_count": 18,
      "id": "7e6766b0-630b-4b78-8312-27e6f8104e7b",
      "metadata": {
        "editable": true,
        "id": "7e6766b0-630b-4b78-8312-27e6f8104e7b",
        "tags": [],
        "outputId": "ed5a1351-3735-4750-9665-8d068b01e8e9",
        "colab": {
          "base_uri": "https://localhost:8080/"
        }
      },
      "outputs": [
        {
          "output_type": "stream",
          "name": "stdout",
          "text": [
            "Requirement already satisfied: mecab-python3 in /usr/local/lib/python3.11/dist-packages (1.0.10)\n",
            "Requirement already satisfied: ipadic in /usr/local/lib/python3.11/dist-packages (1.0.0)\n",
            "Requirement already satisfied: spacy in /usr/local/lib/python3.11/dist-packages (3.8.5)\n",
            "Requirement already satisfied: spacy-legacy<3.1.0,>=3.0.11 in /usr/local/lib/python3.11/dist-packages (from spacy) (3.0.12)\n",
            "Requirement already satisfied: spacy-loggers<2.0.0,>=1.0.0 in /usr/local/lib/python3.11/dist-packages (from spacy) (1.0.5)\n",
            "Requirement already satisfied: murmurhash<1.1.0,>=0.28.0 in /usr/local/lib/python3.11/dist-packages (from spacy) (1.0.12)\n",
            "Requirement already satisfied: cymem<2.1.0,>=2.0.2 in /usr/local/lib/python3.11/dist-packages (from spacy) (2.0.11)\n",
            "Requirement already satisfied: preshed<3.1.0,>=3.0.2 in /usr/local/lib/python3.11/dist-packages (from spacy) (3.0.9)\n",
            "Requirement already satisfied: thinc<8.4.0,>=8.3.4 in /usr/local/lib/python3.11/dist-packages (from spacy) (8.3.6)\n",
            "Requirement already satisfied: wasabi<1.2.0,>=0.9.1 in /usr/local/lib/python3.11/dist-packages (from spacy) (1.1.3)\n",
            "Requirement already satisfied: srsly<3.0.0,>=2.4.3 in /usr/local/lib/python3.11/dist-packages (from spacy) (2.5.1)\n",
            "Requirement already satisfied: catalogue<2.1.0,>=2.0.6 in /usr/local/lib/python3.11/dist-packages (from spacy) (2.0.10)\n",
            "Requirement already satisfied: weasel<0.5.0,>=0.1.0 in /usr/local/lib/python3.11/dist-packages (from spacy) (0.4.1)\n",
            "Requirement already satisfied: typer<1.0.0,>=0.3.0 in /usr/local/lib/python3.11/dist-packages (from spacy) (0.15.3)\n",
            "Requirement already satisfied: tqdm<5.0.0,>=4.38.0 in /usr/local/lib/python3.11/dist-packages (from spacy) (4.67.1)\n",
            "Requirement already satisfied: numpy>=1.19.0 in /usr/local/lib/python3.11/dist-packages (from spacy) (2.0.2)\n",
            "Requirement already satisfied: requests<3.0.0,>=2.13.0 in /usr/local/lib/python3.11/dist-packages (from spacy) (2.32.3)\n",
            "Requirement already satisfied: pydantic!=1.8,!=1.8.1,<3.0.0,>=1.7.4 in /usr/local/lib/python3.11/dist-packages (from spacy) (2.11.3)\n",
            "Requirement already satisfied: jinja2 in /usr/local/lib/python3.11/dist-packages (from spacy) (3.1.6)\n",
            "Requirement already satisfied: setuptools in /usr/local/lib/python3.11/dist-packages (from spacy) (75.2.0)\n",
            "Requirement already satisfied: packaging>=20.0 in /usr/local/lib/python3.11/dist-packages (from spacy) (24.2)\n",
            "Requirement already satisfied: langcodes<4.0.0,>=3.2.0 in /usr/local/lib/python3.11/dist-packages (from spacy) (3.5.0)\n",
            "Requirement already satisfied: language-data>=1.2 in /usr/local/lib/python3.11/dist-packages (from langcodes<4.0.0,>=3.2.0->spacy) (1.3.0)\n",
            "Requirement already satisfied: annotated-types>=0.6.0 in /usr/local/lib/python3.11/dist-packages (from pydantic!=1.8,!=1.8.1,<3.0.0,>=1.7.4->spacy) (0.7.0)\n",
            "Requirement already satisfied: pydantic-core==2.33.1 in /usr/local/lib/python3.11/dist-packages (from pydantic!=1.8,!=1.8.1,<3.0.0,>=1.7.4->spacy) (2.33.1)\n",
            "Requirement already satisfied: typing-extensions>=4.12.2 in /usr/local/lib/python3.11/dist-packages (from pydantic!=1.8,!=1.8.1,<3.0.0,>=1.7.4->spacy) (4.13.2)\n",
            "Requirement already satisfied: typing-inspection>=0.4.0 in /usr/local/lib/python3.11/dist-packages (from pydantic!=1.8,!=1.8.1,<3.0.0,>=1.7.4->spacy) (0.4.0)\n",
            "Requirement already satisfied: charset-normalizer<4,>=2 in /usr/local/lib/python3.11/dist-packages (from requests<3.0.0,>=2.13.0->spacy) (3.4.1)\n",
            "Requirement already satisfied: idna<4,>=2.5 in /usr/local/lib/python3.11/dist-packages (from requests<3.0.0,>=2.13.0->spacy) (3.10)\n",
            "Requirement already satisfied: urllib3<3,>=1.21.1 in /usr/local/lib/python3.11/dist-packages (from requests<3.0.0,>=2.13.0->spacy) (2.4.0)\n",
            "Requirement already satisfied: certifi>=2017.4.17 in /usr/local/lib/python3.11/dist-packages (from requests<3.0.0,>=2.13.0->spacy) (2025.4.26)\n",
            "Requirement already satisfied: blis<1.4.0,>=1.3.0 in /usr/local/lib/python3.11/dist-packages (from thinc<8.4.0,>=8.3.4->spacy) (1.3.0)\n",
            "Requirement already satisfied: confection<1.0.0,>=0.0.1 in /usr/local/lib/python3.11/dist-packages (from thinc<8.4.0,>=8.3.4->spacy) (0.1.5)\n",
            "Requirement already satisfied: click>=8.0.0 in /usr/local/lib/python3.11/dist-packages (from typer<1.0.0,>=0.3.0->spacy) (8.1.8)\n",
            "Requirement already satisfied: shellingham>=1.3.0 in /usr/local/lib/python3.11/dist-packages (from typer<1.0.0,>=0.3.0->spacy) (1.5.4)\n",
            "Requirement already satisfied: rich>=10.11.0 in /usr/local/lib/python3.11/dist-packages (from typer<1.0.0,>=0.3.0->spacy) (13.9.4)\n",
            "Requirement already satisfied: cloudpathlib<1.0.0,>=0.7.0 in /usr/local/lib/python3.11/dist-packages (from weasel<0.5.0,>=0.1.0->spacy) (0.21.0)\n",
            "Requirement already satisfied: smart-open<8.0.0,>=5.2.1 in /usr/local/lib/python3.11/dist-packages (from weasel<0.5.0,>=0.1.0->spacy) (7.1.0)\n",
            "Requirement already satisfied: MarkupSafe>=2.0 in /usr/local/lib/python3.11/dist-packages (from jinja2->spacy) (3.0.2)\n",
            "Requirement already satisfied: marisa-trie>=1.1.0 in /usr/local/lib/python3.11/dist-packages (from language-data>=1.2->langcodes<4.0.0,>=3.2.0->spacy) (1.2.1)\n",
            "Requirement already satisfied: markdown-it-py>=2.2.0 in /usr/local/lib/python3.11/dist-packages (from rich>=10.11.0->typer<1.0.0,>=0.3.0->spacy) (3.0.0)\n",
            "Requirement already satisfied: pygments<3.0.0,>=2.13.0 in /usr/local/lib/python3.11/dist-packages (from rich>=10.11.0->typer<1.0.0,>=0.3.0->spacy) (2.19.1)\n",
            "Requirement already satisfied: wrapt in /usr/local/lib/python3.11/dist-packages (from smart-open<8.0.0,>=5.2.1->weasel<0.5.0,>=0.1.0->spacy) (1.17.2)\n",
            "Requirement already satisfied: mdurl~=0.1 in /usr/local/lib/python3.11/dist-packages (from markdown-it-py>=2.2.0->rich>=10.11.0->typer<1.0.0,>=0.3.0->spacy) (0.1.2)\n",
            "Requirement already satisfied: ja_ginza in /usr/local/lib/python3.11/dist-packages (5.2.0)\n",
            "Requirement already satisfied: spacy<4.0.0,>=3.4.4 in /usr/local/lib/python3.11/dist-packages (from ja_ginza) (3.8.5)\n",
            "Requirement already satisfied: sudachipy<0.7.0,>=0.6.2 in /usr/local/lib/python3.11/dist-packages (from ja_ginza) (0.6.10)\n",
            "Requirement already satisfied: sudachidict-core>=20210802 in /usr/local/lib/python3.11/dist-packages (from ja_ginza) (20250129)\n",
            "Requirement already satisfied: ginza<5.3.0,>=5.2.0 in /usr/local/lib/python3.11/dist-packages (from ja_ginza) (5.2.0)\n",
            "Requirement already satisfied: plac>=1.3.3 in /usr/local/lib/python3.11/dist-packages (from ginza<5.3.0,>=5.2.0->ja_ginza) (1.4.5)\n",
            "Requirement already satisfied: spacy-legacy<3.1.0,>=3.0.11 in /usr/local/lib/python3.11/dist-packages (from spacy<4.0.0,>=3.4.4->ja_ginza) (3.0.12)\n",
            "Requirement already satisfied: spacy-loggers<2.0.0,>=1.0.0 in /usr/local/lib/python3.11/dist-packages (from spacy<4.0.0,>=3.4.4->ja_ginza) (1.0.5)\n",
            "Requirement already satisfied: murmurhash<1.1.0,>=0.28.0 in /usr/local/lib/python3.11/dist-packages (from spacy<4.0.0,>=3.4.4->ja_ginza) (1.0.12)\n",
            "Requirement already satisfied: cymem<2.1.0,>=2.0.2 in /usr/local/lib/python3.11/dist-packages (from spacy<4.0.0,>=3.4.4->ja_ginza) (2.0.11)\n",
            "Requirement already satisfied: preshed<3.1.0,>=3.0.2 in /usr/local/lib/python3.11/dist-packages (from spacy<4.0.0,>=3.4.4->ja_ginza) (3.0.9)\n",
            "Requirement already satisfied: thinc<8.4.0,>=8.3.4 in /usr/local/lib/python3.11/dist-packages (from spacy<4.0.0,>=3.4.4->ja_ginza) (8.3.6)\n",
            "Requirement already satisfied: wasabi<1.2.0,>=0.9.1 in /usr/local/lib/python3.11/dist-packages (from spacy<4.0.0,>=3.4.4->ja_ginza) (1.1.3)\n",
            "Requirement already satisfied: srsly<3.0.0,>=2.4.3 in /usr/local/lib/python3.11/dist-packages (from spacy<4.0.0,>=3.4.4->ja_ginza) (2.5.1)\n",
            "Requirement already satisfied: catalogue<2.1.0,>=2.0.6 in /usr/local/lib/python3.11/dist-packages (from spacy<4.0.0,>=3.4.4->ja_ginza) (2.0.10)\n",
            "Requirement already satisfied: weasel<0.5.0,>=0.1.0 in /usr/local/lib/python3.11/dist-packages (from spacy<4.0.0,>=3.4.4->ja_ginza) (0.4.1)\n",
            "Requirement already satisfied: typer<1.0.0,>=0.3.0 in /usr/local/lib/python3.11/dist-packages (from spacy<4.0.0,>=3.4.4->ja_ginza) (0.15.3)\n",
            "Requirement already satisfied: tqdm<5.0.0,>=4.38.0 in /usr/local/lib/python3.11/dist-packages (from spacy<4.0.0,>=3.4.4->ja_ginza) (4.67.1)\n",
            "Requirement already satisfied: numpy>=1.19.0 in /usr/local/lib/python3.11/dist-packages (from spacy<4.0.0,>=3.4.4->ja_ginza) (2.0.2)\n",
            "Requirement already satisfied: requests<3.0.0,>=2.13.0 in /usr/local/lib/python3.11/dist-packages (from spacy<4.0.0,>=3.4.4->ja_ginza) (2.32.3)\n",
            "Requirement already satisfied: pydantic!=1.8,!=1.8.1,<3.0.0,>=1.7.4 in /usr/local/lib/python3.11/dist-packages (from spacy<4.0.0,>=3.4.4->ja_ginza) (2.11.3)\n",
            "Requirement already satisfied: jinja2 in /usr/local/lib/python3.11/dist-packages (from spacy<4.0.0,>=3.4.4->ja_ginza) (3.1.6)\n",
            "Requirement already satisfied: setuptools in /usr/local/lib/python3.11/dist-packages (from spacy<4.0.0,>=3.4.4->ja_ginza) (75.2.0)\n",
            "Requirement already satisfied: packaging>=20.0 in /usr/local/lib/python3.11/dist-packages (from spacy<4.0.0,>=3.4.4->ja_ginza) (24.2)\n",
            "Requirement already satisfied: langcodes<4.0.0,>=3.2.0 in /usr/local/lib/python3.11/dist-packages (from spacy<4.0.0,>=3.4.4->ja_ginza) (3.5.0)\n",
            "Requirement already satisfied: language-data>=1.2 in /usr/local/lib/python3.11/dist-packages (from langcodes<4.0.0,>=3.2.0->spacy<4.0.0,>=3.4.4->ja_ginza) (1.3.0)\n",
            "Requirement already satisfied: annotated-types>=0.6.0 in /usr/local/lib/python3.11/dist-packages (from pydantic!=1.8,!=1.8.1,<3.0.0,>=1.7.4->spacy<4.0.0,>=3.4.4->ja_ginza) (0.7.0)\n",
            "Requirement already satisfied: pydantic-core==2.33.1 in /usr/local/lib/python3.11/dist-packages (from pydantic!=1.8,!=1.8.1,<3.0.0,>=1.7.4->spacy<4.0.0,>=3.4.4->ja_ginza) (2.33.1)\n",
            "Requirement already satisfied: typing-extensions>=4.12.2 in /usr/local/lib/python3.11/dist-packages (from pydantic!=1.8,!=1.8.1,<3.0.0,>=1.7.4->spacy<4.0.0,>=3.4.4->ja_ginza) (4.13.2)\n",
            "Requirement already satisfied: typing-inspection>=0.4.0 in /usr/local/lib/python3.11/dist-packages (from pydantic!=1.8,!=1.8.1,<3.0.0,>=1.7.4->spacy<4.0.0,>=3.4.4->ja_ginza) (0.4.0)\n",
            "Requirement already satisfied: charset-normalizer<4,>=2 in /usr/local/lib/python3.11/dist-packages (from requests<3.0.0,>=2.13.0->spacy<4.0.0,>=3.4.4->ja_ginza) (3.4.1)\n",
            "Requirement already satisfied: idna<4,>=2.5 in /usr/local/lib/python3.11/dist-packages (from requests<3.0.0,>=2.13.0->spacy<4.0.0,>=3.4.4->ja_ginza) (3.10)\n",
            "Requirement already satisfied: urllib3<3,>=1.21.1 in /usr/local/lib/python3.11/dist-packages (from requests<3.0.0,>=2.13.0->spacy<4.0.0,>=3.4.4->ja_ginza) (2.4.0)\n",
            "Requirement already satisfied: certifi>=2017.4.17 in /usr/local/lib/python3.11/dist-packages (from requests<3.0.0,>=2.13.0->spacy<4.0.0,>=3.4.4->ja_ginza) (2025.4.26)\n",
            "Requirement already satisfied: blis<1.4.0,>=1.3.0 in /usr/local/lib/python3.11/dist-packages (from thinc<8.4.0,>=8.3.4->spacy<4.0.0,>=3.4.4->ja_ginza) (1.3.0)\n",
            "Requirement already satisfied: confection<1.0.0,>=0.0.1 in /usr/local/lib/python3.11/dist-packages (from thinc<8.4.0,>=8.3.4->spacy<4.0.0,>=3.4.4->ja_ginza) (0.1.5)\n",
            "Requirement already satisfied: click>=8.0.0 in /usr/local/lib/python3.11/dist-packages (from typer<1.0.0,>=0.3.0->spacy<4.0.0,>=3.4.4->ja_ginza) (8.1.8)\n",
            "Requirement already satisfied: shellingham>=1.3.0 in /usr/local/lib/python3.11/dist-packages (from typer<1.0.0,>=0.3.0->spacy<4.0.0,>=3.4.4->ja_ginza) (1.5.4)\n",
            "Requirement already satisfied: rich>=10.11.0 in /usr/local/lib/python3.11/dist-packages (from typer<1.0.0,>=0.3.0->spacy<4.0.0,>=3.4.4->ja_ginza) (13.9.4)\n",
            "Requirement already satisfied: cloudpathlib<1.0.0,>=0.7.0 in /usr/local/lib/python3.11/dist-packages (from weasel<0.5.0,>=0.1.0->spacy<4.0.0,>=3.4.4->ja_ginza) (0.21.0)\n",
            "Requirement already satisfied: smart-open<8.0.0,>=5.2.1 in /usr/local/lib/python3.11/dist-packages (from weasel<0.5.0,>=0.1.0->spacy<4.0.0,>=3.4.4->ja_ginza) (7.1.0)\n",
            "Requirement already satisfied: MarkupSafe>=2.0 in /usr/local/lib/python3.11/dist-packages (from jinja2->spacy<4.0.0,>=3.4.4->ja_ginza) (3.0.2)\n",
            "Requirement already satisfied: marisa-trie>=1.1.0 in /usr/local/lib/python3.11/dist-packages (from language-data>=1.2->langcodes<4.0.0,>=3.2.0->spacy<4.0.0,>=3.4.4->ja_ginza) (1.2.1)\n",
            "Requirement already satisfied: markdown-it-py>=2.2.0 in /usr/local/lib/python3.11/dist-packages (from rich>=10.11.0->typer<1.0.0,>=0.3.0->spacy<4.0.0,>=3.4.4->ja_ginza) (3.0.0)\n",
            "Requirement already satisfied: pygments<3.0.0,>=2.13.0 in /usr/local/lib/python3.11/dist-packages (from rich>=10.11.0->typer<1.0.0,>=0.3.0->spacy<4.0.0,>=3.4.4->ja_ginza) (2.19.1)\n",
            "Requirement already satisfied: wrapt in /usr/local/lib/python3.11/dist-packages (from smart-open<8.0.0,>=5.2.1->weasel<0.5.0,>=0.1.0->spacy<4.0.0,>=3.4.4->ja_ginza) (1.17.2)\n",
            "Requirement already satisfied: mdurl~=0.1 in /usr/local/lib/python3.11/dist-packages (from markdown-it-py>=2.2.0->rich>=10.11.0->typer<1.0.0,>=0.3.0->spacy<4.0.0,>=3.4.4->ja_ginza) (0.1.2)\n"
          ]
        }
      ],
      "source": [
        "text = \"\"\"\n",
        "メロスは激怒した。\n",
        "必ず、かの邪智暴虐の王を除かなければならぬと決意した。\n",
        "メロスには政治がわからぬ。\n",
        "メロスは、村の牧人である。\n",
        "笛を吹き、羊と遊んで暮して来た。\n",
        "けれども邪悪に対しては、人一倍に敏感であった。\n",
        "\"\"\"\n",
        "\n",
        "!pip install mecab-python3\n",
        "\n",
        "!pip install ipadic\n",
        "\n",
        "!pip install spacy\n",
        "!pip install -U ja_ginza"
      ]
    },
    {
      "cell_type": "markdown",
      "id": "80e3790d-077d-453a-b981-964f609fc4be",
      "metadata": {
        "id": "80e3790d-077d-453a-b981-964f609fc4be"
      },
      "source": [
        "## 30. 動詞\n",
        "文章`text`に含まれる動詞をすべて表示せよ。"
      ]
    },
    {
      "cell_type": "code",
      "source": [
        "import MeCab\n",
        "import ipadic\n",
        "\n",
        "mecab=MeCab.Tagger(ipadic.MECAB_ARGS)\n",
        "node=mecab.parseToNode(text)\n",
        "while node:\n",
        "  if node.feature.split(\",\")[0]==\"動詞\":\n",
        "    print(node.surface)\n",
        "  node=node.next"
      ],
      "metadata": {
        "id": "1lEenK6euIOV",
        "outputId": "a83435c3-7264-488d-e317-4e3f86896700",
        "colab": {
          "base_uri": "https://localhost:8080/"
        }
      },
      "id": "1lEenK6euIOV",
      "execution_count": 25,
      "outputs": [
        {
          "output_type": "stream",
          "name": "stdout",
          "text": [
            "し\n",
            "除か\n",
            "なら\n",
            "し\n",
            "わから\n",
            "吹き\n",
            "遊ん\n",
            "暮し\n",
            "来\n"
          ]
        }
      ]
    },
    {
      "cell_type": "markdown",
      "id": "5fd1d613-8375-4837-b534-a01451eddf98",
      "metadata": {
        "id": "5fd1d613-8375-4837-b534-a01451eddf98"
      },
      "source": [
        "## 31. 動詞の原型\n",
        "文章`text`に含まれる動詞と、その原型をすべて表示せよ。"
      ]
    },
    {
      "cell_type": "code",
      "source": [
        "mecab=MeCab.Tagger(ipadic.MECAB_ARGS)\n",
        "node=mecab.parseToNode(text)\n",
        "while node:\n",
        "  f=node.feature.split(\",\")\n",
        "  if f[0]==\"動詞\":\n",
        "    print(f\"動詞:{node.surface}\\t原型:{f[6]}\")\n",
        "  node=node.next"
      ],
      "metadata": {
        "id": "sPeTAiT40uvZ",
        "outputId": "28b9591a-098b-4c52-9f76-d0f55047d475",
        "colab": {
          "base_uri": "https://localhost:8080/"
        }
      },
      "id": "sPeTAiT40uvZ",
      "execution_count": 24,
      "outputs": [
        {
          "output_type": "stream",
          "name": "stdout",
          "text": [
            "動詞:し\t原型:する\n",
            "動詞:除か\t原型:除く\n",
            "動詞:なら\t原型:なる\n",
            "動詞:し\t原型:する\n",
            "動詞:わから\t原型:わかる\n",
            "動詞:吹き\t原型:吹く\n",
            "動詞:遊ん\t原型:遊ぶ\n",
            "動詞:暮し\t原型:暮す\n",
            "動詞:来\t原型:来る\n"
          ]
        }
      ]
    },
    {
      "cell_type": "markdown",
      "id": "34558343-a286-429b-b3ee-b1e6b3ca4561",
      "metadata": {
        "id": "34558343-a286-429b-b3ee-b1e6b3ca4561"
      },
      "source": [
        "## 32. 「AのB」\n",
        "文章`text`において、2つの名詞が「の」で連結されている名詞句をすべて抽出せよ。"
      ]
    },
    {
      "cell_type": "code",
      "source": [
        "mecab=MeCab.Tagger(ipadic.MECAB_ARGS)\n",
        "node=mecab.parseToNode(text)\n",
        "token=[]\n",
        "while node:\n",
        "  f=node.feature.split(\",\")\n",
        "  token.append((node.surface,f[0]))\n",
        "  node=node.next\n",
        "\n",
        "for i in range(len(token)-2):\n",
        "  if token[i][1]==\"名詞\" and token[i+1][0]==\"の\" and token[i+2][1]==\"名詞\":\n",
        "    print(token[i][0]+token[i+1][0]+token[i+2][0])"
      ],
      "metadata": {
        "id": "6rPHDHzv4Kg1",
        "outputId": "5b5dcd0d-d2db-418f-a081-3249651fa899",
        "colab": {
          "base_uri": "https://localhost:8080/"
        }
      },
      "id": "6rPHDHzv4Kg1",
      "execution_count": 23,
      "outputs": [
        {
          "output_type": "stream",
          "name": "stdout",
          "text": [
            "暴虐の王\n",
            "村の牧人\n"
          ]
        }
      ]
    },
    {
      "cell_type": "markdown",
      "id": "7cac9c74-cd83-42d3-8cde-a4a0f4200094",
      "metadata": {
        "id": "7cac9c74-cd83-42d3-8cde-a4a0f4200094"
      },
      "source": [
        "## 33. 係り受け解析\n",
        "\n",
        "文章`text`に係り受け解析を適用し、係り元と係り先のトークン（形態素や文節などの単位）をタブ区切り形式ですべて抽出せよ。"
      ]
    },
    {
      "cell_type": "code",
      "source": [
        "import ginza\n",
        "import spacy\n",
        "\n",
        "nlp = spacy.load(\"ja_ginza\")\n",
        "doc = nlp(text)\n",
        "for token in doc:\n",
        "  print(f\"係り元:{token.text}\\t係り先:{token.head.text}\")"
      ],
      "metadata": {
        "id": "cEzQhKX29r21",
        "outputId": "adf174dc-a4c5-4c49-adeb-099b6ff3eaee",
        "colab": {
          "base_uri": "https://localhost:8080/"
        }
      },
      "id": "cEzQhKX29r21",
      "execution_count": null,
      "outputs": [
        {
          "output_type": "stream",
          "name": "stdout",
          "text": [
            "係り元:\n",
            "\t係り先:メロス\n",
            "係り元:メロス\t係り先:激怒\n",
            "係り元:は\t係り先:メロス\n",
            "係り元:激怒\t係り先:激怒\n",
            "係り元:し\t係り先:激怒\n",
            "係り元:た\t係り先:激怒\n",
            "係り元:。\t係り先:激怒\n",
            "係り元:\n",
            "\t係り先:\n",
            "\n",
            "係り元:必ず\t係り先:除か\n",
            "係り元:、\t係り先:必ず\n",
            "係り元:かの\t係り先:暴虐\n",
            "係り元:邪智\t係り先:暴虐\n",
            "係り元:暴虐\t係り先:王\n",
            "係り元:の\t係り先:暴虐\n",
            "係り元:王\t係り先:除か\n",
            "係り元:を\t係り先:王\n",
            "係り元:除か\t係り先:決意\n",
            "係り元:なけれ\t係り先:除か\n",
            "係り元:ば\t係り先:なけれ\n",
            "係り元:なら\t係り先:なけれ\n",
            "係り元:ぬ\t係り先:なけれ\n",
            "係り元:と\t係り先:除か\n",
            "係り元:決意\t係り先:決意\n",
            "係り元:し\t係り先:決意\n",
            "係り元:た\t係り先:決意\n",
            "係り元:。\t係り先:決意\n",
            "係り元:\n",
            "\t係り先:メロス\n",
            "係り元:メロス\t係り先:わから\n",
            "係り元:に\t係り先:メロス\n",
            "係り元:は\t係り先:メロス\n",
            "係り元:政治\t係り先:わから\n",
            "係り元:が\t係り先:政治\n",
            "係り元:わから\t係り先:わから\n",
            "係り元:ぬ\t係り先:わから\n",
            "係り元:。\t係り先:わから\n",
            "係り元:\n",
            "\t係り先:メロス\n",
            "係り元:メロス\t係り先:牧人\n",
            "係り元:は\t係り先:メロス\n",
            "係り元:、\t係り先:メロス\n",
            "係り元:村\t係り先:牧人\n",
            "係り元:の\t係り先:村\n",
            "係り元:牧人\t係り先:牧人\n",
            "係り元:で\t係り先:牧人\n",
            "係り元:ある\t係り先:で\n",
            "係り元:。\t係り先:牧人\n",
            "係り元:\n",
            "\t係り先:笛\n",
            "係り元:笛\t係り先:吹き\n",
            "係り元:を\t係り先:笛\n",
            "係り元:吹き\t係り先:暮し\n",
            "係り元:、\t係り先:吹き\n",
            "係り元:羊\t係り先:遊ん\n",
            "係り元:と\t係り先:羊\n",
            "係り元:遊ん\t係り先:暮し\n",
            "係り元:で\t係り先:遊ん\n",
            "係り元:暮し\t係り先:暮し\n",
            "係り元:て\t係り先:暮し\n",
            "係り元:来\t係り先:て\n",
            "係り元:た\t係り先:暮し\n",
            "係り元:。\t係り先:暮し\n",
            "係り元:\n",
            "\t係り先:邪悪\n",
            "係り元:けれど\t係り先:\n",
            "\n",
            "係り元:も\t係り先:\n",
            "\n",
            "係り元:邪悪\t係り先:敏感\n",
            "係り元:に\t係り先:邪悪\n",
            "係り元:対し\t係り先:に\n",
            "係り元:ては\t係り先:に\n",
            "係り元:、\t係り先:邪悪\n",
            "係り元:人\t係り先:倍\n",
            "係り元:一\t係り先:倍\n",
            "係り元:倍\t係り先:敏感\n",
            "係り元:に\t係り先:倍\n",
            "係り元:敏感\t係り先:敏感\n",
            "係り元:で\t係り先:敏感\n",
            "係り元:あっ\t係り先:で\n",
            "係り元:た\t係り先:敏感\n",
            "係り元:。\t係り先:敏感\n",
            "係り元:\n",
            "\t係り先:\n",
            "\n"
          ]
        }
      ]
    },
    {
      "cell_type": "markdown",
      "id": "eb49b4d2-9869-4f43-9cd8-9e79e0c1b40f",
      "metadata": {
        "id": "eb49b4d2-9869-4f43-9cd8-9e79e0c1b40f"
      },
      "source": [
        "## 34. 主述の関係\n",
        "文章`text`において、「メロス」が主語であるときの述語を抽出せよ。"
      ]
    },
    {
      "cell_type": "code",
      "source": [
        "nlp = spacy.load(\"ja_ginza\")\n",
        "doc = nlp(text)\n",
        "for token in doc:\n",
        "  if token.dep_==\"nsubj\" and token.text==\"メロス\":\n",
        "    print(f\"主語:{token.text}\\t述語:{token.head.text}\")"
      ],
      "metadata": {
        "id": "IWeT7K61KVPj",
        "outputId": "3ac0017c-4138-4b79-803d-9ae170913235",
        "colab": {
          "base_uri": "https://localhost:8080/"
        }
      },
      "id": "IWeT7K61KVPj",
      "execution_count": null,
      "outputs": [
        {
          "output_type": "stream",
          "name": "stdout",
          "text": [
            "主語:メロス\t述語:激怒\n",
            "主語:メロス\t述語:牧人\n"
          ]
        }
      ]
    },
    {
      "cell_type": "markdown",
      "id": "ec8ba153-85e7-4cbe-bcc0-bb659409d494",
      "metadata": {
        "id": "ec8ba153-85e7-4cbe-bcc0-bb659409d494"
      },
      "source": [
        "## 35. 係り受け木\n",
        "「メロスは激怒した。」の係り受け木を可視化せよ。"
      ]
    },
    {
      "cell_type": "code",
      "source": [
        "from spacy import displacy\n",
        "\n",
        "nlp = spacy.load(\"ja_ginza\")\n",
        "doc = nlp(\"メロスは激怒した。\")\n",
        "displacy.render(doc,style=\"dep\",jupyter=True)"
      ],
      "metadata": {
        "id": "Csk6AiRuM1dM",
        "outputId": "384b42e1-ffaf-4ceb-d2bd-0e22222c3fe4",
        "colab": {
          "base_uri": "https://localhost:8080/",
          "height": 333
        }
      },
      "id": "Csk6AiRuM1dM",
      "execution_count": null,
      "outputs": [
        {
          "output_type": "display_data",
          "data": {
            "text/plain": [
              "<IPython.core.display.HTML object>"
            ],
            "text/html": [
              "<span class=\"tex2jax_ignore\"><svg xmlns=\"http://www.w3.org/2000/svg\" xmlns:xlink=\"http://www.w3.org/1999/xlink\" xml:lang=\"ja\" id=\"cedd5d06b8394898941337fc4708269d-0\" class=\"displacy\" width=\"925\" height=\"312.0\" direction=\"ltr\" style=\"max-width: none; height: 312.0px; color: #000000; background: #ffffff; font-family: Arial; direction: ltr\">\n",
              "<text class=\"displacy-token\" fill=\"currentColor\" text-anchor=\"middle\" y=\"222.0\">\n",
              "    <tspan class=\"displacy-word\" fill=\"currentColor\" x=\"50\">メロス</tspan>\n",
              "    <tspan class=\"displacy-tag\" dy=\"2em\" fill=\"currentColor\" x=\"50\">PROPN</tspan>\n",
              "</text>\n",
              "\n",
              "<text class=\"displacy-token\" fill=\"currentColor\" text-anchor=\"middle\" y=\"222.0\">\n",
              "    <tspan class=\"displacy-word\" fill=\"currentColor\" x=\"225\">は</tspan>\n",
              "    <tspan class=\"displacy-tag\" dy=\"2em\" fill=\"currentColor\" x=\"225\">ADP</tspan>\n",
              "</text>\n",
              "\n",
              "<text class=\"displacy-token\" fill=\"currentColor\" text-anchor=\"middle\" y=\"222.0\">\n",
              "    <tspan class=\"displacy-word\" fill=\"currentColor\" x=\"400\">激怒</tspan>\n",
              "    <tspan class=\"displacy-tag\" dy=\"2em\" fill=\"currentColor\" x=\"400\">VERB</tspan>\n",
              "</text>\n",
              "\n",
              "<text class=\"displacy-token\" fill=\"currentColor\" text-anchor=\"middle\" y=\"222.0\">\n",
              "    <tspan class=\"displacy-word\" fill=\"currentColor\" x=\"575\">し</tspan>\n",
              "    <tspan class=\"displacy-tag\" dy=\"2em\" fill=\"currentColor\" x=\"575\">AUX</tspan>\n",
              "</text>\n",
              "\n",
              "<text class=\"displacy-token\" fill=\"currentColor\" text-anchor=\"middle\" y=\"222.0\">\n",
              "    <tspan class=\"displacy-word\" fill=\"currentColor\" x=\"750\">た。</tspan>\n",
              "    <tspan class=\"displacy-tag\" dy=\"2em\" fill=\"currentColor\" x=\"750\">AUX</tspan>\n",
              "</text>\n",
              "\n",
              "<g class=\"displacy-arrow\">\n",
              "    <path class=\"displacy-arc\" id=\"arrow-cedd5d06b8394898941337fc4708269d-0-0\" stroke-width=\"2px\" d=\"M70,177.0 C70,2.0 400.0,2.0 400.0,177.0\" fill=\"none\" stroke=\"currentColor\"/>\n",
              "    <text dy=\"1.25em\" style=\"font-size: 0.8em; letter-spacing: 1px\">\n",
              "        <textPath xlink:href=\"#arrow-cedd5d06b8394898941337fc4708269d-0-0\" class=\"displacy-label\" startOffset=\"50%\" side=\"left\" fill=\"currentColor\" text-anchor=\"middle\">nsubj</textPath>\n",
              "    </text>\n",
              "    <path class=\"displacy-arrowhead\" d=\"M70,179.0 L62,167.0 78,167.0\" fill=\"currentColor\"/>\n",
              "</g>\n",
              "\n",
              "<g class=\"displacy-arrow\">\n",
              "    <path class=\"displacy-arc\" id=\"arrow-cedd5d06b8394898941337fc4708269d-0-1\" stroke-width=\"2px\" d=\"M70,177.0 C70,89.5 220.0,89.5 220.0,177.0\" fill=\"none\" stroke=\"currentColor\"/>\n",
              "    <text dy=\"1.25em\" style=\"font-size: 0.8em; letter-spacing: 1px\">\n",
              "        <textPath xlink:href=\"#arrow-cedd5d06b8394898941337fc4708269d-0-1\" class=\"displacy-label\" startOffset=\"50%\" side=\"left\" fill=\"currentColor\" text-anchor=\"middle\">case</textPath>\n",
              "    </text>\n",
              "    <path class=\"displacy-arrowhead\" d=\"M220.0,179.0 L228.0,167.0 212.0,167.0\" fill=\"currentColor\"/>\n",
              "</g>\n",
              "\n",
              "<g class=\"displacy-arrow\">\n",
              "    <path class=\"displacy-arc\" id=\"arrow-cedd5d06b8394898941337fc4708269d-0-2\" stroke-width=\"2px\" d=\"M420,177.0 C420,89.5 570.0,89.5 570.0,177.0\" fill=\"none\" stroke=\"currentColor\"/>\n",
              "    <text dy=\"1.25em\" style=\"font-size: 0.8em; letter-spacing: 1px\">\n",
              "        <textPath xlink:href=\"#arrow-cedd5d06b8394898941337fc4708269d-0-2\" class=\"displacy-label\" startOffset=\"50%\" side=\"left\" fill=\"currentColor\" text-anchor=\"middle\">aux</textPath>\n",
              "    </text>\n",
              "    <path class=\"displacy-arrowhead\" d=\"M570.0,179.0 L578.0,167.0 562.0,167.0\" fill=\"currentColor\"/>\n",
              "</g>\n",
              "\n",
              "<g class=\"displacy-arrow\">\n",
              "    <path class=\"displacy-arc\" id=\"arrow-cedd5d06b8394898941337fc4708269d-0-3\" stroke-width=\"2px\" d=\"M420,177.0 C420,2.0 750.0,2.0 750.0,177.0\" fill=\"none\" stroke=\"currentColor\"/>\n",
              "    <text dy=\"1.25em\" style=\"font-size: 0.8em; letter-spacing: 1px\">\n",
              "        <textPath xlink:href=\"#arrow-cedd5d06b8394898941337fc4708269d-0-3\" class=\"displacy-label\" startOffset=\"50%\" side=\"left\" fill=\"currentColor\" text-anchor=\"middle\">aux</textPath>\n",
              "    </text>\n",
              "    <path class=\"displacy-arrowhead\" d=\"M750.0,179.0 L758.0,167.0 742.0,167.0\" fill=\"currentColor\"/>\n",
              "</g>\n",
              "</svg></span>"
            ]
          },
          "metadata": {}
        }
      ]
    },
    {
      "cell_type": "markdown",
      "id": "b880d760-ea6c-4722-9a65-5b97a02ed192",
      "metadata": {
        "id": "b880d760-ea6c-4722-9a65-5b97a02ed192"
      },
      "source": [
        "## 36. 単語の出現頻度\n",
        "\n",
        "問題36から39までは、Wikipediaの記事を以下のフォーマットで書き出したファイル[jawiki-country.json.gz](/data/jawiki-country.json.gz)をコーパスと見なし、統計的な分析を行う。\n",
        "\n",
        "* 1行に1記事の情報がJSON形式で格納される\n",
        "* 各行には記事名が\"title\"キーに、記事本文が\"text\"キーの辞書オブジェクトに格納され、そのオブジェクトがJSON形式で書き出される\n",
        "* ファイル全体はgzipで圧縮される\n",
        "\n",
        "まず、第3章の処理内容を参考に、Wikipedia記事からマークアップを除去し、各記事のテキストを抽出せよ。そして、コーパスにおける単語（形態素）の出現頻度を求め、出現頻度の高い20語とその出現頻度を表示せよ。"
      ]
    },
    {
      "cell_type": "code",
      "source": [
        "import json\n",
        "import re\n",
        "from collections import Counter\n",
        "\n",
        "with open(\"jawiki-country.json\")as f:\n",
        "  word=[]\n",
        "  for i in f:\n",
        "    data=json.loads(i)\n",
        "    text=data[\"text\"]\n",
        "\n",
        "    text=re.sub(r\"\\'{2,5}\",\"\",text)\n",
        "    text=re.sub(r\"\\[\\[|\\]\\]\",\"\",text)\n",
        "    text=re.sub(r\"<br>|<ref>|<ref/>|</ref>|<br/>|<br />|\\s/>\",\"\",text)\n",
        "\n",
        "    mecab=MeCab.Tagger(ipadic.MECAB_ARGS)\n",
        "    node=mecab.parseToNode(text)\n",
        "\n",
        "    while node:\n",
        "      a=node.feature.split(\",\")\n",
        "      word.append(node.surface)\n",
        "      node=node.next\n",
        "\n",
        "  count=Counter(word)\n",
        "  for word,word_count in count.most_common(20):\n",
        "    print(f\"{word}:{word_count}\")"
      ],
      "metadata": {
        "colab": {
          "base_uri": "https://localhost:8080/"
        },
        "id": "euwj6vfmSFPF",
        "outputId": "3d7c01b9-10c5-45db-af42-2911431c0ab6"
      },
      "id": "euwj6vfmSFPF",
      "execution_count": 52,
      "outputs": [
        {
          "output_type": "stream",
          "name": "stdout",
          "text": [
            "|:98998\n",
            "の:97953\n",
            "、:85467\n",
            "は:52377\n",
            "に:50255\n",
            "。:48806\n",
            "=:45157\n",
            "が:44541\n",
            ".:41192\n",
            "を:39317\n",
            "た:35600\n",
            "で:34468\n",
            "年:30199\n",
            "-:29344\n",
            "/:29247\n",
            "と:28369\n",
            "て:26025\n",
            "し:25590\n",
            "{{:17439\n",
            "）:17364\n"
          ]
        }
      ]
    },
    {
      "cell_type": "markdown",
      "id": "e38bd27c-0644-4468-8b4d-99318b91c0cb",
      "metadata": {
        "id": "e38bd27c-0644-4468-8b4d-99318b91c0cb"
      },
      "source": [
        "## 37. 名詞の出現頻度\n",
        "コーパスにおける名詞の出現頻度を求め、出現頻度の高い20語とその出現頻度を表示せよ。"
      ]
    },
    {
      "cell_type": "code",
      "source": [
        "with open(\"jawiki-country.json\")as f:\n",
        "  word=[]\n",
        "  for i in f:\n",
        "    data=json.loads(i)\n",
        "    text=data[\"text\"]\n",
        "\n",
        "    text=re.sub(r\"\\'{2,5}\",\"\",text)\n",
        "    text=re.sub(r\"\\[\\[|\\]\\]\",\"\",text)\n",
        "    text=re.sub(r\"<br>|<ref>|<ref/>|</ref>|<br/>|<br />|\\s/>\",\"\",text)\n",
        "\n",
        "    mecab=MeCab.Tagger(ipadic.MECAB_ARGS)\n",
        "    node=mecab.parseToNode(text)\n",
        "\n",
        "    while node:\n",
        "      a=node.feature.split(\",\")\n",
        "      if a[0]==\"名詞\":\n",
        "        word.append(node.surface)\n",
        "      node=node.next\n",
        "\n",
        "  count=Counter(word)\n",
        "  for word,word_count in count.most_common(20):\n",
        "    print(f\"{word}:{word_count}\")"
      ],
      "metadata": {
        "id": "v9NXwXJjdLsp",
        "outputId": "d1623ce9-a20a-4c93-8bf8-86ef7da3cb20",
        "colab": {
          "base_uri": "https://localhost:8080/"
        }
      },
      "id": "v9NXwXJjdLsp",
      "execution_count": 51,
      "outputs": [
        {
          "output_type": "stream",
          "name": "stdout",
          "text": [
            "年:30199\n",
            "月:13700\n",
            "1:10720\n",
            "日:10517\n",
            "人:10142\n",
            "2:9636\n",
            "国:9072\n",
            "en:7246\n",
            "www:6142\n",
            "3:6019\n",
            "語:5873\n",
            "http:5699\n",
            "的:5258\n",
            "4:5016\n",
            "世界:4818\n",
            "5:4644\n",
            "こと:4642\n",
            "of:4638\n",
            "リンク:4414\n",
            "ref:4413\n"
          ]
        }
      ]
    },
    {
      "cell_type": "markdown",
      "id": "8a64fda0-5ee3-48ad-9071-f37f805951d3",
      "metadata": {
        "id": "8a64fda0-5ee3-48ad-9071-f37f805951d3"
      },
      "source": [
        "## 38. TF・IDF\n",
        "日本に関する記事における名詞のTF・IDFスコアを求め、TF・IDFスコア上位20語とそのTF, IDF, TF・IDFを表示せよ。"
      ]
    },
    {
      "cell_type": "code",
      "source": [
        "with open(\"jawiki-country.json\")as f:\n",
        "  word=[]\n",
        "  for i in f:\n",
        "    data=json.loads(i)\n",
        "    if data[\"title\"]==\"日本\":\n",
        "      text=data[\"text\"]\n",
        "\n",
        "  text=re.sub(r\"\\'{2,5}\",\"\",text)\n",
        "  text=re.sub(r\"\\[\\[|\\]\\]\",\"\",text)\n",
        "  text=re.sub(r\"<br>|<ref>|<ref/>|</ref>|<br/>|<br />|\\s/>\",\"\",text)\n",
        "\n",
        "  mecab=MeCab.Tagger(ipadic.MECAB_ARGS)\n",
        "  node=mecab.parseToNode(text)\n",
        "\n",
        "  all=0\n",
        "  while node:\n",
        "    a=node.feature.split(\",\")\n",
        "    if a[0]==\"名詞\":\n",
        "      word.append(node.surface)\n",
        "      all+=1\n",
        "    node=node.next\n",
        "\n",
        "  count=Counter(word)\n",
        "  idf=1\n",
        "\n",
        "  for word,word_count in count.most_common(20):\n",
        "    print(f\"単語:{word}\\tTF:{word_count/all}\\tIDF:{idf}\\tTF-IDF:{word_count/all*idf}\")"
      ],
      "metadata": {
        "id": "9PrpNmT5dn6L",
        "outputId": "fbc8becf-598a-4253-908b-4ca6ac8176d7",
        "colab": {
          "base_uri": "https://localhost:8080/"
        }
      },
      "id": "9PrpNmT5dn6L",
      "execution_count": 57,
      "outputs": [
        {
          "output_type": "stream",
          "name": "stdout",
          "text": [
            "単語:日本\tTF:0.022560179565287098\tIDF:1\tTF-IDF:0.022560179565287098\n",
            "単語:年\tTF:0.01992624997137033\tIDF:1\tTF-IDF:0.01992624997137033\n",
            "単語:日\tTF:0.00792469251734958\tIDF:1\tTF-IDF:0.00792469251734958\n",
            "単語:月\tTF:0.007718558896956094\tIDF:1\tTF-IDF:0.007718558896956094\n",
            "単語:2\tTF:0.007649847690158265\tIDF:1\tTF-IDF:0.007649847690158265\n",
            "単語:E\tTF:0.0064130459677973475\tIDF:1\tTF-IDF:0.0064130459677973475\n",
            "単語:国\tTF:0.006344334760999519\tIDF:1\tTF-IDF:0.006344334760999519\n",
            "単語:3\tTF:0.006298527289800966\tIDF:1\tTF-IDF:0.006298527289800966\n",
            "単語:1\tTF:0.00554270401502485\tIDF:1\tTF-IDF:0.00554270401502485\n",
            "単語:的\tTF:0.005290762923432812\tIDF:1\tTF-IDF:0.005290762923432812\n",
            "単語:https\tTF:0.005038821831840773\tIDF:1\tTF-IDF:0.005038821831840773\n",
            "単語:jp\tTF:0.005038821831840773\tIDF:1\tTF-IDF:0.005038821831840773\n",
            "単語:px\tTF:0.00469526579785163\tIDF:1\tTF-IDF:0.00469526579785163\n",
            "単語:web\tTF:0.004443324706259591\tIDF:1\tTF-IDF:0.004443324706259591\n",
            "単語:www\tTF:0.0043975172350610384\tIDF:1\tTF-IDF:0.0043975172350610384\n",
            "単語:県\tTF:0.004374613499461762\tIDF:1\tTF-IDF:0.004374613499461762\n",
            "単語:人\tTF:0.004214287350266828\tIDF:1\tTF-IDF:0.004214287350266828\n",
            "単語:世界\tTF:0.0041455761434689995\tIDF:1\tTF-IDF:0.0041455761434689995\n",
            "単語:7\tTF:0.004031057465472619\tIDF:1\tTF-IDF:0.004031057465472619\n",
            "単語:こと\tTF:0.0037562126382813038\tIDF:1\tTF-IDF:0.0037562126382813038\n"
          ]
        }
      ]
    },
    {
      "cell_type": "markdown",
      "id": "5f3b60e9-5d8e-4c2e-a68d-385c91713113",
      "metadata": {
        "id": "5f3b60e9-5d8e-4c2e-a68d-385c91713113"
      },
      "source": [
        "## 39. Zipfの法則\n",
        "コーパスにおける単語の出現頻度順位を横軸、その出現頻度を縦軸として、両対数グラフをプロットせよ。"
      ]
    },
    {
      "cell_type": "code",
      "source": [
        "import matplotlib.pyplot as plt\n",
        "import numpy as np\n",
        "import math\n",
        "\n",
        "with open(\"jawiki-country.json\")as f:\n",
        "  word=[]\n",
        "  for i in f:\n",
        "    data=json.loads(i)\n",
        "    text=data[\"text\"]\n",
        "\n",
        "    text=re.sub(r\"\\'{2,5}\",\"\",text)\n",
        "    text=re.sub(r\"\\[\\[|\\]\\]\",\"\",text)\n",
        "    text=re.sub(r\"<br>|<ref>|<ref/>|</ref>|<br/>|<br />|\\s/>\",\"\",text)\n",
        "\n",
        "    mecab=MeCab.Tagger(ipadic.MECAB_ARGS)\n",
        "    node=mecab.parseToNode(text)\n",
        "\n",
        "    while node:\n",
        "      a=node.feature.split(\",\")\n",
        "      word.append(node.surface)\n",
        "      node=node.next\n",
        "\n",
        "  count=Counter(word)\n",
        "  rev_count=sorted(count.items(),key=lambda x:x[1],reverse=True)\n",
        "  x=np.arange(1,len(rev_count)+1)\n",
        "  y=[word_count for word,word_count in rev_count]\n",
        "  plt.loglog(x,y)\n",
        "  plt.show()"
      ],
      "metadata": {
        "id": "xCZzDjO_knGO",
        "outputId": "f99a0d89-d863-4e3d-8f18-79f4cb1943a1",
        "colab": {
          "base_uri": "https://localhost:8080/",
          "height": 434
        }
      },
      "id": "xCZzDjO_knGO",
      "execution_count": 72,
      "outputs": [
        {
          "output_type": "display_data",
          "data": {
            "text/plain": [
              "<Figure size 640x480 with 1 Axes>"
            ],
            "image/png": "[encoded data removed]"
          },
          "metadata": {}
        }
      ]
    }
  ],
  "metadata": {
    "colab": {
      "provenance": []
    },
    "kernelspec": {
      "display_name": "Python 3 (ipykernel)",
      "language": "python",
      "name": "python3"
    },
    "language_info": {
      "codemirror_mode": {
        "name": "ipython",
        "version": 3
      },
      "file_extension": ".py",
      "mimetype": "text/x-python",
      "name": "python",
      "nbconvert_exporter": "python",
      "pygments_lexer": "ipython3",
      "version": "3.12.3"
    }
  },
  "nbformat": 4,
  "nbformat_minor": 5
}